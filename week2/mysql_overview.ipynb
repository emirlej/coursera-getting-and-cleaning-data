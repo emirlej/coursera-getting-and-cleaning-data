{
 "cells": [
  {
   "cell_type": "markdown",
   "metadata": {},
   "source": [
    "# Reading from mySQL"
   ]
  },
  {
   "cell_type": "code",
   "execution_count": 1,
   "metadata": {
    "collapsed": true
   },
   "outputs": [],
   "source": [
    "library(DBI)"
   ]
  },
  {
   "cell_type": "markdown",
   "metadata": {},
   "source": [
    "### Example \n",
    "Found on: https://blog.rstudio.org/2015/01/09/rmysql-0-1-0/\n",
    "\n",
    "```r\n",
    "con <- dbConnect(RMySQL::MySQL(),\n",
    "                 username = \"public\",\n",
    "                 password = \"F60RUsyiG579PeKdCH\",\n",
    "                 host = \"173.194.227.144\",\n",
    "                 port = 3306,\n",
    "                 dbname = \"datasets\"\n",
    ")\n",
    "```"
   ]
  },
  {
   "cell_type": "code",
   "execution_count": 2,
   "metadata": {
    "collapsed": false
   },
   "outputs": [
    {
     "data": {
      "text/html": [
       "TRUE"
      ],
      "text/latex": [
       "TRUE"
      ],
      "text/markdown": [
       "TRUE"
      ],
      "text/plain": [
       "[1] TRUE"
      ]
     },
     "metadata": {},
     "output_type": "display_data"
    },
    {
     "data": {
      "text/html": [
       "<table>\n",
       "<thead><tr><th></th><th scope=col>Database</th></tr></thead>\n",
       "<tbody>\n",
       "\t<tr><th scope=row>1</th><td>information_schema</td></tr>\n",
       "\t<tr><th scope=row>2</th><td>ailMel1</td></tr>\n",
       "\t<tr><th scope=row>3</th><td>allMis1</td></tr>\n",
       "\t<tr><th scope=row>4</th><td>anoCar1</td></tr>\n",
       "\t<tr><th scope=row>5</th><td>anoCar2</td></tr>\n",
       "\t<tr><th scope=row>6</th><td>anoGam1</td></tr>\n",
       "\t<tr><th scope=row>7</th><td>apiMel1</td></tr>\n",
       "\t<tr><th scope=row>8</th><td>apiMel2</td></tr>\n",
       "\t<tr><th scope=row>9</th><td>aplCal1</td></tr>\n",
       "\t<tr><th scope=row>10</th><td>aptMan1</td></tr>\n",
       "\t<tr><th scope=row>11</th><td>balAcu1</td></tr>\n",
       "\t<tr><th scope=row>12</th><td>bosTau2</td></tr>\n",
       "\t<tr><th scope=row>13</th><td>bosTau3</td></tr>\n",
       "\t<tr><th scope=row>14</th><td>bosTau4</td></tr>\n",
       "\t<tr><th scope=row>15</th><td>bosTau5</td></tr>\n",
       "\t<tr><th scope=row>16</th><td>bosTau6</td></tr>\n",
       "\t<tr><th scope=row>17</th><td>bosTau7</td></tr>\n",
       "\t<tr><th scope=row>18</th><td>bosTau8</td></tr>\n",
       "\t<tr><th scope=row>19</th><td>bosTauMd3</td></tr>\n",
       "\t<tr><th scope=row>20</th><td>braFlo1</td></tr>\n",
       "\t<tr><th scope=row>21</th><td>caeJap1</td></tr>\n",
       "\t<tr><th scope=row>22</th><td>caePb1</td></tr>\n",
       "\t<tr><th scope=row>23</th><td>caePb2</td></tr>\n",
       "\t<tr><th scope=row>24</th><td>caeRem2</td></tr>\n",
       "\t<tr><th scope=row>25</th><td>caeRem3</td></tr>\n",
       "\t<tr><th scope=row>26</th><td>calJac1</td></tr>\n",
       "\t<tr><th scope=row>27</th><td>calJac3</td></tr>\n",
       "\t<tr><th scope=row>28</th><td>calMil1</td></tr>\n",
       "\t<tr><th scope=row>29</th><td>canFam1</td></tr>\n",
       "\t<tr><th scope=row>30</th><td>canFam2</td></tr>\n",
       "\t<tr><th scope=row>...</th><td>...</td></tr>\n",
       "\t<tr><th scope=row>194</th><td>sorAra1</td></tr>\n",
       "\t<tr><th scope=row>195</th><td>sorAra2</td></tr>\n",
       "\t<tr><th scope=row>196</th><td>sp120323</td></tr>\n",
       "\t<tr><th scope=row>197</th><td>sp121210</td></tr>\n",
       "\t<tr><th scope=row>198</th><td>sp140122</td></tr>\n",
       "\t<tr><th scope=row>199</th><td>sp150225</td></tr>\n",
       "\t<tr><th scope=row>200</th><td>sp160229</td></tr>\n",
       "\t<tr><th scope=row>201</th><td>speTri2</td></tr>\n",
       "\t<tr><th scope=row>202</th><td>strPur1</td></tr>\n",
       "\t<tr><th scope=row>203</th><td>strPur2</td></tr>\n",
       "\t<tr><th scope=row>204</th><td>susScr2</td></tr>\n",
       "\t<tr><th scope=row>205</th><td>susScr3</td></tr>\n",
       "\t<tr><th scope=row>206</th><td>taeGut1</td></tr>\n",
       "\t<tr><th scope=row>207</th><td>taeGut2</td></tr>\n",
       "\t<tr><th scope=row>208</th><td>tarSyr1</td></tr>\n",
       "\t<tr><th scope=row>209</th><td>tarSyr2</td></tr>\n",
       "\t<tr><th scope=row>210</th><td>test</td></tr>\n",
       "\t<tr><th scope=row>211</th><td>tetNig1</td></tr>\n",
       "\t<tr><th scope=row>212</th><td>tetNig2</td></tr>\n",
       "\t<tr><th scope=row>213</th><td>triMan1</td></tr>\n",
       "\t<tr><th scope=row>214</th><td>tupBel1</td></tr>\n",
       "\t<tr><th scope=row>215</th><td>turTru2</td></tr>\n",
       "\t<tr><th scope=row>216</th><td>uniProt</td></tr>\n",
       "\t<tr><th scope=row>217</th><td>vicPac1</td></tr>\n",
       "\t<tr><th scope=row>218</th><td>vicPac2</td></tr>\n",
       "\t<tr><th scope=row>219</th><td>visiGene</td></tr>\n",
       "\t<tr><th scope=row>220</th><td>xenTro1</td></tr>\n",
       "\t<tr><th scope=row>221</th><td>xenTro2</td></tr>\n",
       "\t<tr><th scope=row>222</th><td>xenTro3</td></tr>\n",
       "\t<tr><th scope=row>223</th><td>xenTro7</td></tr>\n",
       "</tbody>\n",
       "</table>\n"
      ],
      "text/latex": [
       "\\begin{tabular}{r|l}\n",
       "  & Database\\\\\n",
       "\\hline\n",
       "\t1 & information\\_schema\\\\\n",
       "\t2 & ailMel1\\\\\n",
       "\t3 & allMis1\\\\\n",
       "\t4 & anoCar1\\\\\n",
       "\t5 & anoCar2\\\\\n",
       "\t6 & anoGam1\\\\\n",
       "\t7 & apiMel1\\\\\n",
       "\t8 & apiMel2\\\\\n",
       "\t9 & aplCal1\\\\\n",
       "\t10 & aptMan1\\\\\n",
       "\t11 & balAcu1\\\\\n",
       "\t12 & bosTau2\\\\\n",
       "\t13 & bosTau3\\\\\n",
       "\t14 & bosTau4\\\\\n",
       "\t15 & bosTau5\\\\\n",
       "\t16 & bosTau6\\\\\n",
       "\t17 & bosTau7\\\\\n",
       "\t18 & bosTau8\\\\\n",
       "\t19 & bosTauMd3\\\\\n",
       "\t20 & braFlo1\\\\\n",
       "\t21 & caeJap1\\\\\n",
       "\t22 & caePb1\\\\\n",
       "\t23 & caePb2\\\\\n",
       "\t24 & caeRem2\\\\\n",
       "\t25 & caeRem3\\\\\n",
       "\t26 & calJac1\\\\\n",
       "\t27 & calJac3\\\\\n",
       "\t28 & calMil1\\\\\n",
       "\t29 & canFam1\\\\\n",
       "\t30 & canFam2\\\\\n",
       "\t... & ...\\\\\n",
       "\t194 & sorAra1\\\\\n",
       "\t195 & sorAra2\\\\\n",
       "\t196 & sp120323\\\\\n",
       "\t197 & sp121210\\\\\n",
       "\t198 & sp140122\\\\\n",
       "\t199 & sp150225\\\\\n",
       "\t200 & sp160229\\\\\n",
       "\t201 & speTri2\\\\\n",
       "\t202 & strPur1\\\\\n",
       "\t203 & strPur2\\\\\n",
       "\t204 & susScr2\\\\\n",
       "\t205 & susScr3\\\\\n",
       "\t206 & taeGut1\\\\\n",
       "\t207 & taeGut2\\\\\n",
       "\t208 & tarSyr1\\\\\n",
       "\t209 & tarSyr2\\\\\n",
       "\t210 & test\\\\\n",
       "\t211 & tetNig1\\\\\n",
       "\t212 & tetNig2\\\\\n",
       "\t213 & triMan1\\\\\n",
       "\t214 & tupBel1\\\\\n",
       "\t215 & turTru2\\\\\n",
       "\t216 & uniProt\\\\\n",
       "\t217 & vicPac1\\\\\n",
       "\t218 & vicPac2\\\\\n",
       "\t219 & visiGene\\\\\n",
       "\t220 & xenTro1\\\\\n",
       "\t221 & xenTro2\\\\\n",
       "\t222 & xenTro3\\\\\n",
       "\t223 & xenTro7\\\\\n",
       "\\end{tabular}\n"
      ],
      "text/plain": [
       "              Database\n",
       "1   information_schema\n",
       "2              ailMel1\n",
       "3              allMis1\n",
       "4              anoCar1\n",
       "5              anoCar2\n",
       "6              anoGam1\n",
       "7              apiMel1\n",
       "8              apiMel2\n",
       "9              aplCal1\n",
       "10             aptMan1\n",
       "11             balAcu1\n",
       "12             bosTau2\n",
       "13             bosTau3\n",
       "14             bosTau4\n",
       "15             bosTau5\n",
       "16             bosTau6\n",
       "17             bosTau7\n",
       "18             bosTau8\n",
       "19           bosTauMd3\n",
       "20             braFlo1\n",
       "21             caeJap1\n",
       "22              caePb1\n",
       "23              caePb2\n",
       "24             caeRem2\n",
       "25             caeRem3\n",
       "26             calJac1\n",
       "27             calJac3\n",
       "28             calMil1\n",
       "29             canFam1\n",
       "30             canFam2\n",
       "...                ...\n",
       "194            sorAra1\n",
       "195            sorAra2\n",
       "196           sp120323\n",
       "197           sp121210\n",
       "198           sp140122\n",
       "199           sp150225\n",
       "200           sp160229\n",
       "201            speTri2\n",
       "202            strPur1\n",
       "203            strPur2\n",
       "204            susScr2\n",
       "205            susScr3\n",
       "206            taeGut1\n",
       "207            taeGut2\n",
       "208            tarSyr1\n",
       "209            tarSyr2\n",
       "210               test\n",
       "211            tetNig1\n",
       "212            tetNig2\n",
       "213            triMan1\n",
       "214            tupBel1\n",
       "215            turTru2\n",
       "216            uniProt\n",
       "217            vicPac1\n",
       "218            vicPac2\n",
       "219           visiGene\n",
       "220            xenTro1\n",
       "221            xenTro2\n",
       "222            xenTro3\n",
       "223            xenTro7"
      ]
     },
     "metadata": {},
     "output_type": "display_data"
    }
   ],
   "source": [
    "# Connecting to the Genome database at UCSC\n",
    "ucscDb <- dbConnect(RMySQL::MySQL(),\n",
    "                    user = \"genome\",\n",
    "                    host = \"genome-mysql.cse.ucsc.edu\")\n",
    "\n",
    "result <- dbGetQuery(ucscDb, \"show databases;\")\n",
    "dbDisconnect(ucscDb)\n",
    "\n",
    "result"
   ]
  },
  {
   "cell_type": "code",
   "execution_count": 3,
   "metadata": {
    "collapsed": true
   },
   "outputs": [],
   "source": [
    "## Connecting to hg19 and listing tables"
   ]
  },
  {
   "cell_type": "code",
   "execution_count": 17,
   "metadata": {
    "collapsed": false
   },
   "outputs": [],
   "source": [
    "hg19 <- dbConnect(RMySQL::MySQL(), user = \"genome\", db = \"hg19\",\n",
    "                  host = \"genome-mysql.cse.ucsc.edu\")\n",
    "\n",
    "allTables <- dbListTables(hg19)"
   ]
  },
  {
   "cell_type": "code",
   "execution_count": 19,
   "metadata": {
    "collapsed": false
   },
   "outputs": [
    {
     "data": {
      "text/html": [
       "11047"
      ],
      "text/latex": [
       "11047"
      ],
      "text/markdown": [
       "11047"
      ],
      "text/plain": [
       "[1] 11047"
      ]
     },
     "metadata": {},
     "output_type": "display_data"
    }
   ],
   "source": [
    "length(allTables)"
   ]
  },
  {
   "cell_type": "code",
   "execution_count": 20,
   "metadata": {
    "collapsed": false
   },
   "outputs": [
    {
     "data": {
      "text/html": [
       "<ol class=list-inline>\n",
       "\t<li>\"HInv\"</li>\n",
       "\t<li>\"HInvGeneMrna\"</li>\n",
       "\t<li>\"acembly\"</li>\n",
       "\t<li>\"acemblyClass\"</li>\n",
       "\t<li>\"acemblyPep\"</li>\n",
       "</ol>\n"
      ],
      "text/latex": [
       "\\begin{enumerate*}\n",
       "\\item \"HInv\"\n",
       "\\item \"HInvGeneMrna\"\n",
       "\\item \"acembly\"\n",
       "\\item \"acemblyClass\"\n",
       "\\item \"acemblyPep\"\n",
       "\\end{enumerate*}\n"
      ],
      "text/markdown": [
       "1. \"HInv\"\n",
       "2. \"HInvGeneMrna\"\n",
       "3. \"acembly\"\n",
       "4. \"acemblyClass\"\n",
       "5. \"acemblyPep\"\n",
       "\n",
       "\n"
      ],
      "text/plain": [
       "[1] \"HInv\"         \"HInvGeneMrna\" \"acembly\"      \"acemblyClass\" \"acemblyPep\"  "
      ]
     },
     "metadata": {},
     "output_type": "display_data"
    }
   ],
   "source": [
    "allTables[1:5]"
   ]
  },
  {
   "cell_type": "code",
   "execution_count": 21,
   "metadata": {
    "collapsed": false
   },
   "outputs": [
    {
     "data": {
      "text/html": [
       "<ol class=list-inline>\n",
       "\t<li>\"bin\"</li>\n",
       "\t<li>\"matches\"</li>\n",
       "\t<li>\"misMatches\"</li>\n",
       "\t<li>\"repMatches\"</li>\n",
       "\t<li>\"nCount\"</li>\n",
       "\t<li>\"qNumInsert\"</li>\n",
       "\t<li>\"qBaseInsert\"</li>\n",
       "\t<li>\"tNumInsert\"</li>\n",
       "\t<li>\"tBaseInsert\"</li>\n",
       "\t<li>\"strand\"</li>\n",
       "\t<li>\"qName\"</li>\n",
       "\t<li>\"qSize\"</li>\n",
       "\t<li>\"qStart\"</li>\n",
       "\t<li>\"qEnd\"</li>\n",
       "\t<li>\"tName\"</li>\n",
       "\t<li>\"tSize\"</li>\n",
       "\t<li>\"tStart\"</li>\n",
       "\t<li>\"tEnd\"</li>\n",
       "\t<li>\"blockCount\"</li>\n",
       "\t<li>\"blockSizes\"</li>\n",
       "\t<li>\"qStarts\"</li>\n",
       "\t<li>\"tStarts\"</li>\n",
       "</ol>\n"
      ],
      "text/latex": [
       "\\begin{enumerate*}\n",
       "\\item \"bin\"\n",
       "\\item \"matches\"\n",
       "\\item \"misMatches\"\n",
       "\\item \"repMatches\"\n",
       "\\item \"nCount\"\n",
       "\\item \"qNumInsert\"\n",
       "\\item \"qBaseInsert\"\n",
       "\\item \"tNumInsert\"\n",
       "\\item \"tBaseInsert\"\n",
       "\\item \"strand\"\n",
       "\\item \"qName\"\n",
       "\\item \"qSize\"\n",
       "\\item \"qStart\"\n",
       "\\item \"qEnd\"\n",
       "\\item \"tName\"\n",
       "\\item \"tSize\"\n",
       "\\item \"tStart\"\n",
       "\\item \"tEnd\"\n",
       "\\item \"blockCount\"\n",
       "\\item \"blockSizes\"\n",
       "\\item \"qStarts\"\n",
       "\\item \"tStarts\"\n",
       "\\end{enumerate*}\n"
      ],
      "text/markdown": [
       "1. \"bin\"\n",
       "2. \"matches\"\n",
       "3. \"misMatches\"\n",
       "4. \"repMatches\"\n",
       "5. \"nCount\"\n",
       "6. \"qNumInsert\"\n",
       "7. \"qBaseInsert\"\n",
       "8. \"tNumInsert\"\n",
       "9. \"tBaseInsert\"\n",
       "10. \"strand\"\n",
       "11. \"qName\"\n",
       "12. \"qSize\"\n",
       "13. \"qStart\"\n",
       "14. \"qEnd\"\n",
       "15. \"tName\"\n",
       "16. \"tSize\"\n",
       "17. \"tStart\"\n",
       "18. \"tEnd\"\n",
       "19. \"blockCount\"\n",
       "20. \"blockSizes\"\n",
       "21. \"qStarts\"\n",
       "22. \"tStarts\"\n",
       "\n",
       "\n"
      ],
      "text/plain": [
       " [1] \"bin\"         \"matches\"     \"misMatches\"  \"repMatches\"  \"nCount\"     \n",
       " [6] \"qNumInsert\"  \"qBaseInsert\" \"tNumInsert\"  \"tBaseInsert\" \"strand\"     \n",
       "[11] \"qName\"       \"qSize\"       \"qStart\"      \"qEnd\"        \"tName\"      \n",
       "[16] \"tSize\"       \"tStart\"      \"tEnd\"        \"blockCount\"  \"blockSizes\" \n",
       "[21] \"qStarts\"     \"tStarts\"    "
      ]
     },
     "metadata": {},
     "output_type": "display_data"
    }
   ],
   "source": [
    "dbListFields(hg19, \"affyU133Plus2\")"
   ]
  },
  {
   "cell_type": "code",
   "execution_count": 22,
   "metadata": {
    "collapsed": false
   },
   "outputs": [
    {
     "data": {
      "text/html": [
       "<table>\n",
       "<thead><tr><th></th><th scope=col>COUNT(*)</th></tr></thead>\n",
       "<tbody>\n",
       "\t<tr><th scope=row>1</th><td>58463</td></tr>\n",
       "</tbody>\n",
       "</table>\n"
      ],
      "text/latex": [
       "\\begin{tabular}{r|l}\n",
       "  & COUNT(*)\\\\\n",
       "\\hline\n",
       "\t1 & 58463\\\\\n",
       "\\end{tabular}\n"
      ],
      "text/plain": [
       "  COUNT(*)\n",
       "1    58463"
      ]
     },
     "metadata": {},
     "output_type": "display_data"
    }
   ],
   "source": [
    "# Number of rows in table\n",
    "dbGetQuery(hg19, \"SELECT COUNT(*) FROM affyU133Plus2\")"
   ]
  },
  {
   "cell_type": "code",
   "execution_count": 23,
   "metadata": {
    "collapsed": false
   },
   "outputs": [],
   "source": [
    "suppressWarnings(affyData <- dbReadTable(hg19, \"affyU133Plus2\"))\n",
    "\n",
    "# Use suppressWarnings to remove the warning"
   ]
  },
  {
   "cell_type": "code",
   "execution_count": 24,
   "metadata": {
    "collapsed": false
   },
   "outputs": [
    {
     "data": {
      "text/html": [
       "<table>\n",
       "<thead><tr><th></th><th scope=col>bin</th><th scope=col>matches</th><th scope=col>misMatches</th><th scope=col>repMatches</th><th scope=col>nCount</th><th scope=col>qNumInsert</th><th scope=col>qBaseInsert</th><th scope=col>tNumInsert</th><th scope=col>tBaseInsert</th><th scope=col>strand</th><th scope=col>...</th><th scope=col>qStart</th><th scope=col>qEnd</th><th scope=col>tName</th><th scope=col>tSize</th><th scope=col>tStart</th><th scope=col>tEnd</th><th scope=col>blockCount</th><th scope=col>blockSizes</th><th scope=col>qStarts</th><th scope=col>tStarts</th></tr></thead>\n",
       "<tbody>\n",
       "\t<tr><th scope=row>1</th><td>585                           </td><td>530                           </td><td>4                             </td><td>0                             </td><td>23                            </td><td>3                             </td><td>41                            </td><td>3                             </td><td>898                           </td><td>-                             </td><td>...                           </td><td>5                             </td><td>603                           </td><td>chr1                          </td><td>249250621                     </td><td>14361                         </td><td>15816                         </td><td>5                             </td><td>93,144,229,70,21,             </td><td>34,132,278,541,611,           </td><td>14361,14454,14599,14968,15795,</td></tr>\n",
       "\t<tr><th scope=row>2</th><td>585                                                                                                   </td><td>3355                                                                                                  </td><td>17                                                                                                    </td><td>0                                                                                                     </td><td>109                                                                                                   </td><td>9                                                                                                     </td><td>67                                                                                                    </td><td>9                                                                                                     </td><td>11621                                                                                                 </td><td>-                                                                                                     </td><td>...                                                                                                   </td><td>0                                                                                                     </td><td>3548                                                                                                  </td><td>chr1                                                                                                  </td><td>249250621                                                                                             </td><td>14381                                                                                                 </td><td>29483                                                                                                 </td><td>17                                                                                                    </td><td>73,375,71,165,303,360,198,661,201,1,260,250,74,73,98,155,163,                                         </td><td>87,165,540,647,818,1123,1484,1682,2343,2545,2546,2808,3058,3133,3206,3317,3472,                       </td><td>14381,14454,14969,15075,15240,15543,15903,16104,16853,17054,17232,17492,17914,17988,18267,24736,29320,</td></tr>\n",
       "\t<tr><th scope=row>3</th><td>585                                                                                                         </td><td>4156                                                                                                        </td><td>14                                                                                                          </td><td>0                                                                                                           </td><td>83                                                                                                          </td><td>16                                                                                                          </td><td>18                                                                                                          </td><td>2                                                                                                           </td><td>93                                                                                                          </td><td>-                                                                                                           </td><td>...                                                                                                         </td><td>3                                                                                                           </td><td>4274                                                                                                        </td><td>chr1                                                                                                        </td><td>249250621                                                                                                   </td><td>14399                                                                                                       </td><td>18745                                                                                                       </td><td>18                                                                                                          </td><td>690,10,32,33,376,4,5,15,5,11,7,41,277,859,141,51,443,1253,                                                  </td><td>44,735,746,779,813,1190,1195,1201,1217,1223,1235,1243,1285,1564,2423,2565,2617,3062,                        </td><td>14399,15089,15099,15131,15164,15540,15544,15549,15564,15569,15580,15587,15628,15906,16857,16998,17049,17492,</td></tr>\n",
       "\t<tr><th scope=row>4</th><td>585                                                                                                                                       </td><td>4667                                                                                                                                      </td><td>9                                                                                                                                         </td><td>0                                                                                                                                         </td><td>68                                                                                                                                        </td><td>21                                                                                                                                        </td><td>42                                                                                                                                        </td><td>3                                                                                                                                         </td><td>5743                                                                                                                                      </td><td>-                                                                                                                                         </td><td>...                                                                                                                                       </td><td>48                                                                                                                                        </td><td>4834                                                                                                                                      </td><td>chr1                                                                                                                                      </td><td>249250621                                                                                                                                 </td><td>14406                                                                                                                                     </td><td>24893                                                                                                                                     </td><td>23                                                                                                                                        </td><td>99,352,286,24,49,14,6,5,8,149,14,44,98,12,10,355,837,59,8,1500,133,624,58,                                                                </td><td>0,99,452,739,764,814,829,836,842,851,1001,1016,1061,1160,1173,1184,1540,2381,2441,2450,3951,4103,4728,                                    </td><td>14406,20227,20579,20865,20889,20938,20952,20958,20963,20971,21120,21134,21178,21276,21288,21298,21653,22492,22551,22559,24059,24211,24835,</td></tr>\n",
       "\t<tr><th scope=row>5</th><td>585                                                               </td><td>5180                                                              </td><td>14                                                                </td><td>0                                                                 </td><td>167                                                               </td><td>10                                                                </td><td>38                                                                </td><td>1                                                                 </td><td>29                                                                </td><td>-                                                                 </td><td>...                                                               </td><td>0                                                                 </td><td>5399                                                              </td><td>chr1                                                              </td><td>249250621                                                         </td><td>19688                                                             </td><td>25078                                                             </td><td>11                                                                </td><td>131,26,1300,6,4,11,4,7,358,3359,155,                              </td><td>0,132,159,1460,1467,1472,1484,1489,1497,1856,5244,                </td><td>19688,19819,19845,21145,21151,21155,21166,21170,21177,21535,24923,</td></tr>\n",
       "\t<tr><th scope=row>6</th><td>585      </td><td>468      </td><td>5        </td><td>0        </td><td>14       </td><td>0        </td><td>0        </td><td>0        </td><td>0        </td><td>-        </td><td>...      </td><td>0        </td><td>487      </td><td>chr1     </td><td>249250621</td><td>27542    </td><td>28029    </td><td>1        </td><td>487,     </td><td>0,       </td><td>27542,   </td></tr>\n",
       "</tbody>\n",
       "</table>\n"
      ],
      "text/latex": [
       "\\begin{tabular}{r|llllllllllllllllllllll}\n",
       "  & bin & matches & misMatches & repMatches & nCount & qNumInsert & qBaseInsert & tNumInsert & tBaseInsert & strand & ... & qStart & qEnd & tName & tSize & tStart & tEnd & blockCount & blockSizes & qStarts & tStarts\\\\\n",
       "\\hline\n",
       "\t1 & 585                            & 530                            & 4                              & 0                              & 23                             & 3                              & 41                             & 3                              & 898                            & -                              & ...                            & 5                              & 603                            & chr1                           & 249250621                      & 14361                          & 15816                          & 5                              & 93,144,229,70,21,              & 34,132,278,541,611,            & 14361,14454,14599,14968,15795,\\\\\n",
       "\t2 & 585                                                                                                    & 3355                                                                                                   & 17                                                                                                     & 0                                                                                                      & 109                                                                                                    & 9                                                                                                      & 67                                                                                                     & 9                                                                                                      & 11621                                                                                                  & -                                                                                                      & ...                                                                                                    & 0                                                                                                      & 3548                                                                                                   & chr1                                                                                                   & 249250621                                                                                              & 14381                                                                                                  & 29483                                                                                                  & 17                                                                                                     & 73,375,71,165,303,360,198,661,201,1,260,250,74,73,98,155,163,                                          & 87,165,540,647,818,1123,1484,1682,2343,2545,2546,2808,3058,3133,3206,3317,3472,                        & 14381,14454,14969,15075,15240,15543,15903,16104,16853,17054,17232,17492,17914,17988,18267,24736,29320,\\\\\n",
       "\t3 & 585                                                                                                          & 4156                                                                                                         & 14                                                                                                           & 0                                                                                                            & 83                                                                                                           & 16                                                                                                           & 18                                                                                                           & 2                                                                                                            & 93                                                                                                           & -                                                                                                            & ...                                                                                                          & 3                                                                                                            & 4274                                                                                                         & chr1                                                                                                         & 249250621                                                                                                    & 14399                                                                                                        & 18745                                                                                                        & 18                                                                                                           & 690,10,32,33,376,4,5,15,5,11,7,41,277,859,141,51,443,1253,                                                   & 44,735,746,779,813,1190,1195,1201,1217,1223,1235,1243,1285,1564,2423,2565,2617,3062,                         & 14399,15089,15099,15131,15164,15540,15544,15549,15564,15569,15580,15587,15628,15906,16857,16998,17049,17492,\\\\\n",
       "\t4 & 585                                                                                                                                        & 4667                                                                                                                                       & 9                                                                                                                                          & 0                                                                                                                                          & 68                                                                                                                                         & 21                                                                                                                                         & 42                                                                                                                                         & 3                                                                                                                                          & 5743                                                                                                                                       & -                                                                                                                                          & ...                                                                                                                                        & 48                                                                                                                                         & 4834                                                                                                                                       & chr1                                                                                                                                       & 249250621                                                                                                                                  & 14406                                                                                                                                      & 24893                                                                                                                                      & 23                                                                                                                                         & 99,352,286,24,49,14,6,5,8,149,14,44,98,12,10,355,837,59,8,1500,133,624,58,                                                                 & 0,99,452,739,764,814,829,836,842,851,1001,1016,1061,1160,1173,1184,1540,2381,2441,2450,3951,4103,4728,                                     & 14406,20227,20579,20865,20889,20938,20952,20958,20963,20971,21120,21134,21178,21276,21288,21298,21653,22492,22551,22559,24059,24211,24835,\\\\\n",
       "\t5 & 585                                                                & 5180                                                               & 14                                                                 & 0                                                                  & 167                                                                & 10                                                                 & 38                                                                 & 1                                                                  & 29                                                                 & -                                                                  & ...                                                                & 0                                                                  & 5399                                                               & chr1                                                               & 249250621                                                          & 19688                                                              & 25078                                                              & 11                                                                 & 131,26,1300,6,4,11,4,7,358,3359,155,                               & 0,132,159,1460,1467,1472,1484,1489,1497,1856,5244,                 & 19688,19819,19845,21145,21151,21155,21166,21170,21177,21535,24923,\\\\\n",
       "\t6 & 585       & 468       & 5         & 0         & 14        & 0         & 0         & 0         & 0         & -         & ...       & 0         & 487       & chr1      & 249250621 & 27542     & 28029     & 1         & 487,      & 0,        & 27542,   \\\\\n",
       "\\end{tabular}\n"
      ],
      "text/plain": [
       "  bin matches misMatches repMatches nCount qNumInsert qBaseInsert tNumInsert\n",
       "1 585     530          4          0     23          3          41          3\n",
       "2 585    3355         17          0    109          9          67          9\n",
       "3 585    4156         14          0     83         16          18          2\n",
       "4 585    4667          9          0     68         21          42          3\n",
       "5 585    5180         14          0    167         10          38          1\n",
       "6 585     468          5          0     14          0           0          0\n",
       "  tBaseInsert strand ... qStart qEnd tName     tSize tStart  tEnd blockCount\n",
       "1         898      - ...      5  603  chr1 249250621  14361 15816          5\n",
       "2       11621      - ...      0 3548  chr1 249250621  14381 29483         17\n",
       "3          93      - ...      3 4274  chr1 249250621  14399 18745         18\n",
       "4        5743      - ...     48 4834  chr1 249250621  14406 24893         23\n",
       "5          29      - ...      0 5399  chr1 249250621  19688 25078         11\n",
       "6           0      - ...      0  487  chr1 249250621  27542 28029          1\n",
       "                                                                  blockSizes\n",
       "1                                                          93,144,229,70,21,\n",
       "2              73,375,71,165,303,360,198,661,201,1,260,250,74,73,98,155,163,\n",
       "3                 690,10,32,33,376,4,5,15,5,11,7,41,277,859,141,51,443,1253,\n",
       "4 99,352,286,24,49,14,6,5,8,149,14,44,98,12,10,355,837,59,8,1500,133,624,58,\n",
       "5                                       131,26,1300,6,4,11,4,7,358,3359,155,\n",
       "6                                                                       487,\n",
       "                                                                                                 qStarts\n",
       "1                                                                                    34,132,278,541,611,\n",
       "2                        87,165,540,647,818,1123,1484,1682,2343,2545,2546,2808,3058,3133,3206,3317,3472,\n",
       "3                   44,735,746,779,813,1190,1195,1201,1217,1223,1235,1243,1285,1564,2423,2565,2617,3062,\n",
       "4 0,99,452,739,764,814,829,836,842,851,1001,1016,1061,1160,1173,1184,1540,2381,2441,2450,3951,4103,4728,\n",
       "5                                                     0,132,159,1460,1467,1472,1484,1489,1497,1856,5244,\n",
       "6                                                                                                     0,\n",
       "                                                                                                                                     tStarts\n",
       "1                                                                                                             14361,14454,14599,14968,15795,\n",
       "2                                     14381,14454,14969,15075,15240,15543,15903,16104,16853,17054,17232,17492,17914,17988,18267,24736,29320,\n",
       "3                               14399,15089,15099,15131,15164,15540,15544,15549,15564,15569,15580,15587,15628,15906,16857,16998,17049,17492,\n",
       "4 14406,20227,20579,20865,20889,20938,20952,20958,20963,20971,21120,21134,21178,21276,21288,21298,21653,22492,22551,22559,24059,24211,24835,\n",
       "5                                                                         19688,19819,19845,21145,21151,21155,21166,21170,21177,21535,24923,\n",
       "6                                                                                                                                     27542,"
      ]
     },
     "metadata": {},
     "output_type": "display_data"
    }
   ],
   "source": [
    "head(affyData)"
   ]
  },
  {
   "cell_type": "code",
   "execution_count": 11,
   "metadata": {
    "collapsed": false
   },
   "outputs": [
    {
     "ename": "ERROR",
     "evalue": "Error in str(affyData): object 'affyData' not found\n",
     "output_type": "error",
     "traceback": [
      "Error in str(affyData): object 'affyData' not found\nTraceback:\n",
      "1. str(affyData)"
     ]
    }
   ],
   "source": [
    "str(affyData)"
   ]
  },
  {
   "cell_type": "markdown",
   "metadata": {},
   "source": [
    "### Select a specific subset"
   ]
  },
  {
   "cell_type": "code",
   "execution_count": 12,
   "metadata": {
    "collapsed": false
   },
   "outputs": [
    {
     "ename": "ERROR",
     "evalue": "Error in .local(conn, statement, ...): connection with pending rows, close resultSet before continuing\n",
     "output_type": "error",
     "traceback": [
      "Error in .local(conn, statement, ...): connection with pending rows, close resultSet before continuing\nTraceback:\n",
      "1. dbSendQuery(hg19, \"SELECT * FROM affyU133Plus2 WHERE misMatches BETWEEN 1 AND 3\")",
      "2. dbSendQuery(hg19, \"SELECT * FROM affyU133Plus2 WHERE misMatches BETWEEN 1 AND 3\")",
      "3. .local(conn, statement, ...)"
     ]
    }
   ],
   "source": [
    "query <- dbSendQuery(hg19, \"SELECT * FROM affyU133Plus2 WHERE misMatches BETWEEN 1 AND 3\")"
   ]
  },
  {
   "cell_type": "code",
   "execution_count": 13,
   "metadata": {
    "collapsed": false
   },
   "outputs": [
    {
     "ename": "ERROR",
     "evalue": "Error in fetch(query): object 'query' not found\n",
     "output_type": "error",
     "traceback": [
      "Error in fetch(query): object 'query' not found\nTraceback:\n",
      "1. fetch(query)"
     ]
    }
   ],
   "source": [
    "affyMis <- fetch(query)\n",
    "quantile(affyMis$misMatches)"
   ]
  },
  {
   "cell_type": "code",
   "execution_count": 14,
   "metadata": {
    "collapsed": false
   },
   "outputs": [
    {
     "name": "stderr",
     "output_type": "stream",
     "text": [
      "Warning message:\n",
      ": Closing open result sets"
     ]
    },
    {
     "data": {
      "text/html": [
       "TRUE"
      ],
      "text/latex": [
       "TRUE"
      ],
      "text/markdown": [
       "TRUE"
      ],
      "text/plain": [
       "[1] TRUE"
      ]
     },
     "metadata": {},
     "output_type": "display_data"
    }
   ],
   "source": [
    "dbDisconnect(hg19)"
   ]
  }
 ],
 "metadata": {
  "kernelspec": {
   "display_name": "R",
   "language": "R",
   "name": "ir"
  },
  "language_info": {
   "codemirror_mode": "r",
   "file_extension": ".r",
   "mimetype": "text/x-r-source",
   "name": "R",
   "pygments_lexer": "r",
   "version": "3.3.1"
  }
 },
 "nbformat": 4,
 "nbformat_minor": 0
}
