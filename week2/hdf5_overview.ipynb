{
 "cells": [
  {
   "cell_type": "markdown",
   "metadata": {},
   "source": [
    "# HDF5\n",
    "\n",
    "- Used for storing large data sets\n",
    "- Supports storing a range of data types\n",
    "- Heirarchical data format\n",
    "\n",
    "More info can be found at http://www.hdfgroup.org/"
   ]
  },
  {
   "cell_type": "code",
   "execution_count": 1,
   "metadata": {
    "collapsed": false
   },
   "outputs": [
    {
     "name": "stderr",
     "output_type": "stream",
     "text": [
      "Installing package into 'C:/Users/emirl/Documents/R/win-library/3.3'\n",
      "(as 'lib' is unspecified)\n"
     ]
    },
    {
     "name": "stdout",
     "output_type": "stream",
     "text": [
      "package 'BiocInstaller' successfully unpacked and MD5 sums checked\n",
      "\n",
      "The downloaded binary packages are in\n",
      "\tC:\\Users\\emirl\\AppData\\Local\\Temp\\Rtmpao2aJp\\downloaded_packages\n"
     ]
    },
    {
     "name": "stderr",
     "output_type": "stream",
     "text": [
      "Bioconductor version 3.3 (BiocInstaller 1.22.3), ?biocLite for help\n",
      "BioC_mirror: https://bioconductor.org\n",
      "Using Bioconductor 3.3 (BiocInstaller 1.22.3), R 3.3.1 (2016-06-21).\n",
      "Installing package(s) 'rhdf5'\n",
      "also installing the dependency 'zlibbioc'\n",
      "\n"
     ]
    },
    {
     "name": "stdout",
     "output_type": "stream",
     "text": [
      "package 'zlibbioc' successfully unpacked and MD5 sums checked\n",
      "package 'rhdf5' successfully unpacked and MD5 sums checked\n",
      "\n",
      "The downloaded binary packages are in\n",
      "\tC:\\Users\\emirl\\AppData\\Local\\Temp\\Rtmpao2aJp\\downloaded_packages\n"
     ]
    },
    {
     "name": "stderr",
     "output_type": "stream",
     "text": [
      "Old packages: 'car', 'caret', 'cluster', 'codetools', 'colorspace', 'curl',\n",
      "  'DBI', 'digest', 'dplyr', 'evaluate', 'foreign', 'htmlwidgets', 'httr',\n",
      "  'IRdisplay', 'jsonlite', 'knitr', 'lattice', 'maps', 'Matrix', 'mgcv',\n",
      "  'mime', 'pbdZMQ', 'quantmod', 'quantreg', 'R6', 'rbokeh', 'Rcpp',\n",
      "  'RcppEigen', 'repr', 'rmarkdown', 'shiny', 'SparseM', 'stringi', 'stringr',\n",
      "  'survival', 'tibble', 'tidyr'\n"
     ]
    }
   ],
   "source": [
    "# First time we need to do this\n",
    "source(\"http://bioconductor.org/biocLite.R\")\n",
    "biocLite(\"rhdf5\")"
   ]
  },
  {
   "cell_type": "markdown",
   "metadata": {},
   "source": [
    "- This will install packages from Bioconductor primarily used for genomics, but also has good \"big data\" packages.\n",
    "- Can be used to interface with hdf5 datasets"
   ]
  },
  {
   "cell_type": "code",
   "execution_count": 2,
   "metadata": {
    "collapsed": false
   },
   "outputs": [
    {
     "data": {
      "text/html": [
       "TRUE"
      ],
      "text/latex": [
       "TRUE"
      ],
      "text/markdown": [
       "TRUE"
      ],
      "text/plain": [
       "[1] TRUE"
      ]
     },
     "metadata": {},
     "output_type": "display_data"
    }
   ],
   "source": [
    "library(rhdf5)\n",
    "created <- h5createFile(\"example.h5\")\n",
    "created"
   ]
  },
  {
   "cell_type": "markdown",
   "metadata": {},
   "source": [
    "### Create groups"
   ]
  },
  {
   "cell_type": "code",
   "execution_count": 4,
   "metadata": {
    "collapsed": false
   },
   "outputs": [
    {
     "data": {
      "text/html": [
       "<table>\n",
       "<thead><tr><th></th><th scope=col>group</th><th scope=col>name</th><th scope=col>otype</th><th scope=col>dclass</th><th scope=col>dim</th></tr></thead>\n",
       "<tbody>\n",
       "\t<tr><th scope=row>0</th><td>/        </td><td>bar      </td><td>H5I_GROUP</td><td>         </td><td>         </td></tr>\n",
       "\t<tr><th scope=row>1</th><td>/        </td><td>foo      </td><td>H5I_GROUP</td><td>         </td><td>         </td></tr>\n",
       "\t<tr><th scope=row>2</th><td>/foo     </td><td>baz      </td><td>H5I_GROUP</td><td>         </td><td>         </td></tr>\n",
       "</tbody>\n",
       "</table>\n"
      ],
      "text/latex": [
       "\\begin{tabular}{r|lllll}\n",
       "  & group & name & otype & dclass & dim\\\\\n",
       "\\hline\n",
       "\t0 & /           & bar         & H5I\\_GROUP &             &            \\\\\n",
       "\t1 & /           & foo         & H5I\\_GROUP &             &            \\\\\n",
       "\t2 & /foo        & baz         & H5I\\_GROUP &             &            \\\\\n",
       "\\end{tabular}\n"
      ],
      "text/plain": [
       "  group name     otype dclass dim\n",
       "0     /  bar H5I_GROUP           \n",
       "1     /  foo H5I_GROUP           \n",
       "2  /foo  baz H5I_GROUP           "
      ]
     },
     "metadata": {},
     "output_type": "display_data"
    }
   ],
   "source": [
    "created <- h5createGroup(\"example.h5\", \"foo\")\n",
    "created <- h5createGroup(\"example.h5\", \"bar\")\n",
    "created <- h5createGroup(\"example.h5\", \"foo/baz\")\n",
    "h5ls(\"example.h5\")"
   ]
  },
  {
   "cell_type": "markdown",
   "metadata": {},
   "source": [
    "### Write to groups"
   ]
  },
  {
   "cell_type": "code",
   "execution_count": 6,
   "metadata": {
    "collapsed": false
   },
   "outputs": [],
   "source": [
    "A <- matrix(1:10, nrow = 5)\n",
    "h5write(A, \"example.h5\", \"foo/A\")"
   ]
  },
  {
   "cell_type": "code",
   "execution_count": 7,
   "metadata": {
    "collapsed": true
   },
   "outputs": [],
   "source": [
    "# Multidim. array\n",
    "B <- array(seq(0.1, 2.0, by=0.1), dim=c(5, 2, 2))\n",
    "attr(B, \"scale\") <- \"liter\"\n",
    "h5write(B, \"example.h5\", \"foo/baz/N\")"
   ]
  },
  {
   "cell_type": "code",
   "execution_count": 8,
   "metadata": {
    "collapsed": false
   },
   "outputs": [
    {
     "data": {
      "text/html": [
       "<table>\n",
       "<thead><tr><th></th><th scope=col>group</th><th scope=col>name</th><th scope=col>otype</th><th scope=col>dclass</th><th scope=col>dim</th></tr></thead>\n",
       "<tbody>\n",
       "\t<tr><th scope=row>0</th><td>/        </td><td>bar      </td><td>H5I_GROUP</td><td>         </td><td>         </td></tr>\n",
       "\t<tr><th scope=row>1</th><td>/        </td><td>foo      </td><td>H5I_GROUP</td><td>         </td><td>         </td></tr>\n",
       "\t<tr><th scope=row>2</th><td>/foo       </td><td>A          </td><td>H5I_DATASET</td><td>INTEGER    </td><td>5 x 2      </td></tr>\n",
       "\t<tr><th scope=row>3</th><td>/foo     </td><td>baz      </td><td>H5I_GROUP</td><td>         </td><td>         </td></tr>\n",
       "\t<tr><th scope=row>4</th><td>/foo/baz   </td><td>N          </td><td>H5I_DATASET</td><td>FLOAT      </td><td>5 x 2 x 2  </td></tr>\n",
       "</tbody>\n",
       "</table>\n"
      ],
      "text/latex": [
       "\\begin{tabular}{r|lllll}\n",
       "  & group & name & otype & dclass & dim\\\\\n",
       "\\hline\n",
       "\t0 & /           & bar         & H5I\\_GROUP &             &            \\\\\n",
       "\t1 & /           & foo         & H5I\\_GROUP &             &            \\\\\n",
       "\t2 & /foo          & A             & H5I\\_DATASET & INTEGER       & 5 x 2        \\\\\n",
       "\t3 & /foo        & baz         & H5I\\_GROUP &             &            \\\\\n",
       "\t4 & /foo/baz      & N             & H5I\\_DATASET & FLOAT         & 5 x 2 x 2    \\\\\n",
       "\\end{tabular}\n"
      ],
      "text/plain": [
       "     group name       otype  dclass       dim\n",
       "0        /  bar   H5I_GROUP                  \n",
       "1        /  foo   H5I_GROUP                  \n",
       "2     /foo    A H5I_DATASET INTEGER     5 x 2\n",
       "3     /foo  baz   H5I_GROUP                  \n",
       "4 /foo/baz    N H5I_DATASET   FLOAT 5 x 2 x 2"
      ]
     },
     "metadata": {},
     "output_type": "display_data"
    }
   ],
   "source": [
    "h5ls(\"example.h5\")"
   ]
  },
  {
   "cell_type": "markdown",
   "metadata": {},
   "source": [
    "### Write df to top level"
   ]
  },
  {
   "cell_type": "code",
   "execution_count": 18,
   "metadata": {
    "collapsed": false
   },
   "outputs": [
    {
     "data": {
      "text/html": [
       "<table>\n",
       "<thead><tr><th></th><th scope=col>X1L.5L</th><th scope=col>seq.0..1..length.out...5.</th><th scope=col>c..ab....cde....fghi....a....s..</th></tr></thead>\n",
       "<tbody>\n",
       "\t<tr><th scope=row>1</th><td>1 </td><td>0 </td><td>ab</td></tr>\n",
       "\t<tr><th scope=row>2</th><td>2   </td><td>0.25</td><td>cde </td></tr>\n",
       "\t<tr><th scope=row>3</th><td>3   </td><td>0.5 </td><td>fghi</td></tr>\n",
       "\t<tr><th scope=row>4</th><td>4   </td><td>0.75</td><td>a   </td></tr>\n",
       "\t<tr><th scope=row>5</th><td>5</td><td>1</td><td>s</td></tr>\n",
       "</tbody>\n",
       "</table>\n"
      ],
      "text/latex": [
       "\\begin{tabular}{r|lll}\n",
       "  & X1L.5L & seq.0..1..length.out...5. & c..ab....cde....fghi....a....s..\\\\\n",
       "\\hline\n",
       "\t1 & 1  & 0  & ab\\\\\n",
       "\t2 & 2    & 0.25 & cde \\\\\n",
       "\t3 & 3    & 0.5  & fghi\\\\\n",
       "\t4 & 4    & 0.75 & a   \\\\\n",
       "\t5 & 5 & 1 & s\\\\\n",
       "\\end{tabular}\n"
      ],
      "text/plain": [
       "  X1L.5L seq.0..1..length.out...5. c..ab....cde....fghi....a....s..\n",
       "1      1                      0.00                               ab\n",
       "2      2                      0.25                              cde\n",
       "3      3                      0.50                             fghi\n",
       "4      4                      0.75                                a\n",
       "5      5                      1.00                                s"
      ]
     },
     "metadata": {},
     "output_type": "display_data"
    }
   ],
   "source": [
    "df <- data.frame(1L:5L, seq(0, 1, length.out = 5), c(\"ab\", \"cde\", \"fghi\", \"a\", \"s\"), stringsAsFactors=FALSE)\n",
    "df"
   ]
  },
  {
   "cell_type": "code",
   "execution_count": 21,
   "metadata": {
    "collapsed": false
   },
   "outputs": [
    {
     "name": "stderr",
     "output_type": "stream",
     "text": [
      "Warning message:\n",
      "In h5checktypeOrOpenLoc(file, readonly = TRUE): An open HDF5 file handle exists. If the file has changed on disk meanwhile, the function may not work properly. Run 'H5close()' to close all open HDF5 object handles."
     ]
    },
    {
     "data": {
      "text/html": [
       "<table>\n",
       "<thead><tr><th></th><th scope=col>group</th><th scope=col>name</th><th scope=col>otype</th><th scope=col>dclass</th><th scope=col>dim</th></tr></thead>\n",
       "<tbody>\n",
       "\t<tr><th scope=row>0</th><td>/        </td><td>bar      </td><td>H5I_GROUP</td><td>         </td><td>         </td></tr>\n",
       "\t<tr><th scope=row>1</th><td>/          </td><td>df         </td><td>H5I_DATASET</td><td>COMPOUND   </td><td>5          </td></tr>\n",
       "\t<tr><th scope=row>2</th><td>/        </td><td>foo      </td><td>H5I_GROUP</td><td>         </td><td>         </td></tr>\n",
       "\t<tr><th scope=row>3</th><td>/foo       </td><td>A          </td><td>H5I_DATASET</td><td>INTEGER    </td><td>5 x 2      </td></tr>\n",
       "\t<tr><th scope=row>4</th><td>/foo     </td><td>baz      </td><td>H5I_GROUP</td><td>         </td><td>         </td></tr>\n",
       "\t<tr><th scope=row>5</th><td>/foo/baz   </td><td>N          </td><td>H5I_DATASET</td><td>FLOAT      </td><td>5 x 2 x 2  </td></tr>\n",
       "</tbody>\n",
       "</table>\n"
      ],
      "text/latex": [
       "\\begin{tabular}{r|lllll}\n",
       "  & group & name & otype & dclass & dim\\\\\n",
       "\\hline\n",
       "\t0 & /           & bar         & H5I\\_GROUP &             &            \\\\\n",
       "\t1 & /             & df            & H5I\\_DATASET & COMPOUND      & 5            \\\\\n",
       "\t2 & /           & foo         & H5I\\_GROUP &             &            \\\\\n",
       "\t3 & /foo          & A             & H5I\\_DATASET & INTEGER       & 5 x 2        \\\\\n",
       "\t4 & /foo        & baz         & H5I\\_GROUP &             &            \\\\\n",
       "\t5 & /foo/baz      & N             & H5I\\_DATASET & FLOAT         & 5 x 2 x 2    \\\\\n",
       "\\end{tabular}\n"
      ],
      "text/plain": [
       "     group name       otype   dclass       dim\n",
       "0        /  bar   H5I_GROUP                   \n",
       "1        /   df H5I_DATASET COMPOUND         5\n",
       "2        /  foo   H5I_GROUP                   \n",
       "3     /foo    A H5I_DATASET  INTEGER     5 x 2\n",
       "4     /foo  baz   H5I_GROUP                   \n",
       "5 /foo/baz    N H5I_DATASET    FLOAT 5 x 2 x 2"
      ]
     },
     "metadata": {},
     "output_type": "display_data"
    }
   ],
   "source": [
    "h5write(df, \"example.h5\", \"df\")\n",
    "h5ls(\"example.h5\")"
   ]
  },
  {
   "cell_type": "markdown",
   "metadata": {},
   "source": [
    "### Reading data"
   ]
  },
  {
   "cell_type": "code",
   "execution_count": 23,
   "metadata": {
    "collapsed": false
   },
   "outputs": [
    {
     "name": "stderr",
     "output_type": "stream",
     "text": [
      "Warning message:\n",
      "In h5checktypeOrOpenLoc(file, readonly = TRUE): An open HDF5 file handle exists. If the file has changed on disk meanwhile, the function may not work properly. Run 'H5close()' to close all open HDF5 object handles."
     ]
    },
    {
     "name": "stdout",
     "output_type": "stream",
     "text": [
      "     [,1] [,2]\n",
      "[1,]    1    6\n",
      "[2,]    2    7\n",
      "[3,]    3    8\n",
      "[4,]    4    9\n",
      "[5,]    5   10\n"
     ]
    }
   ],
   "source": [
    "readA <- h5read(\"example.h5\", \"foo/A\")\n",
    "print(readA)"
   ]
  },
  {
   "cell_type": "markdown",
   "metadata": {},
   "source": [
    "### Write and reading chunks"
   ]
  },
  {
   "cell_type": "code",
   "execution_count": 24,
   "metadata": {
    "collapsed": false
   },
   "outputs": [
    {
     "name": "stderr",
     "output_type": "stream",
     "text": [
      "Warning message:\n",
      "In h5checktypeOrOpenLoc(file): An open HDF5 file handle exists. If the file has changed on disk meanwhile, the function may not work properly. Run 'H5close()' to close all open HDF5 object handles.Warning message:\n",
      "In h5checktypeOrOpenLoc(file, readonly = TRUE): An open HDF5 file handle exists. If the file has changed on disk meanwhile, the function may not work properly. Run 'H5close()' to close all open HDF5 object handles."
     ]
    },
    {
     "data": {
      "text/html": [
       "<table>\n",
       "<tbody>\n",
       "\t<tr><td>12</td><td> 6</td></tr>\n",
       "\t<tr><td>13</td><td> 7</td></tr>\n",
       "\t<tr><td>14</td><td> 8</td></tr>\n",
       "\t<tr><td>4</td><td>9</td></tr>\n",
       "\t<tr><td> 5</td><td>10</td></tr>\n",
       "</tbody>\n",
       "</table>\n"
      ],
      "text/latex": [
       "\\begin{tabular}{ll}\n",
       "\t 12 &  6\\\\\n",
       "\t 13 &  7\\\\\n",
       "\t 14 &  8\\\\\n",
       "\t 4 & 9\\\\\n",
       "\t  5 & 10\\\\\n",
       "\\end{tabular}\n"
      ],
      "text/markdown": [
       "1. 12\n",
       "2. 13\n",
       "3. 14\n",
       "4. 4\n",
       "5. 5\n",
       "6. 6\n",
       "7. 7\n",
       "8. 8\n",
       "9. 9\n",
       "10. 10\n",
       "\n",
       "\n"
      ],
      "text/plain": [
       "     [,1] [,2]\n",
       "[1,]   12    6\n",
       "[2,]   13    7\n",
       "[3,]   14    8\n",
       "[4,]    4    9\n",
       "[5,]    5   10"
      ]
     },
     "metadata": {},
     "output_type": "display_data"
    }
   ],
   "source": [
    "h5write(c(12, 13, 14), \"example.h5\", \"foo/A\", index=list(1:3, 1)) # Insert new values to row 1-3 column 1\n",
    "h5read(\"example.h5\", \"foo/A\")"
   ]
  }
 ],
 "metadata": {
  "kernelspec": {
   "display_name": "R",
   "language": "R",
   "name": "ir"
  },
  "language_info": {
   "codemirror_mode": "r",
   "file_extension": ".r",
   "mimetype": "text/x-r-source",
   "name": "R",
   "pygments_lexer": "r",
   "version": "3.3.1"
  }
 },
 "nbformat": 4,
 "nbformat_minor": 0
}
