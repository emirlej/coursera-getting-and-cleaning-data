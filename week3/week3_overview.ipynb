{
 "cells": [
  {
   "cell_type": "markdown",
   "metadata": {},
   "source": [
    "# Subsetting and sorting"
   ]
  },
  {
   "cell_type": "code",
   "execution_count": 1,
   "metadata": {
    "collapsed": false
   },
   "outputs": [
    {
     "data": {
      "text/html": [
       "<table>\n",
       "<thead><tr><th></th><th scope=col>var1</th><th scope=col>var2</th><th scope=col>var3</th></tr></thead>\n",
       "<tbody>\n",
       "\t<tr><th scope=row>1</th><td> 2</td><td> 8</td><td>15</td></tr>\n",
       "\t<tr><th scope=row>2</th><td> 3</td><td> 7</td><td>12</td></tr>\n",
       "\t<tr><th scope=row>3</th><td> 5</td><td> 6</td><td>14</td></tr>\n",
       "\t<tr><th scope=row>4</th><td> 1</td><td>10</td><td>11</td></tr>\n",
       "\t<tr><th scope=row>5</th><td> 4</td><td> 9</td><td>13</td></tr>\n",
       "</tbody>\n",
       "</table>\n"
      ],
      "text/latex": [
       "\\begin{tabular}{r|lll}\n",
       "  & var1 & var2 & var3\\\\\n",
       "\\hline\n",
       "\t1 &  2 &  8 & 15\\\\\n",
       "\t2 &  3 &  7 & 12\\\\\n",
       "\t3 &  5 &  6 & 14\\\\\n",
       "\t4 &  1 & 10 & 11\\\\\n",
       "\t5 &  4 &  9 & 13\\\\\n",
       "\\end{tabular}\n"
      ],
      "text/plain": [
       "  var1 var2 var3\n",
       "1    2    8   15\n",
       "2    3    7   12\n",
       "3    5    6   14\n",
       "4    1   10   11\n",
       "5    4    9   13"
      ]
     },
     "metadata": {},
     "output_type": "display_data"
    }
   ],
   "source": [
    "set.seed(13435)\n",
    "X <- data.frame(\"var1\"=sample(1:5), var2=sample(6:10), var3=sample(11:15))\n",
    "X"
   ]
  },
  {
   "cell_type": "code",
   "execution_count": 2,
   "metadata": {
    "collapsed": false
   },
   "outputs": [
    {
     "data": {
      "text/html": [
       "<table>\n",
       "<thead><tr><th></th><th scope=col>var1</th><th scope=col>var2</th><th scope=col>var3</th></tr></thead>\n",
       "<tbody>\n",
       "\t<tr><th scope=row>1</th><td> 2</td><td>NA</td><td>15</td></tr>\n",
       "\t<tr><th scope=row>4</th><td> 1</td><td>10</td><td>11</td></tr>\n",
       "\t<tr><th scope=row>2</th><td> 3</td><td>NA</td><td>12</td></tr>\n",
       "\t<tr><th scope=row>3</th><td> 5</td><td> 6</td><td>14</td></tr>\n",
       "\t<tr><th scope=row>5</th><td> 4</td><td> 9</td><td>13</td></tr>\n",
       "</tbody>\n",
       "</table>\n"
      ],
      "text/latex": [
       "\\begin{tabular}{r|lll}\n",
       "  & var1 & var2 & var3\\\\\n",
       "\\hline\n",
       "\t1 &  2 & NA & 15\\\\\n",
       "\t4 &  1 & 10 & 11\\\\\n",
       "\t2 &  3 & NA & 12\\\\\n",
       "\t3 &  5 &  6 & 14\\\\\n",
       "\t5 &  4 &  9 & 13\\\\\n",
       "\\end{tabular}\n"
      ],
      "text/plain": [
       "  var1 var2 var3\n",
       "1    2   NA   15\n",
       "4    1   10   11\n",
       "2    3   NA   12\n",
       "3    5    6   14\n",
       "5    4    9   13"
      ]
     },
     "metadata": {},
     "output_type": "display_data"
    }
   ],
   "source": [
    "X <- X[sample(1:5), ]\n",
    "X$var2[c(1, 3)] <- NA\n",
    "X"
   ]
  },
  {
   "cell_type": "code",
   "execution_count": 3,
   "metadata": {
    "collapsed": false
   },
   "outputs": [
    {
     "data": {
      "text/html": [
       "<ol class=list-inline>\n",
       "\t<li>2</li>\n",
       "\t<li>1</li>\n",
       "\t<li>3</li>\n",
       "\t<li>5</li>\n",
       "\t<li>4</li>\n",
       "</ol>\n"
      ],
      "text/latex": [
       "\\begin{enumerate*}\n",
       "\\item 2\n",
       "\\item 1\n",
       "\\item 3\n",
       "\\item 5\n",
       "\\item 4\n",
       "\\end{enumerate*}\n"
      ],
      "text/markdown": [
       "1. 2\n",
       "2. 1\n",
       "3. 3\n",
       "4. 5\n",
       "5. 4\n",
       "\n",
       "\n"
      ],
      "text/plain": [
       "[1] 2 1 3 5 4"
      ]
     },
     "metadata": {},
     "output_type": "display_data"
    }
   ],
   "source": [
    "X[, 1]"
   ]
  },
  {
   "cell_type": "code",
   "execution_count": 4,
   "metadata": {
    "collapsed": false
   },
   "outputs": [
    {
     "data": {
      "text/html": [
       "<ol class=list-inline>\n",
       "\t<li>NA</li>\n",
       "\t<li>10</li>\n",
       "</ol>\n"
      ],
      "text/latex": [
       "\\begin{enumerate*}\n",
       "\\item NA\n",
       "\\item 10\n",
       "\\end{enumerate*}\n"
      ],
      "text/markdown": [
       "1. NA\n",
       "2. 10\n",
       "\n",
       "\n"
      ],
      "text/plain": [
       "[1] NA 10"
      ]
     },
     "metadata": {},
     "output_type": "display_data"
    }
   ],
   "source": [
    "X[1:2, \"var2\"]"
   ]
  },
  {
   "cell_type": "code",
   "execution_count": 5,
   "metadata": {
    "collapsed": false
   },
   "outputs": [
    {
     "data": {
      "text/html": [
       "<table>\n",
       "<thead><tr><th></th><th scope=col>var1</th><th scope=col>var2</th><th scope=col>var3</th></tr></thead>\n",
       "<tbody>\n",
       "\t<tr><th scope=row>1</th><td> 2</td><td>NA</td><td>15</td></tr>\n",
       "\t<tr><th scope=row>2</th><td> 3</td><td>NA</td><td>12</td></tr>\n",
       "</tbody>\n",
       "</table>\n"
      ],
      "text/latex": [
       "\\begin{tabular}{r|lll}\n",
       "  & var1 & var2 & var3\\\\\n",
       "\\hline\n",
       "\t1 &  2 & NA & 15\\\\\n",
       "\t2 &  3 & NA & 12\\\\\n",
       "\\end{tabular}\n"
      ],
      "text/plain": [
       "  var1 var2 var3\n",
       "1    2   NA   15\n",
       "2    3   NA   12"
      ]
     },
     "metadata": {},
     "output_type": "display_data"
    }
   ],
   "source": [
    "X[(X$var1 <= 3 & X$var3 > 11) ,]"
   ]
  },
  {
   "cell_type": "markdown",
   "metadata": {},
   "source": [
    "### Sorting"
   ]
  },
  {
   "cell_type": "code",
   "execution_count": 6,
   "metadata": {
    "collapsed": false
   },
   "outputs": [
    {
     "data": {
      "text/html": [
       "<ol class=list-inline>\n",
       "\t<li>1</li>\n",
       "\t<li>2</li>\n",
       "\t<li>3</li>\n",
       "\t<li>4</li>\n",
       "\t<li>5</li>\n",
       "</ol>\n"
      ],
      "text/latex": [
       "\\begin{enumerate*}\n",
       "\\item 1\n",
       "\\item 2\n",
       "\\item 3\n",
       "\\item 4\n",
       "\\item 5\n",
       "\\end{enumerate*}\n"
      ],
      "text/markdown": [
       "1. 1\n",
       "2. 2\n",
       "3. 3\n",
       "4. 4\n",
       "5. 5\n",
       "\n",
       "\n"
      ],
      "text/plain": [
       "[1] 1 2 3 4 5"
      ]
     },
     "metadata": {},
     "output_type": "display_data"
    }
   ],
   "source": [
    "sort(X$var1)"
   ]
  },
  {
   "cell_type": "code",
   "execution_count": 7,
   "metadata": {
    "collapsed": false
   },
   "outputs": [
    {
     "data": {
      "text/html": [
       "<ol class=list-inline>\n",
       "\t<li>6</li>\n",
       "\t<li>9</li>\n",
       "\t<li>10</li>\n",
       "\t<li>NA</li>\n",
       "\t<li>NA</li>\n",
       "</ol>\n"
      ],
      "text/latex": [
       "\\begin{enumerate*}\n",
       "\\item 6\n",
       "\\item 9\n",
       "\\item 10\n",
       "\\item NA\n",
       "\\item NA\n",
       "\\end{enumerate*}\n"
      ],
      "text/markdown": [
       "1. 6\n",
       "2. 9\n",
       "3. 10\n",
       "4. NA\n",
       "5. NA\n",
       "\n",
       "\n"
      ],
      "text/plain": [
       "[1]  6  9 10 NA NA"
      ]
     },
     "metadata": {},
     "output_type": "display_data"
    }
   ],
   "source": [
    "sort(X$var2, na.last = TRUE)"
   ]
  },
  {
   "cell_type": "markdown",
   "metadata": {},
   "source": [
    "### Order"
   ]
  },
  {
   "cell_type": "code",
   "execution_count": 8,
   "metadata": {
    "collapsed": false
   },
   "outputs": [
    {
     "data": {
      "text/html": [
       "<table>\n",
       "<thead><tr><th></th><th scope=col>var1</th><th scope=col>var2</th><th scope=col>var3</th></tr></thead>\n",
       "<tbody>\n",
       "\t<tr><th scope=row>4</th><td> 1</td><td>10</td><td>11</td></tr>\n",
       "\t<tr><th scope=row>1</th><td> 2</td><td>NA</td><td>15</td></tr>\n",
       "\t<tr><th scope=row>2</th><td> 3</td><td>NA</td><td>12</td></tr>\n",
       "\t<tr><th scope=row>5</th><td> 4</td><td> 9</td><td>13</td></tr>\n",
       "\t<tr><th scope=row>3</th><td> 5</td><td> 6</td><td>14</td></tr>\n",
       "</tbody>\n",
       "</table>\n"
      ],
      "text/latex": [
       "\\begin{tabular}{r|lll}\n",
       "  & var1 & var2 & var3\\\\\n",
       "\\hline\n",
       "\t4 &  1 & 10 & 11\\\\\n",
       "\t1 &  2 & NA & 15\\\\\n",
       "\t2 &  3 & NA & 12\\\\\n",
       "\t5 &  4 &  9 & 13\\\\\n",
       "\t3 &  5 &  6 & 14\\\\\n",
       "\\end{tabular}\n"
      ],
      "text/plain": [
       "  var1 var2 var3\n",
       "4    1   10   11\n",
       "1    2   NA   15\n",
       "2    3   NA   12\n",
       "5    4    9   13\n",
       "3    5    6   14"
      ]
     },
     "metadata": {},
     "output_type": "display_data"
    }
   ],
   "source": [
    "X[order(X$var1), ] # By one variable"
   ]
  },
  {
   "cell_type": "code",
   "execution_count": 9,
   "metadata": {
    "collapsed": false
   },
   "outputs": [
    {
     "data": {
      "text/html": [
       "<table>\n",
       "<thead><tr><th></th><th scope=col>var1</th><th scope=col>var2</th><th scope=col>var3</th></tr></thead>\n",
       "<tbody>\n",
       "\t<tr><th scope=row>4</th><td> 1</td><td>10</td><td>11</td></tr>\n",
       "\t<tr><th scope=row>1</th><td> 2</td><td>NA</td><td>15</td></tr>\n",
       "\t<tr><th scope=row>2</th><td> 3</td><td>NA</td><td>12</td></tr>\n",
       "\t<tr><th scope=row>5</th><td> 4</td><td> 9</td><td>13</td></tr>\n",
       "\t<tr><th scope=row>3</th><td> 5</td><td> 6</td><td>14</td></tr>\n",
       "</tbody>\n",
       "</table>\n"
      ],
      "text/latex": [
       "\\begin{tabular}{r|lll}\n",
       "  & var1 & var2 & var3\\\\\n",
       "\\hline\n",
       "\t4 &  1 & 10 & 11\\\\\n",
       "\t1 &  2 & NA & 15\\\\\n",
       "\t2 &  3 & NA & 12\\\\\n",
       "\t5 &  4 &  9 & 13\\\\\n",
       "\t3 &  5 &  6 & 14\\\\\n",
       "\\end{tabular}\n"
      ],
      "text/plain": [
       "  var1 var2 var3\n",
       "4    1   10   11\n",
       "1    2   NA   15\n",
       "2    3   NA   12\n",
       "5    4    9   13\n",
       "3    5    6   14"
      ]
     },
     "metadata": {},
     "output_type": "display_data"
    }
   ],
   "source": [
    "# Ordering by two variables. If the variable 1 had more similar values,\n",
    "# we would have seen an effect\n",
    "X[order(X$var1, X$var3) ,] "
   ]
  },
  {
   "cell_type": "markdown",
   "metadata": {},
   "source": [
    "# plyr package"
   ]
  },
  {
   "cell_type": "code",
   "execution_count": 10,
   "metadata": {
    "collapsed": true
   },
   "outputs": [],
   "source": [
    "library(plyr)"
   ]
  },
  {
   "cell_type": "code",
   "execution_count": 11,
   "metadata": {
    "collapsed": false
   },
   "outputs": [
    {
     "data": {
      "text/html": [
       "<table>\n",
       "<thead><tr><th></th><th scope=col>var1</th><th scope=col>var2</th><th scope=col>var3</th></tr></thead>\n",
       "<tbody>\n",
       "\t<tr><th scope=row>1</th><td> 1</td><td>10</td><td>11</td></tr>\n",
       "\t<tr><th scope=row>2</th><td> 2</td><td>NA</td><td>15</td></tr>\n",
       "\t<tr><th scope=row>3</th><td> 3</td><td>NA</td><td>12</td></tr>\n",
       "\t<tr><th scope=row>4</th><td> 4</td><td> 9</td><td>13</td></tr>\n",
       "\t<tr><th scope=row>5</th><td> 5</td><td> 6</td><td>14</td></tr>\n",
       "</tbody>\n",
       "</table>\n"
      ],
      "text/latex": [
       "\\begin{tabular}{r|lll}\n",
       "  & var1 & var2 & var3\\\\\n",
       "\\hline\n",
       "\t1 &  1 & 10 & 11\\\\\n",
       "\t2 &  2 & NA & 15\\\\\n",
       "\t3 &  3 & NA & 12\\\\\n",
       "\t4 &  4 &  9 & 13\\\\\n",
       "\t5 &  5 &  6 & 14\\\\\n",
       "\\end{tabular}\n"
      ],
      "text/plain": [
       "  var1 var2 var3\n",
       "1    1   10   11\n",
       "2    2   NA   15\n",
       "3    3   NA   12\n",
       "4    4    9   13\n",
       "5    5    6   14"
      ]
     },
     "metadata": {},
     "output_type": "display_data"
    }
   ],
   "source": [
    "arrange(X, var1) # Sort by var 1"
   ]
  },
  {
   "cell_type": "code",
   "execution_count": 12,
   "metadata": {
    "collapsed": false
   },
   "outputs": [
    {
     "data": {
      "text/html": [
       "<table>\n",
       "<thead><tr><th></th><th scope=col>var1</th><th scope=col>var2</th><th scope=col>var3</th></tr></thead>\n",
       "<tbody>\n",
       "\t<tr><th scope=row>1</th><td> 5</td><td> 6</td><td>14</td></tr>\n",
       "\t<tr><th scope=row>2</th><td> 4</td><td> 9</td><td>13</td></tr>\n",
       "\t<tr><th scope=row>3</th><td> 3</td><td>NA</td><td>12</td></tr>\n",
       "\t<tr><th scope=row>4</th><td> 2</td><td>NA</td><td>15</td></tr>\n",
       "\t<tr><th scope=row>5</th><td> 1</td><td>10</td><td>11</td></tr>\n",
       "</tbody>\n",
       "</table>\n"
      ],
      "text/latex": [
       "\\begin{tabular}{r|lll}\n",
       "  & var1 & var2 & var3\\\\\n",
       "\\hline\n",
       "\t1 &  5 &  6 & 14\\\\\n",
       "\t2 &  4 &  9 & 13\\\\\n",
       "\t3 &  3 & NA & 12\\\\\n",
       "\t4 &  2 & NA & 15\\\\\n",
       "\t5 &  1 & 10 & 11\\\\\n",
       "\\end{tabular}\n"
      ],
      "text/plain": [
       "  var1 var2 var3\n",
       "1    5    6   14\n",
       "2    4    9   13\n",
       "3    3   NA   12\n",
       "4    2   NA   15\n",
       "5    1   10   11"
      ]
     },
     "metadata": {},
     "output_type": "display_data"
    }
   ],
   "source": [
    "arrange(X, desc(var1))"
   ]
  },
  {
   "cell_type": "markdown",
   "metadata": {},
   "source": [
    "## Adding rows and columns"
   ]
  },
  {
   "cell_type": "code",
   "execution_count": 13,
   "metadata": {
    "collapsed": false
   },
   "outputs": [
    {
     "data": {
      "text/html": [
       "<table>\n",
       "<thead><tr><th></th><th scope=col>var1</th><th scope=col>var2</th><th scope=col>var3</th><th scope=col>var4</th></tr></thead>\n",
       "<tbody>\n",
       "\t<tr><th scope=row>1</th><td> 2.000000</td><td>       NA</td><td>15.000000</td><td> 0.187596</td></tr>\n",
       "\t<tr><th scope=row>4</th><td> 1.000000</td><td>10.000000</td><td>11.000000</td><td> 1.786976</td></tr>\n",
       "\t<tr><th scope=row>2</th><td> 3.0000000</td><td>        NA</td><td>12.0000000</td><td> 0.4966936</td></tr>\n",
       "\t<tr><th scope=row>3</th><td> 5.000000</td><td> 6.000000</td><td>14.000000</td><td> 0.063183</td></tr>\n",
       "\t<tr><th scope=row>5</th><td> 4.0000000</td><td> 9.0000000</td><td>13.0000000</td><td>-0.5361329</td></tr>\n",
       "</tbody>\n",
       "</table>\n"
      ],
      "text/latex": [
       "\\begin{tabular}{r|llll}\n",
       "  & var1 & var2 & var3 & var4\\\\\n",
       "\\hline\n",
       "\t1 &  2.000000 &        NA & 15.000000 &  0.187596\\\\\n",
       "\t4 &  1.000000 & 10.000000 & 11.000000 &  1.786976\\\\\n",
       "\t2 &  3.0000000 &         NA & 12.0000000 &  0.4966936\\\\\n",
       "\t3 &  5.000000 &  6.000000 & 14.000000 &  0.063183\\\\\n",
       "\t5 &  4.0000000 &  9.0000000 & 13.0000000 & -0.5361329\\\\\n",
       "\\end{tabular}\n"
      ],
      "text/plain": [
       "  var1 var2 var3       var4\n",
       "1    2   NA   15  0.1875960\n",
       "4    1   10   11  1.7869764\n",
       "2    3   NA   12  0.4966936\n",
       "3    5    6   14  0.0631830\n",
       "5    4    9   13 -0.5361329"
      ]
     },
     "metadata": {},
     "output_type": "display_data"
    }
   ],
   "source": [
    "X$var4 <- rnorm(5)\n",
    "X"
   ]
  },
  {
   "cell_type": "code",
   "execution_count": 14,
   "metadata": {
    "collapsed": false
   },
   "outputs": [
    {
     "data": {
      "text/html": [
       "<table>\n",
       "<thead><tr><th></th><th scope=col>var1</th><th scope=col>var2</th><th scope=col>var3</th><th scope=col>var4</th><th scope=col>rnorm(5)</th></tr></thead>\n",
       "<tbody>\n",
       "\t<tr><th scope=row>1</th><td> 2.0000000</td><td>        NA</td><td>15.0000000</td><td> 0.1875960</td><td> 0.6257849</td></tr>\n",
       "\t<tr><th scope=row>4</th><td> 1.000000</td><td>10.000000</td><td>11.000000</td><td> 1.786976</td><td>-2.450837</td></tr>\n",
       "\t<tr><th scope=row>2</th><td> 3.00000000</td><td>         NA</td><td>12.00000000</td><td> 0.49669358</td><td> 0.08909424</td></tr>\n",
       "\t<tr><th scope=row>3</th><td> 5.0000000</td><td> 6.0000000</td><td>14.0000000</td><td> 0.0631830</td><td> 0.4783857</td></tr>\n",
       "\t<tr><th scope=row>5</th><td> 4.0000000</td><td> 9.0000000</td><td>13.0000000</td><td>-0.5361329</td><td> 1.0005334</td></tr>\n",
       "</tbody>\n",
       "</table>\n"
      ],
      "text/latex": [
       "\\begin{tabular}{r|lllll}\n",
       "  & var1 & var2 & var3 & var4 & rnorm(5)\\\\\n",
       "\\hline\n",
       "\t1 &  2.0000000 &         NA & 15.0000000 &  0.1875960 &  0.6257849\\\\\n",
       "\t4 &  1.000000 & 10.000000 & 11.000000 &  1.786976 & -2.450837\\\\\n",
       "\t2 &  3.00000000 &          NA & 12.00000000 &  0.49669358 &  0.08909424\\\\\n",
       "\t3 &  5.0000000 &  6.0000000 & 14.0000000 &  0.0631830 &  0.4783857\\\\\n",
       "\t5 &  4.0000000 &  9.0000000 & 13.0000000 & -0.5361329 &  1.0005334\\\\\n",
       "\\end{tabular}\n"
      ],
      "text/plain": [
       "  var1 var2 var3       var4    rnorm(5)\n",
       "1    2   NA   15  0.1875960  0.62578490\n",
       "4    1   10   11  1.7869764 -2.45083750\n",
       "2    3   NA   12  0.4966936  0.08909424\n",
       "3    5    6   14  0.0631830  0.47838570\n",
       "5    4    9   13 -0.5361329  1.00053336"
      ]
     },
     "metadata": {},
     "output_type": "display_data"
    }
   ],
   "source": [
    "Y <- cbind(X, rnorm(5)) # Adds to right side of X\n",
    "Y"
   ]
  },
  {
   "cell_type": "code",
   "execution_count": 15,
   "metadata": {
    "collapsed": false
   },
   "outputs": [
    {
     "data": {
      "text/html": [
       "<table>\n",
       "<thead><tr><th></th><th scope=col>rnorm(5)</th><th scope=col>var1</th><th scope=col>var2</th><th scope=col>var3</th><th scope=col>var4</th></tr></thead>\n",
       "<tbody>\n",
       "\t<tr><th scope=row>1</th><td> 0.5439561</td><td> 2.0000000</td><td>        NA</td><td>15.0000000</td><td> 0.1875960</td></tr>\n",
       "\t<tr><th scope=row>4</th><td> 0.3304796</td><td> 1.0000000</td><td>10.0000000</td><td>11.0000000</td><td> 1.7869764</td></tr>\n",
       "\t<tr><th scope=row>2</th><td>-0.9710917</td><td> 3.0000000</td><td>        NA</td><td>12.0000000</td><td> 0.4966936</td></tr>\n",
       "\t<tr><th scope=row>3</th><td>-0.9446847</td><td> 5.0000000</td><td> 6.0000000</td><td>14.0000000</td><td> 0.0631830</td></tr>\n",
       "\t<tr><th scope=row>5</th><td>-0.2967423</td><td> 4.0000000</td><td> 9.0000000</td><td>13.0000000</td><td>-0.5361329</td></tr>\n",
       "</tbody>\n",
       "</table>\n"
      ],
      "text/latex": [
       "\\begin{tabular}{r|lllll}\n",
       "  & rnorm(5) & var1 & var2 & var3 & var4\\\\\n",
       "\\hline\n",
       "\t1 &  0.5439561 &  2.0000000 &         NA & 15.0000000 &  0.1875960\\\\\n",
       "\t4 &  0.3304796 &  1.0000000 & 10.0000000 & 11.0000000 &  1.7869764\\\\\n",
       "\t2 & -0.9710917 &  3.0000000 &         NA & 12.0000000 &  0.4966936\\\\\n",
       "\t3 & -0.9446847 &  5.0000000 &  6.0000000 & 14.0000000 &  0.0631830\\\\\n",
       "\t5 & -0.2967423 &  4.0000000 &  9.0000000 & 13.0000000 & -0.5361329\\\\\n",
       "\\end{tabular}\n"
      ],
      "text/plain": [
       "    rnorm(5) var1 var2 var3       var4\n",
       "1  0.5439561    2   NA   15  0.1875960\n",
       "4  0.3304796    1   10   11  1.7869764\n",
       "2 -0.9710917    3   NA   12  0.4966936\n",
       "3 -0.9446847    5    6   14  0.0631830\n",
       "5 -0.2967423    4    9   13 -0.5361329"
      ]
     },
     "metadata": {},
     "output_type": "display_data"
    }
   ],
   "source": [
    "Y <- cbind(rnorm(5), X) # Adds to left side of X\n",
    "Y"
   ]
  },
  {
   "cell_type": "markdown",
   "metadata": {},
   "source": [
    "## Summarizing data"
   ]
  },
  {
   "cell_type": "code",
   "execution_count": 16,
   "metadata": {
    "collapsed": false
   },
   "outputs": [],
   "source": [
    "library(datasets) # Now you can get the iris dataset"
   ]
  },
  {
   "cell_type": "code",
   "execution_count": 17,
   "metadata": {
    "collapsed": false
   },
   "outputs": [
    {
     "data": {
      "text/html": [
       "<table>\n",
       "<thead><tr><th></th><th scope=col>Sepal.Length</th><th scope=col>Sepal.Width</th><th scope=col>Petal.Length</th><th scope=col>Petal.Width</th><th scope=col>Species</th></tr></thead>\n",
       "<tbody>\n",
       "\t<tr><th scope=row>1</th><td>5.1   </td><td>3.5   </td><td>1.4   </td><td>0.2   </td><td>setosa</td></tr>\n",
       "\t<tr><th scope=row>2</th><td>4.9   </td><td>3     </td><td>1.4   </td><td>0.2   </td><td>setosa</td></tr>\n",
       "\t<tr><th scope=row>3</th><td>4.7   </td><td>3.2   </td><td>1.3   </td><td>0.2   </td><td>setosa</td></tr>\n",
       "\t<tr><th scope=row>4</th><td>4.6   </td><td>3.1   </td><td>1.5   </td><td>0.2   </td><td>setosa</td></tr>\n",
       "\t<tr><th scope=row>5</th><td>5     </td><td>3.6   </td><td>1.4   </td><td>0.2   </td><td>setosa</td></tr>\n",
       "\t<tr><th scope=row>6</th><td>5.4   </td><td>3.9   </td><td>1.7   </td><td>0.4   </td><td>setosa</td></tr>\n",
       "</tbody>\n",
       "</table>\n"
      ],
      "text/latex": [
       "\\begin{tabular}{r|lllll}\n",
       "  & Sepal.Length & Sepal.Width & Petal.Length & Petal.Width & Species\\\\\n",
       "\\hline\n",
       "\t1 & 5.1    & 3.5    & 1.4    & 0.2    & setosa\\\\\n",
       "\t2 & 4.9    & 3      & 1.4    & 0.2    & setosa\\\\\n",
       "\t3 & 4.7    & 3.2    & 1.3    & 0.2    & setosa\\\\\n",
       "\t4 & 4.6    & 3.1    & 1.5    & 0.2    & setosa\\\\\n",
       "\t5 & 5      & 3.6    & 1.4    & 0.2    & setosa\\\\\n",
       "\t6 & 5.4    & 3.9    & 1.7    & 0.4    & setosa\\\\\n",
       "\\end{tabular}\n"
      ],
      "text/plain": [
       "  Sepal.Length Sepal.Width Petal.Length Petal.Width Species\n",
       "1          5.1         3.5          1.4         0.2  setosa\n",
       "2          4.9         3.0          1.4         0.2  setosa\n",
       "3          4.7         3.2          1.3         0.2  setosa\n",
       "4          4.6         3.1          1.5         0.2  setosa\n",
       "5          5.0         3.6          1.4         0.2  setosa\n",
       "6          5.4         3.9          1.7         0.4  setosa"
      ]
     },
     "metadata": {},
     "output_type": "display_data"
    }
   ],
   "source": [
    "head(iris)"
   ]
  },
  {
   "cell_type": "code",
   "execution_count": 18,
   "metadata": {
    "collapsed": false
   },
   "outputs": [
    {
     "data": {
      "text/plain": [
       "  Sepal.Length    Sepal.Width     Petal.Length    Petal.Width   \n",
       " Min.   :4.300   Min.   :2.000   Min.   :1.000   Min.   :0.100  \n",
       " 1st Qu.:5.100   1st Qu.:2.800   1st Qu.:1.600   1st Qu.:0.300  \n",
       " Median :5.800   Median :3.000   Median :4.350   Median :1.300  \n",
       " Mean   :5.843   Mean   :3.057   Mean   :3.758   Mean   :1.199  \n",
       " 3rd Qu.:6.400   3rd Qu.:3.300   3rd Qu.:5.100   3rd Qu.:1.800  \n",
       " Max.   :7.900   Max.   :4.400   Max.   :6.900   Max.   :2.500  \n",
       "       Species  \n",
       " setosa    :50  \n",
       " versicolor:50  \n",
       " virginica :50  \n",
       "                \n",
       "                \n",
       "                "
      ]
     },
     "metadata": {},
     "output_type": "display_data"
    }
   ],
   "source": [
    "summary(iris)"
   ]
  },
  {
   "cell_type": "code",
   "execution_count": 19,
   "metadata": {
    "collapsed": false
   },
   "outputs": [
    {
     "name": "stdout",
     "output_type": "stream",
     "text": [
      "'data.frame':\t150 obs. of  5 variables:\n",
      " $ Sepal.Length: num  5.1 4.9 4.7 4.6 5 5.4 4.6 5 4.4 4.9 ...\n",
      " $ Sepal.Width : num  3.5 3 3.2 3.1 3.6 3.9 3.4 3.4 2.9 3.1 ...\n",
      " $ Petal.Length: num  1.4 1.4 1.3 1.5 1.4 1.7 1.4 1.5 1.4 1.5 ...\n",
      " $ Petal.Width : num  0.2 0.2 0.2 0.2 0.2 0.4 0.3 0.2 0.2 0.1 ...\n",
      " $ Species     : Factor w/ 3 levels \"setosa\",\"versicolor\",..: 1 1 1 1 1 1 1 1 1 1 ...\n"
     ]
    }
   ],
   "source": [
    "str(iris)"
   ]
  },
  {
   "cell_type": "code",
   "execution_count": 20,
   "metadata": {
    "collapsed": false
   },
   "outputs": [
    {
     "data": {
      "text/html": [
       "<dl class=dl-horizontal>\n",
       "\t<dt>0%</dt>\n",
       "\t\t<dd>1</dd>\n",
       "\t<dt>25%</dt>\n",
       "\t\t<dd>1.6</dd>\n",
       "\t<dt>50%</dt>\n",
       "\t\t<dd>4.35</dd>\n",
       "\t<dt>75%</dt>\n",
       "\t\t<dd>5.1</dd>\n",
       "\t<dt>100%</dt>\n",
       "\t\t<dd>6.9</dd>\n",
       "</dl>\n"
      ],
      "text/latex": [
       "\\begin{description*}\n",
       "\\item[0\\textbackslash{}\\%] 1\n",
       "\\item[25\\textbackslash{}\\%] 1.6\n",
       "\\item[50\\textbackslash{}\\%] 4.35\n",
       "\\item[75\\textbackslash{}\\%] 5.1\n",
       "\\item[100\\textbackslash{}\\%] 6.9\n",
       "\\end{description*}\n"
      ],
      "text/markdown": [
       "0%\n",
       ":   125%\n",
       ":   1.650%\n",
       ":   4.3575%\n",
       ":   5.1100%\n",
       ":   6.9\n",
       "\n"
      ],
      "text/plain": [
       "  0%  25%  50%  75% 100% \n",
       "1.00 1.60 4.35 5.10 6.90 "
      ]
     },
     "metadata": {},
     "output_type": "display_data"
    }
   ],
   "source": [
    "quantile(iris$Petal.Length)"
   ]
  },
  {
   "cell_type": "code",
   "execution_count": 21,
   "metadata": {
    "collapsed": false
   },
   "outputs": [
    {
     "data": {
      "text/html": [
       "<dl class=dl-horizontal>\n",
       "\t<dt>50%</dt>\n",
       "\t\t<dd>4.35</dd>\n",
       "\t<dt>75%</dt>\n",
       "\t\t<dd>5.1</dd>\n",
       "</dl>\n"
      ],
      "text/latex": [
       "\\begin{description*}\n",
       "\\item[50\\textbackslash{}\\%] 4.35\n",
       "\\item[75\\textbackslash{}\\%] 5.1\n",
       "\\end{description*}\n"
      ],
      "text/markdown": [
       "50%\n",
       ":   4.3575%\n",
       ":   5.1\n",
       "\n"
      ],
      "text/plain": [
       " 50%  75% \n",
       "4.35 5.10 "
      ]
     },
     "metadata": {},
     "output_type": "display_data"
    }
   ],
   "source": [
    "quantile(iris$Petal.Length, probs=c(0.5, 0.75)) # Specify the quantiles"
   ]
  },
  {
   "cell_type": "code",
   "execution_count": 22,
   "metadata": {
    "collapsed": false
   },
   "outputs": [
    {
     "data": {
      "text/plain": [
       "\n",
       "    setosa versicolor  virginica \n",
       "        50         50         50 "
      ]
     },
     "metadata": {},
     "output_type": "display_data"
    }
   ],
   "source": [
    "table(iris$Species) # Give you the counts"
   ]
  },
  {
   "cell_type": "code",
   "execution_count": 23,
   "metadata": {
    "collapsed": false
   },
   "outputs": [
    {
     "data": {
      "text/plain": [
       "     \n",
       "      setosa versicolor virginica\n",
       "  0.1      5          0         0\n",
       "  0.2     29          0         0\n",
       "  0.3      7          0         0\n",
       "  0.4      7          0         0\n",
       "  0.5      1          0         0\n",
       "  0.6      1          0         0\n",
       "  1        0          7         0\n",
       "  1.1      0          3         0\n",
       "  1.2      0          5         0\n",
       "  1.3      0         13         0\n",
       "  1.4      0          7         1\n",
       "  1.5      0         10         2\n",
       "  1.6      0          3         1\n",
       "  1.7      0          1         1\n",
       "  1.8      0          1        11\n",
       "  1.9      0          0         5\n",
       "  2        0          0         6\n",
       "  2.1      0          0         6\n",
       "  2.2      0          0         3\n",
       "  2.3      0          0         8\n",
       "  2.4      0          0         3\n",
       "  2.5      0          0         3"
      ]
     },
     "metadata": {},
     "output_type": "display_data"
    }
   ],
   "source": [
    "table(iris$Petal.Width, iris$Species) # Create two dimensions"
   ]
  },
  {
   "cell_type": "markdown",
   "metadata": {},
   "source": [
    "### Missing values"
   ]
  },
  {
   "cell_type": "code",
   "execution_count": 24,
   "metadata": {
    "collapsed": false
   },
   "outputs": [
    {
     "data": {
      "text/html": [
       "0"
      ],
      "text/latex": [
       "0"
      ],
      "text/markdown": [
       "0"
      ],
      "text/plain": [
       "[1] 0"
      ]
     },
     "metadata": {},
     "output_type": "display_data"
    }
   ],
   "source": [
    "sum(is.na(iris))"
   ]
  },
  {
   "cell_type": "code",
   "execution_count": 25,
   "metadata": {
    "collapsed": false
   },
   "outputs": [
    {
     "data": {
      "text/html": [
       "FALSE"
      ],
      "text/latex": [
       "FALSE"
      ],
      "text/markdown": [
       "FALSE"
      ],
      "text/plain": [
       "[1] FALSE"
      ]
     },
     "metadata": {},
     "output_type": "display_data"
    }
   ],
   "source": [
    "any(is.na(iris))"
   ]
  },
  {
   "cell_type": "code",
   "execution_count": 26,
   "metadata": {
    "collapsed": false
   },
   "outputs": [
    {
     "data": {
      "text/html": [
       "TRUE"
      ],
      "text/latex": [
       "TRUE"
      ],
      "text/markdown": [
       "TRUE"
      ],
      "text/plain": [
       "[1] TRUE"
      ]
     },
     "metadata": {},
     "output_type": "display_data"
    }
   ],
   "source": [
    "all(iris$Petal.Length >= 0) # Check that all are greater or equal 0"
   ]
  },
  {
   "cell_type": "markdown",
   "metadata": {},
   "source": [
    "### Values with specific characteristics"
   ]
  },
  {
   "cell_type": "code",
   "execution_count": 27,
   "metadata": {
    "collapsed": false
   },
   "outputs": [
    {
     "data": {
      "text/plain": [
       "\n",
       "FALSE  TRUE \n",
       "  114    36 "
      ]
     },
     "metadata": {},
     "output_type": "display_data"
    }
   ],
   "source": [
    "table(iris$Petal.Width %in% c(0.2, 0.3))"
   ]
  },
  {
   "cell_type": "code",
   "execution_count": 28,
   "metadata": {
    "collapsed": false
   },
   "outputs": [
    {
     "data": {
      "text/html": [
       "<table>\n",
       "<thead><tr><th></th><th scope=col>Sepal.Length</th><th scope=col>Sepal.Width</th><th scope=col>Petal.Length</th><th scope=col>Petal.Width</th><th scope=col>Species</th></tr></thead>\n",
       "<tbody>\n",
       "\t<tr><th scope=row>7</th><td>4.6   </td><td>3.4   </td><td>1.4   </td><td>0.3   </td><td>setosa</td></tr>\n",
       "\t<tr><th scope=row>18</th><td>5.1   </td><td>3.5   </td><td>1.4   </td><td>0.3   </td><td>setosa</td></tr>\n",
       "\t<tr><th scope=row>19</th><td>5.7   </td><td>3.8   </td><td>1.7   </td><td>0.3   </td><td>setosa</td></tr>\n",
       "\t<tr><th scope=row>20</th><td>5.1   </td><td>3.8   </td><td>1.5   </td><td>0.3   </td><td>setosa</td></tr>\n",
       "\t<tr><th scope=row>41</th><td>5     </td><td>3.5   </td><td>1.3   </td><td>0.3   </td><td>setosa</td></tr>\n",
       "\t<tr><th scope=row>42</th><td>4.5   </td><td>2.3   </td><td>1.3   </td><td>0.3   </td><td>setosa</td></tr>\n",
       "\t<tr><th scope=row>46</th><td>4.8   </td><td>3     </td><td>1.4   </td><td>0.3   </td><td>setosa</td></tr>\n",
       "</tbody>\n",
       "</table>\n"
      ],
      "text/latex": [
       "\\begin{tabular}{r|lllll}\n",
       "  & Sepal.Length & Sepal.Width & Petal.Length & Petal.Width & Species\\\\\n",
       "\\hline\n",
       "\t7 & 4.6    & 3.4    & 1.4    & 0.3    & setosa\\\\\n",
       "\t18 & 5.1    & 3.5    & 1.4    & 0.3    & setosa\\\\\n",
       "\t19 & 5.7    & 3.8    & 1.7    & 0.3    & setosa\\\\\n",
       "\t20 & 5.1    & 3.8    & 1.5    & 0.3    & setosa\\\\\n",
       "\t41 & 5      & 3.5    & 1.3    & 0.3    & setosa\\\\\n",
       "\t42 & 4.5    & 2.3    & 1.3    & 0.3    & setosa\\\\\n",
       "\t46 & 4.8    & 3      & 1.4    & 0.3    & setosa\\\\\n",
       "\\end{tabular}\n"
      ],
      "text/plain": [
       "   Sepal.Length Sepal.Width Petal.Length Petal.Width Species\n",
       "7           4.6         3.4          1.4         0.3  setosa\n",
       "18          5.1         3.5          1.4         0.3  setosa\n",
       "19          5.7         3.8          1.7         0.3  setosa\n",
       "20          5.1         3.8          1.5         0.3  setosa\n",
       "41          5.0         3.5          1.3         0.3  setosa\n",
       "42          4.5         2.3          1.3         0.3  setosa\n",
       "46          4.8         3.0          1.4         0.3  setosa"
      ]
     },
     "metadata": {},
     "output_type": "display_data"
    }
   ],
   "source": [
    "iris[iris$Petal.Width %in% c(0.3) ,]"
   ]
  },
  {
   "cell_type": "markdown",
   "metadata": {},
   "source": [
    "# Download data from the web"
   ]
  },
  {
   "cell_type": "code",
   "execution_count": 29,
   "metadata": {
    "collapsed": true
   },
   "outputs": [],
   "source": [
    "# Create data folder\n",
    "if(!file.exists(\"./data\")) dir.create(\"./data\")\n",
    "        \n",
    "fileUrl <- \"https://data.baltimorecity.gov/api/views/k5ry-ef3g/rows.csv?accessType=DOWNLOAD\"\n",
    "download.file(fileUrl, destfile = \"./data/restaurants.csv\")"
   ]
  },
  {
   "cell_type": "code",
   "execution_count": 30,
   "metadata": {
    "collapsed": false
   },
   "outputs": [
    {
     "data": {
      "text/html": [
       "<table>\n",
       "<thead><tr><th></th><th scope=col>name</th><th scope=col>zipCode</th><th scope=col>neighborhood</th><th scope=col>councilDistrict</th><th scope=col>policeDistrict</th><th scope=col>Location.1</th></tr></thead>\n",
       "<tbody>\n",
       "\t<tr><th scope=row>1</th><td>410                              </td><td>21206                            </td><td>Frankford                        </td><td>2                                </td><td>NORTHEASTERN                     </td><td>4509 BELAIR ROAD\n",
       "Baltimore, MD\n",
       "</td></tr>\n",
       "\t<tr><th scope=row>2</th><td>1919                          </td><td>21231                         </td><td>Fells Point                   </td><td>1                             </td><td>SOUTHEASTERN                  </td><td>1919 FLEET ST\n",
       "Baltimore, MD\n",
       "</td></tr>\n",
       "\t<tr><th scope=row>3</th><td>SAUTE                          </td><td>21224                          </td><td>Canton                         </td><td>1                              </td><td>SOUTHEASTERN                   </td><td>2844 HUDSON ST\n",
       "Baltimore, MD\n",
       "</td></tr>\n",
       "\t<tr><th scope=row>4</th><td>#1 CHINESE KITCHEN              </td><td>21211                           </td><td>Hampden                         </td><td>14                              </td><td>NORTHERN                        </td><td>3998 ROLAND AVE\n",
       "Baltimore, MD\n",
       "</td></tr>\n",
       "\t<tr><th scope=row>5</th><td>#1 chinese restaurant              </td><td>21223                              </td><td>Millhill                           </td><td>9                                  </td><td>SOUTHWESTERN                       </td><td>2481 frederick ave\n",
       "Baltimore, MD\n",
       "</td></tr>\n",
       "\t<tr><th scope=row>6</th><td>19TH HOLE                       </td><td>21218                           </td><td>Clifton Park                    </td><td>14                              </td><td>NORTHEASTERN                    </td><td>2722 HARFORD RD\n",
       "Baltimore, MD\n",
       "</td></tr>\n",
       "</tbody>\n",
       "</table>\n"
      ],
      "text/latex": [
       "\\begin{tabular}{r|llllll}\n",
       "  & name & zipCode & neighborhood & councilDistrict & policeDistrict & Location.1\\\\\n",
       "\\hline\n",
       "\t1 & 410                               & 21206                             & Frankford                         & 2                                 & NORTHEASTERN                      & 4509 BELAIR ROAD\n",
       "Baltimore, MD\n",
       "\\\\\n",
       "\t2 & 1919                           & 21231                          & Fells Point                    & 1                              & SOUTHEASTERN                   & 1919 FLEET ST\n",
       "Baltimore, MD\n",
       "\\\\\n",
       "\t3 & SAUTE                           & 21224                           & Canton                          & 1                               & SOUTHEASTERN                    & 2844 HUDSON ST\n",
       "Baltimore, MD\n",
       "\\\\\n",
       "\t4 & \\#1 CHINESE KITCHEN             & 21211                            & Hampden                          & 14                               & NORTHERN                         & 3998 ROLAND AVE\n",
       "Baltimore, MD\n",
       "\\\\\n",
       "\t5 & \\#1 chinese restaurant             & 21223                               & Millhill                            & 9                                   & SOUTHWESTERN                        & 2481 frederick ave\n",
       "Baltimore, MD\n",
       "\\\\\n",
       "\t6 & 19TH HOLE                        & 21218                            & Clifton Park                     & 14                               & NORTHEASTERN                     & 2722 HARFORD RD\n",
       "Baltimore, MD\n",
       "\\\\\n",
       "\\end{tabular}\n"
      ],
      "text/plain": [
       "                   name zipCode neighborhood councilDistrict policeDistrict\n",
       "1                   410   21206    Frankford               2   NORTHEASTERN\n",
       "2                  1919   21231  Fells Point               1   SOUTHEASTERN\n",
       "3                 SAUTE   21224       Canton               1   SOUTHEASTERN\n",
       "4    #1 CHINESE KITCHEN   21211      Hampden              14       NORTHERN\n",
       "5 #1 chinese restaurant   21223     Millhill               9   SOUTHWESTERN\n",
       "6             19TH HOLE   21218 Clifton Park              14   NORTHEASTERN\n",
       "                           Location.1\n",
       "1   4509 BELAIR ROAD\\nBaltimore, MD\\n\n",
       "2      1919 FLEET ST\\nBaltimore, MD\\n\n",
       "3     2844 HUDSON ST\\nBaltimore, MD\\n\n",
       "4    3998 ROLAND AVE\\nBaltimore, MD\\n\n",
       "5 2481 frederick ave\\nBaltimore, MD\\n\n",
       "6    2722 HARFORD RD\\nBaltimore, MD\\n"
      ]
     },
     "metadata": {},
     "output_type": "display_data"
    }
   ],
   "source": [
    "restData <- read.csv(\"./data/restaurants.csv\")\n",
    "head(restData)"
   ]
  },
  {
   "cell_type": "markdown",
   "metadata": {
    "collapsed": true
   },
   "source": [
    "# Creating sequences"
   ]
  },
  {
   "cell_type": "code",
   "execution_count": 31,
   "metadata": {
    "collapsed": false
   },
   "outputs": [
    {
     "data": {
      "text/html": [
       "<ol class=list-inline>\n",
       "\t<li>1</li>\n",
       "\t<li>3</li>\n",
       "\t<li>5</li>\n",
       "\t<li>7</li>\n",
       "\t<li>9</li>\n",
       "</ol>\n"
      ],
      "text/latex": [
       "\\begin{enumerate*}\n",
       "\\item 1\n",
       "\\item 3\n",
       "\\item 5\n",
       "\\item 7\n",
       "\\item 9\n",
       "\\end{enumerate*}\n"
      ],
      "text/markdown": [
       "1. 1\n",
       "2. 3\n",
       "3. 5\n",
       "4. 7\n",
       "5. 9\n",
       "\n",
       "\n"
      ],
      "text/plain": [
       "[1] 1 3 5 7 9"
      ]
     },
     "metadata": {},
     "output_type": "display_data"
    }
   ],
   "source": [
    "seq(1, 10, by=2)"
   ]
  },
  {
   "cell_type": "code",
   "execution_count": 32,
   "metadata": {
    "collapsed": false
   },
   "outputs": [
    {
     "data": {
      "text/html": [
       "<ol class=list-inline>\n",
       "\t<li>1</li>\n",
       "\t<li>5.5</li>\n",
       "\t<li>10</li>\n",
       "</ol>\n"
      ],
      "text/latex": [
       "\\begin{enumerate*}\n",
       "\\item 1\n",
       "\\item 5.5\n",
       "\\item 10\n",
       "\\end{enumerate*}\n"
      ],
      "text/markdown": [
       "1. 1\n",
       "2. 5.5\n",
       "3. 10\n",
       "\n",
       "\n"
      ],
      "text/plain": [
       "[1]  1.0  5.5 10.0"
      ]
     },
     "metadata": {},
     "output_type": "display_data"
    }
   ],
   "source": [
    "seq(1, 10, length=3)"
   ]
  },
  {
   "cell_type": "code",
   "execution_count": 33,
   "metadata": {
    "collapsed": false
   },
   "outputs": [
    {
     "data": {
      "text/html": [
       "<ol class=list-inline>\n",
       "\t<li>1</li>\n",
       "\t<li>2</li>\n",
       "\t<li>3</li>\n",
       "\t<li>4</li>\n",
       "\t<li>5</li>\n",
       "</ol>\n"
      ],
      "text/latex": [
       "\\begin{enumerate*}\n",
       "\\item 1\n",
       "\\item 2\n",
       "\\item 3\n",
       "\\item 4\n",
       "\\item 5\n",
       "\\end{enumerate*}\n"
      ],
      "text/markdown": [
       "1. 1\n",
       "2. 2\n",
       "3. 3\n",
       "4. 4\n",
       "5. 5\n",
       "\n",
       "\n"
      ],
      "text/plain": [
       "[1] 1 2 3 4 5"
      ]
     },
     "metadata": {},
     "output_type": "display_data"
    }
   ],
   "source": [
    "x <- c(1, 3, 8, 25, 100)\n",
    "seq(along=x)"
   ]
  },
  {
   "cell_type": "markdown",
   "metadata": {},
   "source": [
    "# Factor variables"
   ]
  },
  {
   "cell_type": "code",
   "execution_count": 34,
   "metadata": {
    "collapsed": false
   },
   "outputs": [
    {
     "name": "stdout",
     "output_type": "stream",
     "text": [
      " [1] 21206 21231 21224 21211 21223 21218 21205 21211 21205 21231\n",
      "32 Levels: -21226 21201 21202 21205 21206 21207 21208 21209 21210 ... 21287\n"
     ]
    }
   ],
   "source": [
    "restData$zcf <- factor(restData$zipCode)\n",
    "print(restData$zcf[1:10]) # Prints also the number of levels\n",
    "#str(restData)"
   ]
  },
  {
   "cell_type": "code",
   "execution_count": 35,
   "metadata": {
    "collapsed": false
   },
   "outputs": [
    {
     "name": "stdout",
     "output_type": "stream",
     "text": [
      " [1] no  no  yes no  yes yes no  yes yes yes\n",
      "Levels: yes no\n"
     ]
    }
   ],
   "source": [
    "yesno <- sample(c(\"yes\", \"no\"), size=10, replace=TRUE)\n",
    "yesnofac <- factor(yesno, levels=c(\"yes\", \"no\")) # Treats the lowest alphabet. value as 1 by default\n",
    "\n",
    "print(yesnofac)"
   ]
  },
  {
   "cell_type": "code",
   "execution_count": 36,
   "metadata": {
    "collapsed": false
   },
   "outputs": [
    {
     "data": {
      "text/html": [
       "<ol class=list-inline>\n",
       "\t<li>no</li>\n",
       "\t<li>no</li>\n",
       "\t<li>yes</li>\n",
       "\t<li>no</li>\n",
       "\t<li>yes</li>\n",
       "\t<li>yes</li>\n",
       "\t<li>no</li>\n",
       "\t<li>yes</li>\n",
       "\t<li>yes</li>\n",
       "\t<li>yes</li>\n",
       "</ol>\n"
      ],
      "text/latex": [
       "\\begin{enumerate*}\n",
       "\\item no\n",
       "\\item no\n",
       "\\item yes\n",
       "\\item no\n",
       "\\item yes\n",
       "\\item yes\n",
       "\\item no\n",
       "\\item yes\n",
       "\\item yes\n",
       "\\item yes\n",
       "\\end{enumerate*}\n"
      ],
      "text/markdown": [
       "1. no\n",
       "2. no\n",
       "3. yes\n",
       "4. no\n",
       "5. yes\n",
       "6. yes\n",
       "7. no\n",
       "8. yes\n",
       "9. yes\n",
       "10. yes\n",
       "\n",
       "\n"
      ],
      "text/plain": [
       " [1] no  no  yes no  yes yes no  yes yes yes\n",
       "Levels: yes no"
      ]
     },
     "metadata": {},
     "output_type": "display_data"
    }
   ],
   "source": [
    "relevel(yesnofac, ref=\"yes\")"
   ]
  },
  {
   "cell_type": "code",
   "execution_count": 37,
   "metadata": {
    "collapsed": false
   },
   "outputs": [
    {
     "data": {
      "text/html": [
       "<ol class=list-inline>\n",
       "\t<li>2</li>\n",
       "\t<li>2</li>\n",
       "\t<li>1</li>\n",
       "\t<li>2</li>\n",
       "\t<li>1</li>\n",
       "\t<li>1</li>\n",
       "\t<li>2</li>\n",
       "\t<li>1</li>\n",
       "\t<li>1</li>\n",
       "\t<li>1</li>\n",
       "</ol>\n"
      ],
      "text/latex": [
       "\\begin{enumerate*}\n",
       "\\item 2\n",
       "\\item 2\n",
       "\\item 1\n",
       "\\item 2\n",
       "\\item 1\n",
       "\\item 1\n",
       "\\item 2\n",
       "\\item 1\n",
       "\\item 1\n",
       "\\item 1\n",
       "\\end{enumerate*}\n"
      ],
      "text/markdown": [
       "1. 2\n",
       "2. 2\n",
       "3. 1\n",
       "4. 2\n",
       "5. 1\n",
       "6. 1\n",
       "7. 2\n",
       "8. 1\n",
       "9. 1\n",
       "10. 1\n",
       "\n",
       "\n"
      ],
      "text/plain": [
       " [1] 2 2 1 2 1 1 2 1 1 1"
      ]
     },
     "metadata": {},
     "output_type": "display_data"
    }
   ],
   "source": [
    "as.numeric(yesnofac)"
   ]
  },
  {
   "cell_type": "markdown",
   "metadata": {},
   "source": [
    "# Reshaping"
   ]
  },
  {
   "cell_type": "code",
   "execution_count": 38,
   "metadata": {
    "collapsed": false
   },
   "outputs": [
    {
     "data": {
      "text/html": [
       "<table>\n",
       "<thead><tr><th></th><th scope=col>mpg</th><th scope=col>cyl</th><th scope=col>disp</th><th scope=col>hp</th><th scope=col>drat</th><th scope=col>wt</th><th scope=col>qsec</th><th scope=col>vs</th><th scope=col>am</th><th scope=col>gear</th><th scope=col>carb</th></tr></thead>\n",
       "<tbody>\n",
       "\t<tr><th scope=row>Mazda RX4</th><td> 21.00</td><td>  6.00</td><td>160.00</td><td>110.00</td><td>  3.90</td><td>  2.62</td><td> 16.46</td><td>  0.00</td><td>  1.00</td><td>  4.00</td><td>  4.00</td></tr>\n",
       "\t<tr><th scope=row>Mazda RX4 Wag</th><td> 21.000</td><td>  6.000</td><td>160.000</td><td>110.000</td><td>  3.900</td><td>  2.875</td><td> 17.020</td><td>  0.000</td><td>  1.000</td><td>  4.000</td><td>  4.000</td></tr>\n",
       "\t<tr><th scope=row>Datsun 710</th><td> 22.80</td><td>  4.00</td><td>108.00</td><td> 93.00</td><td>  3.85</td><td>  2.32</td><td> 18.61</td><td>  1.00</td><td>  1.00</td><td>  4.00</td><td>  1.00</td></tr>\n",
       "\t<tr><th scope=row>Hornet 4 Drive</th><td> 21.400</td><td>  6.000</td><td>258.000</td><td>110.000</td><td>  3.080</td><td>  3.215</td><td> 19.440</td><td>  1.000</td><td>  0.000</td><td>  3.000</td><td>  1.000</td></tr>\n",
       "\t<tr><th scope=row>Hornet Sportabout</th><td> 18.70</td><td>  8.00</td><td>360.00</td><td>175.00</td><td>  3.15</td><td>  3.44</td><td> 17.02</td><td>  0.00</td><td>  0.00</td><td>  3.00</td><td>  2.00</td></tr>\n",
       "\t<tr><th scope=row>Valiant</th><td> 18.10</td><td>  6.00</td><td>225.00</td><td>105.00</td><td>  2.76</td><td>  3.46</td><td> 20.22</td><td>  1.00</td><td>  0.00</td><td>  3.00</td><td>  1.00</td></tr>\n",
       "</tbody>\n",
       "</table>\n"
      ],
      "text/latex": [
       "\\begin{tabular}{r|lllllllllll}\n",
       "  & mpg & cyl & disp & hp & drat & wt & qsec & vs & am & gear & carb\\\\\n",
       "\\hline\n",
       "\tMazda RX4 &  21.00 &   6.00 & 160.00 & 110.00 &   3.90 &   2.62 &  16.46 &   0.00 &   1.00 &   4.00 &   4.00\\\\\n",
       "\tMazda RX4 Wag &  21.000 &   6.000 & 160.000 & 110.000 &   3.900 &   2.875 &  17.020 &   0.000 &   1.000 &   4.000 &   4.000\\\\\n",
       "\tDatsun 710 &  22.80 &   4.00 & 108.00 &  93.00 &   3.85 &   2.32 &  18.61 &   1.00 &   1.00 &   4.00 &   1.00\\\\\n",
       "\tHornet 4 Drive &  21.400 &   6.000 & 258.000 & 110.000 &   3.080 &   3.215 &  19.440 &   1.000 &   0.000 &   3.000 &   1.000\\\\\n",
       "\tHornet Sportabout &  18.70 &   8.00 & 360.00 & 175.00 &   3.15 &   3.44 &  17.02 &   0.00 &   0.00 &   3.00 &   2.00\\\\\n",
       "\tValiant &  18.10 &   6.00 & 225.00 & 105.00 &   2.76 &   3.46 &  20.22 &   1.00 &   0.00 &   3.00 &   1.00\\\\\n",
       "\\end{tabular}\n"
      ],
      "text/plain": [
       "                   mpg cyl disp  hp drat    wt  qsec vs am gear carb\n",
       "Mazda RX4         21.0   6  160 110 3.90 2.620 16.46  0  1    4    4\n",
       "Mazda RX4 Wag     21.0   6  160 110 3.90 2.875 17.02  0  1    4    4\n",
       "Datsun 710        22.8   4  108  93 3.85 2.320 18.61  1  1    4    1\n",
       "Hornet 4 Drive    21.4   6  258 110 3.08 3.215 19.44  1  0    3    1\n",
       "Hornet Sportabout 18.7   8  360 175 3.15 3.440 17.02  0  0    3    2\n",
       "Valiant           18.1   6  225 105 2.76 3.460 20.22  1  0    3    1"
      ]
     },
     "metadata": {},
     "output_type": "display_data"
    }
   ],
   "source": [
    "library(reshape2)\n",
    "head(mtcars)"
   ]
  },
  {
   "cell_type": "code",
   "execution_count": 39,
   "metadata": {
    "collapsed": false
   },
   "outputs": [
    {
     "data": {
      "text/html": [
       "<table>\n",
       "<thead><tr><th></th><th scope=col>carname</th><th scope=col>gear</th><th scope=col>cyl</th><th scope=col>variable</th><th scope=col>value</th></tr></thead>\n",
       "<tbody>\n",
       "\t<tr><th scope=row>1</th><td>Mazda RX4</td><td>4        </td><td>6        </td><td>mpg      </td><td>21       </td></tr>\n",
       "\t<tr><th scope=row>2</th><td>Mazda RX4 Wag</td><td>4            </td><td>6            </td><td>mpg          </td><td>21           </td></tr>\n",
       "\t<tr><th scope=row>3</th><td>Datsun 710</td><td>4         </td><td>4         </td><td>mpg       </td><td>22.8      </td></tr>\n",
       "</tbody>\n",
       "</table>\n"
      ],
      "text/latex": [
       "\\begin{tabular}{r|lllll}\n",
       "  & carname & gear & cyl & variable & value\\\\\n",
       "\\hline\n",
       "\t1 & Mazda RX4 & 4         & 6         & mpg       & 21       \\\\\n",
       "\t2 & Mazda RX4 Wag & 4             & 6             & mpg           & 21           \\\\\n",
       "\t3 & Datsun 710 & 4          & 4          & mpg        & 22.8      \\\\\n",
       "\\end{tabular}\n"
      ],
      "text/plain": [
       "        carname gear cyl variable value\n",
       "1     Mazda RX4    4   6      mpg  21.0\n",
       "2 Mazda RX4 Wag    4   6      mpg  21.0\n",
       "3    Datsun 710    4   4      mpg  22.8"
      ]
     },
     "metadata": {},
     "output_type": "display_data"
    }
   ],
   "source": [
    "mtcars$carname <- rownames(mtcars) # Create a new column\n",
    "carMelt <- melt(mtcars, id=c(\"carname\", \"gear\", \"cyl\"), measure.vars=c(\"mpg\", \"hp\"))\n",
    "\n",
    "head(carMelt, n=3)"
   ]
  },
  {
   "cell_type": "code",
   "execution_count": 40,
   "metadata": {
    "collapsed": false
   },
   "outputs": [
    {
     "data": {
      "text/html": [
       "<table>\n",
       "<thead><tr><th></th><th scope=col>carname</th><th scope=col>gear</th><th scope=col>cyl</th><th scope=col>variable</th><th scope=col>value</th></tr></thead>\n",
       "<tbody>\n",
       "\t<tr><th scope=row>62</th><td>Ferrari Dino</td><td>5           </td><td>6           </td><td>hp          </td><td>175         </td></tr>\n",
       "\t<tr><th scope=row>63</th><td>Maserati Bora</td><td>5            </td><td>8            </td><td>hp           </td><td>335          </td></tr>\n",
       "\t<tr><th scope=row>64</th><td>Volvo 142E</td><td>4         </td><td>4         </td><td>hp        </td><td>109       </td></tr>\n",
       "</tbody>\n",
       "</table>\n"
      ],
      "text/latex": [
       "\\begin{tabular}{r|lllll}\n",
       "  & carname & gear & cyl & variable & value\\\\\n",
       "\\hline\n",
       "\t62 & Ferrari Dino & 5            & 6            & hp           & 175         \\\\\n",
       "\t63 & Maserati Bora & 5             & 8             & hp            & 335          \\\\\n",
       "\t64 & Volvo 142E & 4          & 4          & hp         & 109       \\\\\n",
       "\\end{tabular}\n"
      ],
      "text/plain": [
       "         carname gear cyl variable value\n",
       "62  Ferrari Dino    5   6       hp   175\n",
       "63 Maserati Bora    5   8       hp   335\n",
       "64    Volvo 142E    4   4       hp   109"
      ]
     },
     "metadata": {},
     "output_type": "display_data"
    }
   ],
   "source": [
    "tail(carMelt, n=3) # Only hp values at the bottom"
   ]
  },
  {
   "cell_type": "markdown",
   "metadata": {},
   "source": [
    "## Casting dataframes"
   ]
  },
  {
   "cell_type": "code",
   "execution_count": 41,
   "metadata": {
    "collapsed": false
   },
   "outputs": [
    {
     "name": "stderr",
     "output_type": "stream",
     "text": [
      "Aggregation function missing: defaulting to length\n"
     ]
    },
    {
     "data": {
      "text/html": [
       "<table>\n",
       "<thead><tr><th></th><th scope=col>cyl</th><th scope=col>mpg</th><th scope=col>hp</th></tr></thead>\n",
       "<tbody>\n",
       "\t<tr><th scope=row>1</th><td> 4</td><td>11</td><td>11</td></tr>\n",
       "\t<tr><th scope=row>2</th><td>6</td><td>7</td><td>7</td></tr>\n",
       "\t<tr><th scope=row>3</th><td> 8</td><td>14</td><td>14</td></tr>\n",
       "</tbody>\n",
       "</table>\n"
      ],
      "text/latex": [
       "\\begin{tabular}{r|lll}\n",
       "  & cyl & mpg & hp\\\\\n",
       "\\hline\n",
       "\t1 &  4 & 11 & 11\\\\\n",
       "\t2 & 6 & 7 & 7\\\\\n",
       "\t3 &  8 & 14 & 14\\\\\n",
       "\\end{tabular}\n"
      ],
      "text/plain": [
       "  cyl mpg hp\n",
       "1   4  11 11\n",
       "2   6   7  7\n",
       "3   8  14 14"
      ]
     },
     "metadata": {},
     "output_type": "display_data"
    }
   ],
   "source": [
    "dcast(carMelt, cyl ~ variable) # By def. caulc. the number of"
   ]
  },
  {
   "cell_type": "code",
   "execution_count": 42,
   "metadata": {
    "collapsed": false
   },
   "outputs": [
    {
     "data": {
      "text/html": [
       "<table>\n",
       "<thead><tr><th></th><th scope=col>cyl</th><th scope=col>mpg</th><th scope=col>hp</th></tr></thead>\n",
       "<tbody>\n",
       "\t<tr><th scope=row>1</th><td> 4.00000</td><td>26.66364</td><td>82.63636</td></tr>\n",
       "\t<tr><th scope=row>2</th><td>  6.00000</td><td> 19.74286</td><td>122.28571</td></tr>\n",
       "\t<tr><th scope=row>3</th><td>  8.0000</td><td> 15.1000</td><td>209.2143</td></tr>\n",
       "</tbody>\n",
       "</table>\n"
      ],
      "text/latex": [
       "\\begin{tabular}{r|lll}\n",
       "  & cyl & mpg & hp\\\\\n",
       "\\hline\n",
       "\t1 &  4.00000 & 26.66364 & 82.63636\\\\\n",
       "\t2 &   6.00000 &  19.74286 & 122.28571\\\\\n",
       "\t3 &   8.0000 &  15.1000 & 209.2143\\\\\n",
       "\\end{tabular}\n"
      ],
      "text/plain": [
       "  cyl      mpg        hp\n",
       "1   4 26.66364  82.63636\n",
       "2   6 19.74286 122.28571\n",
       "3   8 15.10000 209.21429"
      ]
     },
     "metadata": {},
     "output_type": "display_data"
    }
   ],
   "source": [
    "dcast(carMelt, cyl ~ variable, mean)"
   ]
  },
  {
   "cell_type": "markdown",
   "metadata": {},
   "source": [
    "## Averaging values"
   ]
  },
  {
   "cell_type": "code",
   "execution_count": 43,
   "metadata": {
    "collapsed": false
   },
   "outputs": [
    {
     "data": {
      "text/html": [
       "<table>\n",
       "<thead><tr><th></th><th scope=col>count</th><th scope=col>spray</th></tr></thead>\n",
       "<tbody>\n",
       "\t<tr><th scope=row>1</th><td>10</td><td>A </td></tr>\n",
       "\t<tr><th scope=row>2</th><td>7</td><td>A</td></tr>\n",
       "\t<tr><th scope=row>3</th><td>20</td><td>A </td></tr>\n",
       "\t<tr><th scope=row>4</th><td>14</td><td>A </td></tr>\n",
       "\t<tr><th scope=row>5</th><td>14</td><td>A </td></tr>\n",
       "\t<tr><th scope=row>6</th><td>12</td><td>A </td></tr>\n",
       "</tbody>\n",
       "</table>\n"
      ],
      "text/latex": [
       "\\begin{tabular}{r|ll}\n",
       "  & count & spray\\\\\n",
       "\\hline\n",
       "\t1 & 10 & A \\\\\n",
       "\t2 & 7 & A\\\\\n",
       "\t3 & 20 & A \\\\\n",
       "\t4 & 14 & A \\\\\n",
       "\t5 & 14 & A \\\\\n",
       "\t6 & 12 & A \\\\\n",
       "\\end{tabular}\n"
      ],
      "text/plain": [
       "  count spray\n",
       "1    10     A\n",
       "2     7     A\n",
       "3    20     A\n",
       "4    14     A\n",
       "5    14     A\n",
       "6    12     A"
      ]
     },
     "metadata": {},
     "output_type": "display_data"
    }
   ],
   "source": [
    "head(InsectSprays)"
   ]
  },
  {
   "cell_type": "code",
   "execution_count": 44,
   "metadata": {
    "collapsed": false
   },
   "outputs": [
    {
     "name": "stdout",
     "output_type": "stream",
     "text": [
      "  A   B   C   D   E   F \n",
      "174 184  25  59  42 200 \n"
     ]
    }
   ],
   "source": [
    "print(tapply(InsectSprays$count, InsectSprays$spray, sum))"
   ]
  },
  {
   "cell_type": "markdown",
   "metadata": {},
   "source": [
    "## Another way (maybe more intuitive) - split"
   ]
  },
  {
   "cell_type": "code",
   "execution_count": 45,
   "metadata": {
    "collapsed": false
   },
   "outputs": [
    {
     "data": {
      "text/html": [
       "<dl>\n",
       "\t<dt>$A</dt>\n",
       "\t\t<dd><ol class=list-inline>\n",
       "\t<li>10</li>\n",
       "\t<li>7</li>\n",
       "\t<li>20</li>\n",
       "\t<li>14</li>\n",
       "\t<li>14</li>\n",
       "\t<li>12</li>\n",
       "\t<li>10</li>\n",
       "\t<li>23</li>\n",
       "\t<li>17</li>\n",
       "\t<li>20</li>\n",
       "\t<li>14</li>\n",
       "\t<li>13</li>\n",
       "</ol>\n",
       "</dd>\n",
       "\t<dt>$B</dt>\n",
       "\t\t<dd><ol class=list-inline>\n",
       "\t<li>11</li>\n",
       "\t<li>17</li>\n",
       "\t<li>21</li>\n",
       "\t<li>11</li>\n",
       "\t<li>16</li>\n",
       "\t<li>14</li>\n",
       "\t<li>17</li>\n",
       "\t<li>17</li>\n",
       "\t<li>19</li>\n",
       "\t<li>21</li>\n",
       "\t<li>7</li>\n",
       "\t<li>13</li>\n",
       "</ol>\n",
       "</dd>\n",
       "\t<dt>$C</dt>\n",
       "\t\t<dd><ol class=list-inline>\n",
       "\t<li>0</li>\n",
       "\t<li>1</li>\n",
       "\t<li>7</li>\n",
       "\t<li>2</li>\n",
       "\t<li>3</li>\n",
       "\t<li>1</li>\n",
       "\t<li>2</li>\n",
       "\t<li>1</li>\n",
       "\t<li>3</li>\n",
       "\t<li>0</li>\n",
       "\t<li>1</li>\n",
       "\t<li>4</li>\n",
       "</ol>\n",
       "</dd>\n",
       "\t<dt>$D</dt>\n",
       "\t\t<dd><ol class=list-inline>\n",
       "\t<li>3</li>\n",
       "\t<li>5</li>\n",
       "\t<li>12</li>\n",
       "\t<li>6</li>\n",
       "\t<li>4</li>\n",
       "\t<li>3</li>\n",
       "\t<li>5</li>\n",
       "\t<li>5</li>\n",
       "\t<li>5</li>\n",
       "\t<li>5</li>\n",
       "\t<li>2</li>\n",
       "\t<li>4</li>\n",
       "</ol>\n",
       "</dd>\n",
       "\t<dt>$E</dt>\n",
       "\t\t<dd><ol class=list-inline>\n",
       "\t<li>3</li>\n",
       "\t<li>5</li>\n",
       "\t<li>3</li>\n",
       "\t<li>5</li>\n",
       "\t<li>3</li>\n",
       "\t<li>6</li>\n",
       "\t<li>1</li>\n",
       "\t<li>1</li>\n",
       "\t<li>3</li>\n",
       "\t<li>2</li>\n",
       "\t<li>6</li>\n",
       "\t<li>4</li>\n",
       "</ol>\n",
       "</dd>\n",
       "\t<dt>$F</dt>\n",
       "\t\t<dd><ol class=list-inline>\n",
       "\t<li>11</li>\n",
       "\t<li>9</li>\n",
       "\t<li>15</li>\n",
       "\t<li>22</li>\n",
       "\t<li>15</li>\n",
       "\t<li>16</li>\n",
       "\t<li>13</li>\n",
       "\t<li>10</li>\n",
       "\t<li>26</li>\n",
       "\t<li>26</li>\n",
       "\t<li>24</li>\n",
       "\t<li>13</li>\n",
       "</ol>\n",
       "</dd>\n",
       "</dl>\n"
      ],
      "text/latex": [
       "\\begin{description}\n",
       "\\item[\\$A] \\begin{enumerate*}\n",
       "\\item 10\n",
       "\\item 7\n",
       "\\item 20\n",
       "\\item 14\n",
       "\\item 14\n",
       "\\item 12\n",
       "\\item 10\n",
       "\\item 23\n",
       "\\item 17\n",
       "\\item 20\n",
       "\\item 14\n",
       "\\item 13\n",
       "\\end{enumerate*}\n",
       "\n",
       "\\item[\\$B] \\begin{enumerate*}\n",
       "\\item 11\n",
       "\\item 17\n",
       "\\item 21\n",
       "\\item 11\n",
       "\\item 16\n",
       "\\item 14\n",
       "\\item 17\n",
       "\\item 17\n",
       "\\item 19\n",
       "\\item 21\n",
       "\\item 7\n",
       "\\item 13\n",
       "\\end{enumerate*}\n",
       "\n",
       "\\item[\\$C] \\begin{enumerate*}\n",
       "\\item 0\n",
       "\\item 1\n",
       "\\item 7\n",
       "\\item 2\n",
       "\\item 3\n",
       "\\item 1\n",
       "\\item 2\n",
       "\\item 1\n",
       "\\item 3\n",
       "\\item 0\n",
       "\\item 1\n",
       "\\item 4\n",
       "\\end{enumerate*}\n",
       "\n",
       "\\item[\\$D] \\begin{enumerate*}\n",
       "\\item 3\n",
       "\\item 5\n",
       "\\item 12\n",
       "\\item 6\n",
       "\\item 4\n",
       "\\item 3\n",
       "\\item 5\n",
       "\\item 5\n",
       "\\item 5\n",
       "\\item 5\n",
       "\\item 2\n",
       "\\item 4\n",
       "\\end{enumerate*}\n",
       "\n",
       "\\item[\\$E] \\begin{enumerate*}\n",
       "\\item 3\n",
       "\\item 5\n",
       "\\item 3\n",
       "\\item 5\n",
       "\\item 3\n",
       "\\item 6\n",
       "\\item 1\n",
       "\\item 1\n",
       "\\item 3\n",
       "\\item 2\n",
       "\\item 6\n",
       "\\item 4\n",
       "\\end{enumerate*}\n",
       "\n",
       "\\item[\\$F] \\begin{enumerate*}\n",
       "\\item 11\n",
       "\\item 9\n",
       "\\item 15\n",
       "\\item 22\n",
       "\\item 15\n",
       "\\item 16\n",
       "\\item 13\n",
       "\\item 10\n",
       "\\item 26\n",
       "\\item 26\n",
       "\\item 24\n",
       "\\item 13\n",
       "\\end{enumerate*}\n",
       "\n",
       "\\end{description}\n"
      ],
      "text/markdown": [
       "$A\n",
       ":   1. 10\n",
       "2. 7\n",
       "3. 20\n",
       "4. 14\n",
       "5. 14\n",
       "6. 12\n",
       "7. 10\n",
       "8. 23\n",
       "9. 17\n",
       "10. 20\n",
       "11. 14\n",
       "12. 13\n",
       "\n",
       "\n",
       "\n",
       "$B\n",
       ":   1. 11\n",
       "2. 17\n",
       "3. 21\n",
       "4. 11\n",
       "5. 16\n",
       "6. 14\n",
       "7. 17\n",
       "8. 17\n",
       "9. 19\n",
       "10. 21\n",
       "11. 7\n",
       "12. 13\n",
       "\n",
       "\n",
       "\n",
       "$C\n",
       ":   1. 0\n",
       "2. 1\n",
       "3. 7\n",
       "4. 2\n",
       "5. 3\n",
       "6. 1\n",
       "7. 2\n",
       "8. 1\n",
       "9. 3\n",
       "10. 0\n",
       "11. 1\n",
       "12. 4\n",
       "\n",
       "\n",
       "\n",
       "$D\n",
       ":   1. 3\n",
       "2. 5\n",
       "3. 12\n",
       "4. 6\n",
       "5. 4\n",
       "6. 3\n",
       "7. 5\n",
       "8. 5\n",
       "9. 5\n",
       "10. 5\n",
       "11. 2\n",
       "12. 4\n",
       "\n",
       "\n",
       "\n",
       "$E\n",
       ":   1. 3\n",
       "2. 5\n",
       "3. 3\n",
       "4. 5\n",
       "5. 3\n",
       "6. 6\n",
       "7. 1\n",
       "8. 1\n",
       "9. 3\n",
       "10. 2\n",
       "11. 6\n",
       "12. 4\n",
       "\n",
       "\n",
       "\n",
       "$F\n",
       ":   1. 11\n",
       "2. 9\n",
       "3. 15\n",
       "4. 22\n",
       "5. 15\n",
       "6. 16\n",
       "7. 13\n",
       "8. 10\n",
       "9. 26\n",
       "10. 26\n",
       "11. 24\n",
       "12. 13\n",
       "\n",
       "\n",
       "\n",
       "\n",
       "\n"
      ],
      "text/plain": [
       "$A\n",
       " [1] 10  7 20 14 14 12 10 23 17 20 14 13\n",
       "\n",
       "$B\n",
       " [1] 11 17 21 11 16 14 17 17 19 21  7 13\n",
       "\n",
       "$C\n",
       " [1] 0 1 7 2 3 1 2 1 3 0 1 4\n",
       "\n",
       "$D\n",
       " [1]  3  5 12  6  4  3  5  5  5  5  2  4\n",
       "\n",
       "$E\n",
       " [1] 3 5 3 5 3 6 1 1 3 2 6 4\n",
       "\n",
       "$F\n",
       " [1] 11  9 15 22 15 16 13 10 26 26 24 13\n"
      ]
     },
     "metadata": {},
     "output_type": "display_data"
    }
   ],
   "source": [
    "spIns <- split(InsectSprays$count, InsectSprays$spray)\n",
    "spIns # List for each spray"
   ]
  },
  {
   "cell_type": "code",
   "execution_count": 46,
   "metadata": {
    "collapsed": false
   },
   "outputs": [
    {
     "name": "stdout",
     "output_type": "stream",
     "text": [
      "  A   B   C   D   E   F \n",
      "174 184  25  59  42 200 \n"
     ]
    }
   ],
   "source": [
    "print(sapply(spIns, sum))"
   ]
  },
  {
   "cell_type": "markdown",
   "metadata": {},
   "source": [
    "# dplyr : package for data frames"
   ]
  },
  {
   "cell_type": "code",
   "execution_count": 47,
   "metadata": {
    "collapsed": false
   },
   "outputs": [
    {
     "name": "stderr",
     "output_type": "stream",
     "text": [
      "\n",
      "Attaching package: 'dplyr'\n",
      "\n",
      "The following objects are masked from 'package:plyr':\n",
      "\n",
      "    arrange, count, desc, failwith, id, mutate, rename, summarise,\n",
      "    summarize\n",
      "\n",
      "The following objects are masked from 'package:stats':\n",
      "\n",
      "    filter, lag\n",
      "\n",
      "The following objects are masked from 'package:base':\n",
      "\n",
      "    intersect, setdiff, setequal, union\n",
      "\n"
     ]
    }
   ],
   "source": [
    "library(dplyr)"
   ]
  },
  {
   "cell_type": "code",
   "execution_count": 48,
   "metadata": {
    "collapsed": false
   },
   "outputs": [
    {
     "data": {
      "text/html": [
       "<ol class=list-inline>\n",
       "\t<li>\"Sepal.Length\"</li>\n",
       "\t<li>\"Sepal.Width\"</li>\n",
       "\t<li>\"Petal.Length\"</li>\n",
       "\t<li>\"Petal.Width\"</li>\n",
       "\t<li>\"Species\"</li>\n",
       "</ol>\n"
      ],
      "text/latex": [
       "\\begin{enumerate*}\n",
       "\\item \"Sepal.Length\"\n",
       "\\item \"Sepal.Width\"\n",
       "\\item \"Petal.Length\"\n",
       "\\item \"Petal.Width\"\n",
       "\\item \"Species\"\n",
       "\\end{enumerate*}\n"
      ],
      "text/markdown": [
       "1. \"Sepal.Length\"\n",
       "2. \"Sepal.Width\"\n",
       "3. \"Petal.Length\"\n",
       "4. \"Petal.Width\"\n",
       "5. \"Species\"\n",
       "\n",
       "\n"
      ],
      "text/plain": [
       "[1] \"Sepal.Length\" \"Sepal.Width\"  \"Petal.Length\" \"Petal.Width\"  \"Species\"     "
      ]
     },
     "metadata": {},
     "output_type": "display_data"
    }
   ],
   "source": [
    "names(iris)"
   ]
  },
  {
   "cell_type": "code",
   "execution_count": 49,
   "metadata": {
    "collapsed": false
   },
   "outputs": [
    {
     "data": {
      "text/html": [
       "<table>\n",
       "<thead><tr><th></th><th scope=col>Sepal.Length</th><th scope=col>Sepal.Width</th><th scope=col>Petal.Length</th></tr></thead>\n",
       "<tbody>\n",
       "\t<tr><th scope=row>1</th><td>5.1</td><td>3.5</td><td>1.4</td></tr>\n",
       "\t<tr><th scope=row>2</th><td>4.9</td><td>3.0</td><td>1.4</td></tr>\n",
       "\t<tr><th scope=row>3</th><td>4.7</td><td>3.2</td><td>1.3</td></tr>\n",
       "\t<tr><th scope=row>4</th><td>4.6</td><td>3.1</td><td>1.5</td></tr>\n",
       "\t<tr><th scope=row>5</th><td>5.0</td><td>3.6</td><td>1.4</td></tr>\n",
       "\t<tr><th scope=row>6</th><td>5.4</td><td>3.9</td><td>1.7</td></tr>\n",
       "</tbody>\n",
       "</table>\n"
      ],
      "text/latex": [
       "\\begin{tabular}{r|lll}\n",
       "  & Sepal.Length & Sepal.Width & Petal.Length\\\\\n",
       "\\hline\n",
       "\t1 & 5.1 & 3.5 & 1.4\\\\\n",
       "\t2 & 4.9 & 3.0 & 1.4\\\\\n",
       "\t3 & 4.7 & 3.2 & 1.3\\\\\n",
       "\t4 & 4.6 & 3.1 & 1.5\\\\\n",
       "\t5 & 5.0 & 3.6 & 1.4\\\\\n",
       "\t6 & 5.4 & 3.9 & 1.7\\\\\n",
       "\\end{tabular}\n"
      ],
      "text/plain": [
       "  Sepal.Length Sepal.Width Petal.Length\n",
       "1          5.1         3.5          1.4\n",
       "2          4.9         3.0          1.4\n",
       "3          4.7         3.2          1.3\n",
       "4          4.6         3.1          1.5\n",
       "5          5.0         3.6          1.4\n",
       "6          5.4         3.9          1.7"
      ]
     },
     "metadata": {},
     "output_type": "display_data"
    }
   ],
   "source": [
    "head(select(iris, Sepal.Length:Petal.Length)) # Select to and from"
   ]
  },
  {
   "cell_type": "code",
   "execution_count": 50,
   "metadata": {
    "collapsed": false
   },
   "outputs": [
    {
     "data": {
      "text/html": [
       "<table>\n",
       "<thead><tr><th></th><th scope=col>Petal.Width</th><th scope=col>Species</th></tr></thead>\n",
       "<tbody>\n",
       "\t<tr><th scope=row>1</th><td>0.2   </td><td>setosa</td></tr>\n",
       "\t<tr><th scope=row>2</th><td>0.2   </td><td>setosa</td></tr>\n",
       "\t<tr><th scope=row>3</th><td>0.2   </td><td>setosa</td></tr>\n",
       "\t<tr><th scope=row>4</th><td>0.2   </td><td>setosa</td></tr>\n",
       "\t<tr><th scope=row>5</th><td>0.2   </td><td>setosa</td></tr>\n",
       "\t<tr><th scope=row>6</th><td>0.4   </td><td>setosa</td></tr>\n",
       "</tbody>\n",
       "</table>\n"
      ],
      "text/latex": [
       "\\begin{tabular}{r|ll}\n",
       "  & Petal.Width & Species\\\\\n",
       "\\hline\n",
       "\t1 & 0.2    & setosa\\\\\n",
       "\t2 & 0.2    & setosa\\\\\n",
       "\t3 & 0.2    & setosa\\\\\n",
       "\t4 & 0.2    & setosa\\\\\n",
       "\t5 & 0.2    & setosa\\\\\n",
       "\t6 & 0.4    & setosa\\\\\n",
       "\\end{tabular}\n"
      ],
      "text/plain": [
       "  Petal.Width Species\n",
       "1         0.2  setosa\n",
       "2         0.2  setosa\n",
       "3         0.2  setosa\n",
       "4         0.2  setosa\n",
       "5         0.2  setosa\n",
       "6         0.4  setosa"
      ]
     },
     "metadata": {},
     "output_type": "display_data"
    }
   ],
   "source": [
    "head(select(iris, -(Sepal.Length:Petal.Length))) # All but these two using minus(-)"
   ]
  },
  {
   "cell_type": "code",
   "execution_count": 51,
   "metadata": {
    "collapsed": false
   },
   "outputs": [
    {
     "data": {
      "text/html": [
       "<table>\n",
       "<thead><tr><th></th><th scope=col>Sepal.Length</th><th scope=col>Sepal.Width</th><th scope=col>Petal.Length</th><th scope=col>Petal.Width</th><th scope=col>Species</th></tr></thead>\n",
       "<tbody>\n",
       "\t<tr><th scope=row>1</th><td>5.4   </td><td>3.9   </td><td>1.7   </td><td>0.4   </td><td>setosa</td></tr>\n",
       "\t<tr><th scope=row>2</th><td>4.6   </td><td>3.4   </td><td>1.4   </td><td>0.3   </td><td>setosa</td></tr>\n",
       "\t<tr><th scope=row>3</th><td>5.7   </td><td>4.4   </td><td>1.5   </td><td>0.4   </td><td>setosa</td></tr>\n",
       "\t<tr><th scope=row>4</th><td>5.4   </td><td>3.9   </td><td>1.3   </td><td>0.4   </td><td>setosa</td></tr>\n",
       "\t<tr><th scope=row>5</th><td>5.1   </td><td>3.5   </td><td>1.4   </td><td>0.3   </td><td>setosa</td></tr>\n",
       "\t<tr><th scope=row>6</th><td>5.7   </td><td>3.8   </td><td>1.7   </td><td>0.3   </td><td>setosa</td></tr>\n",
       "\t<tr><th scope=row>7</th><td>5.1   </td><td>3.8   </td><td>1.5   </td><td>0.3   </td><td>setosa</td></tr>\n",
       "\t<tr><th scope=row>8</th><td>5.1   </td><td>3.7   </td><td>1.5   </td><td>0.4   </td><td>setosa</td></tr>\n",
       "\t<tr><th scope=row>9</th><td>5.1   </td><td>3.3   </td><td>1.7   </td><td>0.5   </td><td>setosa</td></tr>\n",
       "\t<tr><th scope=row>10</th><td>5     </td><td>3.4   </td><td>1.6   </td><td>0.4   </td><td>setosa</td></tr>\n",
       "\t<tr><th scope=row>11</th><td>5.4   </td><td>3.4   </td><td>1.5   </td><td>0.4   </td><td>setosa</td></tr>\n",
       "\t<tr><th scope=row>12</th><td>5     </td><td>3.5   </td><td>1.3   </td><td>0.3   </td><td>setosa</td></tr>\n",
       "\t<tr><th scope=row>13</th><td>4.5   </td><td>2.3   </td><td>1.3   </td><td>0.3   </td><td>setosa</td></tr>\n",
       "\t<tr><th scope=row>14</th><td>5     </td><td>3.5   </td><td>1.6   </td><td>0.6   </td><td>setosa</td></tr>\n",
       "\t<tr><th scope=row>15</th><td>5.1   </td><td>3.8   </td><td>1.9   </td><td>0.4   </td><td>setosa</td></tr>\n",
       "\t<tr><th scope=row>16</th><td>4.8   </td><td>3     </td><td>1.4   </td><td>0.3   </td><td>setosa</td></tr>\n",
       "\t<tr><th scope=row>17</th><td>7         </td><td>3.2       </td><td>4.7       </td><td>1.4       </td><td>versicolor</td></tr>\n",
       "\t<tr><th scope=row>18</th><td>6.4       </td><td>3.2       </td><td>4.5       </td><td>1.5       </td><td>versicolor</td></tr>\n",
       "\t<tr><th scope=row>19</th><td>6.9       </td><td>3.1       </td><td>4.9       </td><td>1.5       </td><td>versicolor</td></tr>\n",
       "\t<tr><th scope=row>20</th><td>5.5       </td><td>2.3       </td><td>4         </td><td>1.3       </td><td>versicolor</td></tr>\n",
       "\t<tr><th scope=row>21</th><td>6.5       </td><td>2.8       </td><td>4.6       </td><td>1.5       </td><td>versicolor</td></tr>\n",
       "\t<tr><th scope=row>22</th><td>5.7       </td><td>2.8       </td><td>4.5       </td><td>1.3       </td><td>versicolor</td></tr>\n",
       "\t<tr><th scope=row>23</th><td>6.3       </td><td>3.3       </td><td>4.7       </td><td>1.6       </td><td>versicolor</td></tr>\n",
       "\t<tr><th scope=row>24</th><td>4.9       </td><td>2.4       </td><td>3.3       </td><td>1         </td><td>versicolor</td></tr>\n",
       "\t<tr><th scope=row>25</th><td>6.6       </td><td>2.9       </td><td>4.6       </td><td>1.3       </td><td>versicolor</td></tr>\n",
       "\t<tr><th scope=row>26</th><td>5.2       </td><td>2.7       </td><td>3.9       </td><td>1.4       </td><td>versicolor</td></tr>\n",
       "\t<tr><th scope=row>27</th><td>5         </td><td>2         </td><td>3.5       </td><td>1         </td><td>versicolor</td></tr>\n",
       "\t<tr><th scope=row>28</th><td>5.9       </td><td>3         </td><td>4.2       </td><td>1.5       </td><td>versicolor</td></tr>\n",
       "\t<tr><th scope=row>29</th><td>6         </td><td>2.2       </td><td>4         </td><td>1         </td><td>versicolor</td></tr>\n",
       "\t<tr><th scope=row>30</th><td>6.1       </td><td>2.9       </td><td>4.7       </td><td>1.4       </td><td>versicolor</td></tr>\n",
       "\t<tr><th scope=row>...</th><td>...</td><td>...</td><td>...</td><td>...</td><td>...</td></tr>\n",
       "\t<tr><th scope=row>87</th><td>6.9      </td><td>3.2      </td><td>5.7      </td><td>2.3      </td><td>virginica</td></tr>\n",
       "\t<tr><th scope=row>88</th><td>5.6      </td><td>2.8      </td><td>4.9      </td><td>2        </td><td>virginica</td></tr>\n",
       "\t<tr><th scope=row>89</th><td>7.7      </td><td>2.8      </td><td>6.7      </td><td>2        </td><td>virginica</td></tr>\n",
       "\t<tr><th scope=row>90</th><td>6.3      </td><td>2.7      </td><td>4.9      </td><td>1.8      </td><td>virginica</td></tr>\n",
       "\t<tr><th scope=row>91</th><td>6.7      </td><td>3.3      </td><td>5.7      </td><td>2.1      </td><td>virginica</td></tr>\n",
       "\t<tr><th scope=row>92</th><td>7.2      </td><td>3.2      </td><td>6        </td><td>1.8      </td><td>virginica</td></tr>\n",
       "\t<tr><th scope=row>93</th><td>6.2      </td><td>2.8      </td><td>4.8      </td><td>1.8      </td><td>virginica</td></tr>\n",
       "\t<tr><th scope=row>94</th><td>6.1      </td><td>3        </td><td>4.9      </td><td>1.8      </td><td>virginica</td></tr>\n",
       "\t<tr><th scope=row>95</th><td>6.4      </td><td>2.8      </td><td>5.6      </td><td>2.1      </td><td>virginica</td></tr>\n",
       "\t<tr><th scope=row>96</th><td>7.2      </td><td>3        </td><td>5.8      </td><td>1.6      </td><td>virginica</td></tr>\n",
       "\t<tr><th scope=row>97</th><td>7.4      </td><td>2.8      </td><td>6.1      </td><td>1.9      </td><td>virginica</td></tr>\n",
       "\t<tr><th scope=row>98</th><td>7.9      </td><td>3.8      </td><td>6.4      </td><td>2        </td><td>virginica</td></tr>\n",
       "\t<tr><th scope=row>99</th><td>6.4      </td><td>2.8      </td><td>5.6      </td><td>2.2      </td><td>virginica</td></tr>\n",
       "\t<tr><th scope=row>100</th><td>6.3      </td><td>2.8      </td><td>5.1      </td><td>1.5      </td><td>virginica</td></tr>\n",
       "\t<tr><th scope=row>101</th><td>6.1      </td><td>2.6      </td><td>5.6      </td><td>1.4      </td><td>virginica</td></tr>\n",
       "\t<tr><th scope=row>102</th><td>7.7      </td><td>3        </td><td>6.1      </td><td>2.3      </td><td>virginica</td></tr>\n",
       "\t<tr><th scope=row>103</th><td>6.3      </td><td>3.4      </td><td>5.6      </td><td>2.4      </td><td>virginica</td></tr>\n",
       "\t<tr><th scope=row>104</th><td>6.4      </td><td>3.1      </td><td>5.5      </td><td>1.8      </td><td>virginica</td></tr>\n",
       "\t<tr><th scope=row>105</th><td>6        </td><td>3        </td><td>4.8      </td><td>1.8      </td><td>virginica</td></tr>\n",
       "\t<tr><th scope=row>106</th><td>6.9      </td><td>3.1      </td><td>5.4      </td><td>2.1      </td><td>virginica</td></tr>\n",
       "\t<tr><th scope=row>107</th><td>6.7      </td><td>3.1      </td><td>5.6      </td><td>2.4      </td><td>virginica</td></tr>\n",
       "\t<tr><th scope=row>108</th><td>6.9      </td><td>3.1      </td><td>5.1      </td><td>2.3      </td><td>virginica</td></tr>\n",
       "\t<tr><th scope=row>109</th><td>5.8      </td><td>2.7      </td><td>5.1      </td><td>1.9      </td><td>virginica</td></tr>\n",
       "\t<tr><th scope=row>110</th><td>6.8      </td><td>3.2      </td><td>5.9      </td><td>2.3      </td><td>virginica</td></tr>\n",
       "\t<tr><th scope=row>111</th><td>6.7      </td><td>3.3      </td><td>5.7      </td><td>2.5      </td><td>virginica</td></tr>\n",
       "\t<tr><th scope=row>112</th><td>6.7      </td><td>3        </td><td>5.2      </td><td>2.3      </td><td>virginica</td></tr>\n",
       "\t<tr><th scope=row>113</th><td>6.3      </td><td>2.5      </td><td>5        </td><td>1.9      </td><td>virginica</td></tr>\n",
       "\t<tr><th scope=row>114</th><td>6.5      </td><td>3        </td><td>5.2      </td><td>2        </td><td>virginica</td></tr>\n",
       "\t<tr><th scope=row>115</th><td>6.2      </td><td>3.4      </td><td>5.4      </td><td>2.3      </td><td>virginica</td></tr>\n",
       "\t<tr><th scope=row>116</th><td>5.9      </td><td>3        </td><td>5.1      </td><td>1.8      </td><td>virginica</td></tr>\n",
       "</tbody>\n",
       "</table>\n"
      ],
      "text/latex": [
       "\\begin{tabular}{r|lllll}\n",
       "  & Sepal.Length & Sepal.Width & Petal.Length & Petal.Width & Species\\\\\n",
       "\\hline\n",
       "\t1 & 5.4    & 3.9    & 1.7    & 0.4    & setosa\\\\\n",
       "\t2 & 4.6    & 3.4    & 1.4    & 0.3    & setosa\\\\\n",
       "\t3 & 5.7    & 4.4    & 1.5    & 0.4    & setosa\\\\\n",
       "\t4 & 5.4    & 3.9    & 1.3    & 0.4    & setosa\\\\\n",
       "\t5 & 5.1    & 3.5    & 1.4    & 0.3    & setosa\\\\\n",
       "\t6 & 5.7    & 3.8    & 1.7    & 0.3    & setosa\\\\\n",
       "\t7 & 5.1    & 3.8    & 1.5    & 0.3    & setosa\\\\\n",
       "\t8 & 5.1    & 3.7    & 1.5    & 0.4    & setosa\\\\\n",
       "\t9 & 5.1    & 3.3    & 1.7    & 0.5    & setosa\\\\\n",
       "\t10 & 5      & 3.4    & 1.6    & 0.4    & setosa\\\\\n",
       "\t11 & 5.4    & 3.4    & 1.5    & 0.4    & setosa\\\\\n",
       "\t12 & 5      & 3.5    & 1.3    & 0.3    & setosa\\\\\n",
       "\t13 & 4.5    & 2.3    & 1.3    & 0.3    & setosa\\\\\n",
       "\t14 & 5      & 3.5    & 1.6    & 0.6    & setosa\\\\\n",
       "\t15 & 5.1    & 3.8    & 1.9    & 0.4    & setosa\\\\\n",
       "\t16 & 4.8    & 3      & 1.4    & 0.3    & setosa\\\\\n",
       "\t17 & 7          & 3.2        & 4.7        & 1.4        & versicolor\\\\\n",
       "\t18 & 6.4        & 3.2        & 4.5        & 1.5        & versicolor\\\\\n",
       "\t19 & 6.9        & 3.1        & 4.9        & 1.5        & versicolor\\\\\n",
       "\t20 & 5.5        & 2.3        & 4          & 1.3        & versicolor\\\\\n",
       "\t21 & 6.5        & 2.8        & 4.6        & 1.5        & versicolor\\\\\n",
       "\t22 & 5.7        & 2.8        & 4.5        & 1.3        & versicolor\\\\\n",
       "\t23 & 6.3        & 3.3        & 4.7        & 1.6        & versicolor\\\\\n",
       "\t24 & 4.9        & 2.4        & 3.3        & 1          & versicolor\\\\\n",
       "\t25 & 6.6        & 2.9        & 4.6        & 1.3        & versicolor\\\\\n",
       "\t26 & 5.2        & 2.7        & 3.9        & 1.4        & versicolor\\\\\n",
       "\t27 & 5          & 2          & 3.5        & 1          & versicolor\\\\\n",
       "\t28 & 5.9        & 3          & 4.2        & 1.5        & versicolor\\\\\n",
       "\t29 & 6          & 2.2        & 4          & 1          & versicolor\\\\\n",
       "\t30 & 6.1        & 2.9        & 4.7        & 1.4        & versicolor\\\\\n",
       "\t... & ... & ... & ... & ... & ...\\\\\n",
       "\t87 & 6.9       & 3.2       & 5.7       & 2.3       & virginica\\\\\n",
       "\t88 & 5.6       & 2.8       & 4.9       & 2         & virginica\\\\\n",
       "\t89 & 7.7       & 2.8       & 6.7       & 2         & virginica\\\\\n",
       "\t90 & 6.3       & 2.7       & 4.9       & 1.8       & virginica\\\\\n",
       "\t91 & 6.7       & 3.3       & 5.7       & 2.1       & virginica\\\\\n",
       "\t92 & 7.2       & 3.2       & 6         & 1.8       & virginica\\\\\n",
       "\t93 & 6.2       & 2.8       & 4.8       & 1.8       & virginica\\\\\n",
       "\t94 & 6.1       & 3         & 4.9       & 1.8       & virginica\\\\\n",
       "\t95 & 6.4       & 2.8       & 5.6       & 2.1       & virginica\\\\\n",
       "\t96 & 7.2       & 3         & 5.8       & 1.6       & virginica\\\\\n",
       "\t97 & 7.4       & 2.8       & 6.1       & 1.9       & virginica\\\\\n",
       "\t98 & 7.9       & 3.8       & 6.4       & 2         & virginica\\\\\n",
       "\t99 & 6.4       & 2.8       & 5.6       & 2.2       & virginica\\\\\n",
       "\t100 & 6.3       & 2.8       & 5.1       & 1.5       & virginica\\\\\n",
       "\t101 & 6.1       & 2.6       & 5.6       & 1.4       & virginica\\\\\n",
       "\t102 & 7.7       & 3         & 6.1       & 2.3       & virginica\\\\\n",
       "\t103 & 6.3       & 3.4       & 5.6       & 2.4       & virginica\\\\\n",
       "\t104 & 6.4       & 3.1       & 5.5       & 1.8       & virginica\\\\\n",
       "\t105 & 6         & 3         & 4.8       & 1.8       & virginica\\\\\n",
       "\t106 & 6.9       & 3.1       & 5.4       & 2.1       & virginica\\\\\n",
       "\t107 & 6.7       & 3.1       & 5.6       & 2.4       & virginica\\\\\n",
       "\t108 & 6.9       & 3.1       & 5.1       & 2.3       & virginica\\\\\n",
       "\t109 & 5.8       & 2.7       & 5.1       & 1.9       & virginica\\\\\n",
       "\t110 & 6.8       & 3.2       & 5.9       & 2.3       & virginica\\\\\n",
       "\t111 & 6.7       & 3.3       & 5.7       & 2.5       & virginica\\\\\n",
       "\t112 & 6.7       & 3         & 5.2       & 2.3       & virginica\\\\\n",
       "\t113 & 6.3       & 2.5       & 5         & 1.9       & virginica\\\\\n",
       "\t114 & 6.5       & 3         & 5.2       & 2         & virginica\\\\\n",
       "\t115 & 6.2       & 3.4       & 5.4       & 2.3       & virginica\\\\\n",
       "\t116 & 5.9       & 3         & 5.1       & 1.8       & virginica\\\\\n",
       "\\end{tabular}\n"
      ],
      "text/plain": [
       "    Sepal.Length Sepal.Width Petal.Length Petal.Width    Species\n",
       "1            5.4         3.9          1.7         0.4     setosa\n",
       "2            4.6         3.4          1.4         0.3     setosa\n",
       "3            5.7         4.4          1.5         0.4     setosa\n",
       "4            5.4         3.9          1.3         0.4     setosa\n",
       "5            5.1         3.5          1.4         0.3     setosa\n",
       "6            5.7         3.8          1.7         0.3     setosa\n",
       "7            5.1         3.8          1.5         0.3     setosa\n",
       "8            5.1         3.7          1.5         0.4     setosa\n",
       "9            5.1         3.3          1.7         0.5     setosa\n",
       "10             5         3.4          1.6         0.4     setosa\n",
       "11           5.4         3.4          1.5         0.4     setosa\n",
       "12             5         3.5          1.3         0.3     setosa\n",
       "13           4.5         2.3          1.3         0.3     setosa\n",
       "14             5         3.5          1.6         0.6     setosa\n",
       "15           5.1         3.8          1.9         0.4     setosa\n",
       "16           4.8           3          1.4         0.3     setosa\n",
       "17             7         3.2          4.7         1.4 versicolor\n",
       "18           6.4         3.2          4.5         1.5 versicolor\n",
       "19           6.9         3.1          4.9         1.5 versicolor\n",
       "20           5.5         2.3            4         1.3 versicolor\n",
       "21           6.5         2.8          4.6         1.5 versicolor\n",
       "22           5.7         2.8          4.5         1.3 versicolor\n",
       "23           6.3         3.3          4.7         1.6 versicolor\n",
       "24           4.9         2.4          3.3           1 versicolor\n",
       "25           6.6         2.9          4.6         1.3 versicolor\n",
       "26           5.2         2.7          3.9         1.4 versicolor\n",
       "27             5           2          3.5           1 versicolor\n",
       "28           5.9           3          4.2         1.5 versicolor\n",
       "29             6         2.2            4           1 versicolor\n",
       "30           6.1         2.9          4.7         1.4 versicolor\n",
       "...          ...         ...          ...         ...        ...\n",
       "87           6.9         3.2          5.7         2.3  virginica\n",
       "88           5.6         2.8          4.9           2  virginica\n",
       "89           7.7         2.8          6.7           2  virginica\n",
       "90           6.3         2.7          4.9         1.8  virginica\n",
       "91           6.7         3.3          5.7         2.1  virginica\n",
       "92           7.2         3.2            6         1.8  virginica\n",
       "93           6.2         2.8          4.8         1.8  virginica\n",
       "94           6.1           3          4.9         1.8  virginica\n",
       "95           6.4         2.8          5.6         2.1  virginica\n",
       "96           7.2           3          5.8         1.6  virginica\n",
       "97           7.4         2.8          6.1         1.9  virginica\n",
       "98           7.9         3.8          6.4           2  virginica\n",
       "99           6.4         2.8          5.6         2.2  virginica\n",
       "100          6.3         2.8          5.1         1.5  virginica\n",
       "101          6.1         2.6          5.6         1.4  virginica\n",
       "102          7.7           3          6.1         2.3  virginica\n",
       "103          6.3         3.4          5.6         2.4  virginica\n",
       "104          6.4         3.1          5.5         1.8  virginica\n",
       "105            6           3          4.8         1.8  virginica\n",
       "106          6.9         3.1          5.4         2.1  virginica\n",
       "107          6.7         3.1          5.6         2.4  virginica\n",
       "108          6.9         3.1          5.1         2.3  virginica\n",
       "109          5.8         2.7          5.1         1.9  virginica\n",
       "110          6.8         3.2          5.9         2.3  virginica\n",
       "111          6.7         3.3          5.7         2.5  virginica\n",
       "112          6.7           3          5.2         2.3  virginica\n",
       "113          6.3         2.5            5         1.9  virginica\n",
       "114          6.5           3          5.2           2  virginica\n",
       "115          6.2         3.4          5.4         2.3  virginica\n",
       "116          5.9           3          5.1         1.8  virginica"
      ]
     },
     "metadata": {},
     "output_type": "display_data"
    }
   ],
   "source": [
    "filter(iris, Petal.Width > 0.2) # Only with values above threshold"
   ]
  },
  {
   "cell_type": "markdown",
   "metadata": {
    "collapsed": true
   },
   "source": [
    "### Introduction to dplyr\n",
    "\n",
    "From: https://cran.rstudio.com/web/packages/dplyr/vignettes/introduction.html\n",
    "\n",
    "To explore the basic data manipulation verbs of dplyr, we’ll start with the built in nycflights13 data frame. This dataset contains all 336776 flights that departed from New York City in 2013. The data comes from the US Bureau of Transportation Statistics, and is documented in ?nycflights13"
   ]
  },
  {
   "cell_type": "code",
   "execution_count": 58,
   "metadata": {
    "collapsed": false
   },
   "outputs": [],
   "source": [
    "library(nycflights13)"
   ]
  },
  {
   "cell_type": "code",
   "execution_count": 59,
   "metadata": {
    "collapsed": false
   },
   "outputs": [
    {
     "data": {
      "text/html": [
       "<ol class=list-inline>\n",
       "\t<li>336776</li>\n",
       "\t<li>19</li>\n",
       "</ol>\n"
      ],
      "text/latex": [
       "\\begin{enumerate*}\n",
       "\\item 336776\n",
       "\\item 19\n",
       "\\end{enumerate*}\n"
      ],
      "text/markdown": [
       "1. 336776\n",
       "2. 19\n",
       "\n",
       "\n"
      ],
      "text/plain": [
       "[1] 336776     19"
      ]
     },
     "metadata": {},
     "output_type": "display_data"
    }
   ],
   "source": [
    "dim(flights)"
   ]
  },
  {
   "cell_type": "code",
   "execution_count": 64,
   "metadata": {
    "collapsed": false
   },
   "outputs": [
    {
     "ename": "ERROR",
     "evalue": "Error in vapply(df, class, FUN.VALUE = character(1L)): values must be length 1,\n but FUN(X[[19]]) result is length 2\n",
     "output_type": "error",
     "traceback": [
      "Error in vapply(df, class, FUN.VALUE = character(1L)): values must be length 1,\n but FUN(X[[19]]) result is length 2\nTraceback:\n",
      "1. tryCatch({\n .     for (mime in getOption(\"jupyter.display_mimetypes\")) {\n .         r <- mime2repr[[mime]](obj)\n .         if (!is.null(r)) \n .             data[[mime]] <- r\n .     }\n . }, error = handle_error)"
     ]
    },
    {
     "data": {
      "text/plain": [
       "Source: local data frame [6 x 19]\n",
       "\n",
       "   year month   day dep_time sched_dep_time dep_delay arr_time sched_arr_time\n",
       "  (int) (int) (int)    (int)          (int)     (dbl)    (int)          (int)\n",
       "1  2013     1     1      517            515         2      830            819\n",
       "2  2013     1     1      533            529         4      850            830\n",
       "3  2013     1     1      542            540         2      923            850\n",
       "4  2013     1     1      544            545        -1     1004           1022\n",
       "5  2013     1     1      554            600        -6      812            837\n",
       "6  2013     1     1      554            558        -4      740            728\n",
       "Variables not shown: arr_delay (dbl), carrier (chr), flight (int), tailnum\n",
       "  (chr), origin (chr), dest (chr), air_time (dbl), distance (dbl), hour (dbl),\n",
       "  minute (dbl), time_hour (time)"
      ]
     },
     "metadata": {},
     "output_type": "display_data"
    }
   ],
   "source": [
    "head(flights)"
   ]
  },
  {
   "cell_type": "markdown",
   "metadata": {},
   "source": [
    "### Single table verbs\n",
    "\n",
    "Dplyr aims to provide a function for each basic verb of data manipulation:\n",
    "\n",
    "- filter() (and slice())\n",
    "- arrange()\n",
    "- select() (and rename())\n",
    "- distinct()\n",
    "- mutate() (and transmute())\n",
    "- summarise()\n",
    "- sample_n() (and sample_frac())\n",
    "\n",
    "### Filter rows with filter()\n",
    "\n",
    "filter() allows you to select a subset of rows in a data frame. The first argument is the name of the data frame. The second and subsequent arguments are the expressions that filter the data frame:\n",
    "\n",
    "For example, we can select all flights on January 1st with:"
   ]
  },
  {
   "cell_type": "code",
   "execution_count": 67,
   "metadata": {
    "collapsed": false
   },
   "outputs": [
    {
     "name": "stdout",
     "output_type": "stream",
     "text": [
      "Source: local data frame [6 x 19]\n",
      "\n",
      "   year month   day dep_time sched_dep_time dep_delay arr_time sched_arr_time\n",
      "  (int) (int) (int)    (int)          (int)     (dbl)    (int)          (int)\n",
      "1  2013     1     1      517            515         2      830            819\n",
      "2  2013     1     1      533            529         4      850            830\n",
      "3  2013     1     1      542            540         2      923            850\n",
      "4  2013     1     1      544            545        -1     1004           1022\n",
      "5  2013     1     1      554            600        -6      812            837\n",
      "6  2013     1     1      554            558        -4      740            728\n",
      "Variables not shown: arr_delay (dbl), carrier (chr), flight (int), tailnum\n",
      "  (chr), origin (chr), dest (chr), air_time (dbl), distance (dbl), hour (dbl),\n",
      "  minute (dbl), time_hour (time)\n"
     ]
    }
   ],
   "source": [
    "print(head(filter(flights, month == 1, day == 1)))"
   ]
  },
  {
   "cell_type": "markdown",
   "metadata": {},
   "source": [
    "This is equivalent to the more verbose code in base R:\n",
    "\n",
    "```r\n",
    "    flights[flights$month == 1 & flights$$day == 1, ]\n",
    "```"
   ]
  },
  {
   "cell_type": "code",
   "execution_count": 76,
   "metadata": {
    "collapsed": false
   },
   "outputs": [
    {
     "name": "stdout",
     "output_type": "stream",
     "text": [
      "Source: local data frame [53,785 x 19]\n",
      "\n",
      "    year month   day dep_time sched_dep_time dep_delay arr_time sched_arr_time\n",
      "   (int) (int) (int)    (int)          (int)     (dbl)    (int)          (int)\n",
      "1   2013     2     1      456            500        -4      652            648\n",
      "2   2013     2     1      520            525        -5      816            820\n",
      "3   2013     2     1      527            530        -3      837            829\n",
      "4   2013     2     1      532            540        -8     1007           1017\n",
      "5   2013     2     1      540            540         0      859            850\n",
      "6   2013     2     1      552            600        -8      714            715\n",
      "7   2013     2     1      552            600        -8      919            910\n",
      "8   2013     2     1      552            600        -8      655            709\n",
      "9   2013     2     1      553            600        -7      833            815\n",
      "10  2013     2     1      553            600        -7      821            825\n",
      "..   ...   ...   ...      ...            ...       ...      ...            ...\n",
      "Variables not shown: arr_delay (dbl), carrier (chr), flight (int), tailnum\n",
      "  (chr), origin (chr), dest (chr), air_time (dbl), distance (dbl), hour (dbl),\n",
      "  minute (dbl), time_hour (time)\n"
     ]
    }
   ],
   "source": [
    "print(filter(flights, month == 2 | month == 3))"
   ]
  },
  {
   "cell_type": "markdown",
   "metadata": {},
   "source": [
    "To select rows by position, use slice():"
   ]
  },
  {
   "cell_type": "code",
   "execution_count": 77,
   "metadata": {
    "collapsed": false
   },
   "outputs": [
    {
     "name": "stdout",
     "output_type": "stream",
     "text": [
      "Source: local data frame [10 x 19]\n",
      "\n",
      "    year month   day dep_time sched_dep_time dep_delay arr_time sched_arr_time\n",
      "   (int) (int) (int)    (int)          (int)     (dbl)    (int)          (int)\n",
      "1   2013     1     1      517            515         2      830            819\n",
      "2   2013     1     1      533            529         4      850            830\n",
      "3   2013     1     1      542            540         2      923            850\n",
      "4   2013     1     1      544            545        -1     1004           1022\n",
      "5   2013     1     1      554            600        -6      812            837\n",
      "6   2013     1     1      554            558        -4      740            728\n",
      "7   2013     1     1      555            600        -5      913            854\n",
      "8   2013     1     1      557            600        -3      709            723\n",
      "9   2013     1     1      557            600        -3      838            846\n",
      "10  2013     1     1      558            600        -2      753            745\n",
      "Variables not shown: arr_delay (dbl), carrier (chr), flight (int), tailnum\n",
      "  (chr), origin (chr), dest (chr), air_time (dbl), distance (dbl), hour (dbl),\n",
      "  minute (dbl), time_hour (time)\n"
     ]
    }
   ],
   "source": [
    "print(slice(flights, 1:10))"
   ]
  },
  {
   "cell_type": "markdown",
   "metadata": {},
   "source": [
    "### Arrange rows with arrange()\n",
    "\n",
    "arrange() works similarly to filter() except that instead of filtering or selecting rows, it reorders them. It takes a data frame, and a set of column names (or more complicated expressions) to order by. If you provide more than one column name, each additional column will be used to break ties in the values of preceding columns:"
   ]
  },
  {
   "cell_type": "code",
   "execution_count": 80,
   "metadata": {
    "collapsed": false
   },
   "outputs": [
    {
     "ename": "ERROR",
     "evalue": "Error in vapply(df, class, FUN.VALUE = character(1L)): values must be length 1,\n but FUN(X[[19]]) result is length 2\n",
     "output_type": "error",
     "traceback": [
      "Error in vapply(df, class, FUN.VALUE = character(1L)): values must be length 1,\n but FUN(X[[19]]) result is length 2\nTraceback:\n",
      "1. tryCatch({\n .     for (mime in getOption(\"jupyter.display_mimetypes\")) {\n .         r <- mime2repr[[mime]](obj)\n .         if (!is.null(r)) \n .             data[[mime]] <- r\n .     }\n . }, error = handle_error)"
     ]
    },
    {
     "data": {
      "text/plain": [
       "Source: local data frame [10 x 19]\n",
       "\n",
       "    year month   day dep_time sched_dep_time dep_delay arr_time sched_arr_time\n",
       "   (int) (int) (int)    (int)          (int)     (dbl)    (int)          (int)\n",
       "1   2013     1     1      517            515         2      830            819\n",
       "2   2013     1     1      533            529         4      850            830\n",
       "3   2013     1     1      542            540         2      923            850\n",
       "4   2013     1     1      544            545        -1     1004           1022\n",
       "5   2013     1     1      554            600        -6      812            837\n",
       "6   2013     1     1      554            558        -4      740            728\n",
       "7   2013     1     1      555            600        -5      913            854\n",
       "8   2013     1     1      557            600        -3      709            723\n",
       "9   2013     1     1      557            600        -3      838            846\n",
       "10  2013     1     1      558            600        -2      753            745\n",
       "Variables not shown: arr_delay (dbl), carrier (chr), flight (int), tailnum\n",
       "  (chr), origin (chr), dest (chr), air_time (dbl), distance (dbl), hour (dbl),\n",
       "  minute (dbl), time_hour (time)"
      ]
     },
     "metadata": {},
     "output_type": "display_data"
    }
   ],
   "source": [
    "head(arrange(flights, year, month, day), 10)"
   ]
  },
  {
   "cell_type": "markdown",
   "metadata": {},
   "source": [
    "### Select columns with select()\n",
    "\n",
    "Often you work with large datasets with many columns but only a few are actually of interest to you. select() allows you to rapidly zoom in on a useful subset using operations that usually only work on numeric variable positions:"
   ]
  },
  {
   "cell_type": "code",
   "execution_count": 82,
   "metadata": {
    "collapsed": false
   },
   "outputs": [
    {
     "data": {
      "text/html": [
       "<table>\n",
       "<thead><tr><th></th><th scope=col>year</th><th scope=col>month</th><th scope=col>day</th></tr></thead>\n",
       "<tbody>\n",
       "\t<tr><th scope=row>1</th><td>2013</td><td>   1</td><td>   1</td></tr>\n",
       "\t<tr><th scope=row>2</th><td>2013</td><td>   1</td><td>   1</td></tr>\n",
       "\t<tr><th scope=row>3</th><td>2013</td><td>   1</td><td>   1</td></tr>\n",
       "\t<tr><th scope=row>4</th><td>2013</td><td>   1</td><td>   1</td></tr>\n",
       "\t<tr><th scope=row>5</th><td>2013</td><td>   1</td><td>   1</td></tr>\n",
       "\t<tr><th scope=row>6</th><td>2013</td><td>   1</td><td>   1</td></tr>\n",
       "</tbody>\n",
       "</table>\n"
      ],
      "text/latex": [
       "\\begin{tabular}{r|lll}\n",
       "  & year & month & day\\\\\n",
       "\\hline\n",
       "\t1 & 2013 &    1 &    1\\\\\n",
       "\t2 & 2013 &    1 &    1\\\\\n",
       "\t3 & 2013 &    1 &    1\\\\\n",
       "\t4 & 2013 &    1 &    1\\\\\n",
       "\t5 & 2013 &    1 &    1\\\\\n",
       "\t6 & 2013 &    1 &    1\\\\\n",
       "\\end{tabular}\n"
      ],
      "text/plain": [
       "Source: local data frame [6 x 3]\n",
       "\n",
       "   year month   day\n",
       "  (int) (int) (int)\n",
       "1  2013     1     1\n",
       "2  2013     1     1\n",
       "3  2013     1     1\n",
       "4  2013     1     1\n",
       "5  2013     1     1\n",
       "6  2013     1     1"
      ]
     },
     "metadata": {},
     "output_type": "display_data"
    }
   ],
   "source": [
    "head(select(flights, year, month, day))"
   ]
  },
  {
   "cell_type": "code",
   "execution_count": 83,
   "metadata": {
    "collapsed": false
   },
   "outputs": [
    {
     "data": {
      "text/html": [
       "<table>\n",
       "<thead><tr><th></th><th scope=col>year</th><th scope=col>month</th><th scope=col>day</th></tr></thead>\n",
       "<tbody>\n",
       "\t<tr><th scope=row>1</th><td>2013</td><td>   1</td><td>   1</td></tr>\n",
       "\t<tr><th scope=row>2</th><td>2013</td><td>   1</td><td>   1</td></tr>\n",
       "\t<tr><th scope=row>3</th><td>2013</td><td>   1</td><td>   1</td></tr>\n",
       "\t<tr><th scope=row>4</th><td>2013</td><td>   1</td><td>   1</td></tr>\n",
       "\t<tr><th scope=row>5</th><td>2013</td><td>   1</td><td>   1</td></tr>\n",
       "\t<tr><th scope=row>6</th><td>2013</td><td>   1</td><td>   1</td></tr>\n",
       "</tbody>\n",
       "</table>\n"
      ],
      "text/latex": [
       "\\begin{tabular}{r|lll}\n",
       "  & year & month & day\\\\\n",
       "\\hline\n",
       "\t1 & 2013 &    1 &    1\\\\\n",
       "\t2 & 2013 &    1 &    1\\\\\n",
       "\t3 & 2013 &    1 &    1\\\\\n",
       "\t4 & 2013 &    1 &    1\\\\\n",
       "\t5 & 2013 &    1 &    1\\\\\n",
       "\t6 & 2013 &    1 &    1\\\\\n",
       "\\end{tabular}\n"
      ],
      "text/plain": [
       "Source: local data frame [6 x 3]\n",
       "\n",
       "   year month   day\n",
       "  (int) (int) (int)\n",
       "1  2013     1     1\n",
       "2  2013     1     1\n",
       "3  2013     1     1\n",
       "4  2013     1     1\n",
       "5  2013     1     1\n",
       "6  2013     1     1"
      ]
     },
     "metadata": {},
     "output_type": "display_data"
    }
   ],
   "source": [
    "# This is similar to above\n",
    "head(select(flights, year:day))"
   ]
  },
  {
   "cell_type": "code",
   "execution_count": 84,
   "metadata": {
    "collapsed": false
   },
   "outputs": [
    {
     "ename": "ERROR",
     "evalue": "Error in vapply(df, class, FUN.VALUE = character(1L)): values must be length 1,\n but FUN(X[[16]]) result is length 2\n",
     "output_type": "error",
     "traceback": [
      "Error in vapply(df, class, FUN.VALUE = character(1L)): values must be length 1,\n but FUN(X[[16]]) result is length 2\nTraceback:\n",
      "1. tryCatch({\n .     for (mime in getOption(\"jupyter.display_mimetypes\")) {\n .         r <- mime2repr[[mime]](obj)\n .         if (!is.null(r)) \n .             data[[mime]] <- r\n .     }\n . }, error = handle_error)"
     ]
    },
    {
     "data": {
      "text/plain": [
       "Source: local data frame [6 x 16]\n",
       "\n",
       "  dep_time sched_dep_time dep_delay arr_time sched_arr_time arr_delay carrier\n",
       "     (int)          (int)     (dbl)    (int)          (int)     (dbl)   (chr)\n",
       "1      517            515         2      830            819        11      UA\n",
       "2      533            529         4      850            830        20      UA\n",
       "3      542            540         2      923            850        33      AA\n",
       "4      544            545        -1     1004           1022       -18      B6\n",
       "5      554            600        -6      812            837       -25      DL\n",
       "6      554            558        -4      740            728        12      UA\n",
       "Variables not shown: flight (int), tailnum (chr), origin (chr), dest (chr),\n",
       "  air_time (dbl), distance (dbl), hour (dbl), minute (dbl), time_hour (time)"
      ]
     },
     "metadata": {},
     "output_type": "display_data"
    }
   ],
   "source": [
    "# Select all except\n",
    "head(select(flights, -(year:day)))"
   ]
  },
  {
   "cell_type": "code",
   "execution_count": 87,
   "metadata": {
    "collapsed": false
   },
   "outputs": [
    {
     "data": {
      "text/html": [
       "<table>\n",
       "<thead><tr><th></th><th scope=col>tail_num</th></tr></thead>\n",
       "<tbody>\n",
       "\t<tr><th scope=row>1</th><td>N14228</td></tr>\n",
       "\t<tr><th scope=row>2</th><td>N24211</td></tr>\n",
       "\t<tr><th scope=row>3</th><td>N619AA</td></tr>\n",
       "\t<tr><th scope=row>4</th><td>N804JB</td></tr>\n",
       "\t<tr><th scope=row>5</th><td>N668DN</td></tr>\n",
       "\t<tr><th scope=row>6</th><td>N39463</td></tr>\n",
       "</tbody>\n",
       "</table>\n"
      ],
      "text/latex": [
       "\\begin{tabular}{r|l}\n",
       "  & tail\\_num\\\\\n",
       "\\hline\n",
       "\t1 & N14228\\\\\n",
       "\t2 & N24211\\\\\n",
       "\t3 & N619AA\\\\\n",
       "\t4 & N804JB\\\\\n",
       "\t5 & N668DN\\\\\n",
       "\t6 & N39463\\\\\n",
       "\\end{tabular}\n"
      ],
      "text/plain": [
       "Source: local data frame [6 x 1]\n",
       "\n",
       "  tail_num\n",
       "     (chr)\n",
       "1   N14228\n",
       "2   N24211\n",
       "3   N619AA\n",
       "4   N804JB\n",
       "5   N668DN\n",
       "6   N39463"
      ]
     },
     "metadata": {},
     "output_type": "display_data"
    }
   ],
   "source": [
    "head(select(flights, tail_num = tailnum)) # Select only the tailnum column now"
   ]
  },
  {
   "cell_type": "code",
   "execution_count": 90,
   "metadata": {
    "collapsed": false
   },
   "outputs": [
    {
     "ename": "ERROR",
     "evalue": "Error in vapply(df, class, FUN.VALUE = character(1L)): values must be length 1,\n but FUN(X[[19]]) result is length 2\n",
     "output_type": "error",
     "traceback": [
      "Error in vapply(df, class, FUN.VALUE = character(1L)): values must be length 1,\n but FUN(X[[19]]) result is length 2\nTraceback:\n",
      "1. tryCatch({\n .     for (mime in getOption(\"jupyter.display_mimetypes\")) {\n .         r <- mime2repr[[mime]](obj)\n .         if (!is.null(r)) \n .             data[[mime]] <- r\n .     }\n . }, error = handle_error)"
     ]
    },
    {
     "data": {
      "text/plain": [
       "Source: local data frame [6 x 19]\n",
       "\n",
       "   year month   day dep_time sched_dep_time dep_delay arr_time sched_arr_time\n",
       "  (int) (int) (int)    (int)          (int)     (dbl)    (int)          (int)\n",
       "1  2013     1     1      517            515         2      830            819\n",
       "2  2013     1     1      533            529         4      850            830\n",
       "3  2013     1     1      542            540         2      923            850\n",
       "4  2013     1     1      544            545        -1     1004           1022\n",
       "5  2013     1     1      554            600        -6      812            837\n",
       "6  2013     1     1      554            558        -4      740            728\n",
       "Variables not shown: arr_delay (dbl), carrier (chr), flight (int), tail_num\n",
       "  (chr), origin (chr), dest (chr), air_time (dbl), distance (dbl), hour (dbl),\n",
       "  minute (dbl), time_hour (time)"
      ]
     },
     "metadata": {},
     "output_type": "display_data"
    }
   ],
   "source": [
    "# But because select() drops all the variables not explicitly mentioned, \n",
    "# it’s not that useful. Instead, use rename():\n",
    "head(rename(flights, tail_num = tailnum)) # Be aware that "
   ]
  },
  {
   "cell_type": "code",
   "execution_count": 93,
   "metadata": {
    "collapsed": false
   },
   "outputs": [
    {
     "data": {
      "text/html": [
       "<ol class=list-inline>\n",
       "\t<li>4044</li>\n",
       "\t<li>19</li>\n",
       "</ol>\n"
      ],
      "text/latex": [
       "\\begin{enumerate*}\n",
       "\\item 4044\n",
       "\\item 19\n",
       "\\end{enumerate*}\n"
      ],
      "text/markdown": [
       "1. 4044\n",
       "2. 19\n",
       "\n",
       "\n"
      ],
      "text/plain": [
       "[1] 4044   19"
      ]
     },
     "metadata": {},
     "output_type": "display_data"
    }
   ],
   "source": [
    "dim(distinct(flights, tailnum))"
   ]
  },
  {
   "cell_type": "code",
   "execution_count": 95,
   "metadata": {
    "collapsed": false
   },
   "outputs": [
    {
     "data": {
      "text/html": [
       "4044"
      ],
      "text/latex": [
       "4044"
      ],
      "text/markdown": [
       "4044"
      ],
      "text/plain": [
       "[1] 4044"
      ]
     },
     "metadata": {},
     "output_type": "display_data"
    }
   ],
   "source": [
    "length(unique(flights$tailnum))"
   ]
  },
  {
   "cell_type": "markdown",
   "metadata": {},
   "source": [
    "### Add new columns with mutate()\n",
    "\n",
    "Besides selecting sets of existing columns, it’s often useful to add new columns that are functions of existing columns. This is the job of mutate():"
   ]
  },
  {
   "cell_type": "code",
   "execution_count": 96,
   "metadata": {
    "collapsed": false
   },
   "outputs": [
    {
     "ename": "ERROR",
     "evalue": "Error in vapply(df, class, FUN.VALUE = character(1L)): values must be length 1,\n but FUN(X[[19]]) result is length 2\n",
     "output_type": "error",
     "traceback": [
      "Error in vapply(df, class, FUN.VALUE = character(1L)): values must be length 1,\n but FUN(X[[19]]) result is length 2\nTraceback:\n",
      "1. tryCatch({\n .     for (mime in getOption(\"jupyter.display_mimetypes\")) {\n .         r <- mime2repr[[mime]](obj)\n .         if (!is.null(r)) \n .             data[[mime]] <- r\n .     }\n . }, error = handle_error)"
     ]
    },
    {
     "data": {
      "text/plain": [
       "  year month day dep_time sched_dep_time dep_delay arr_time sched_arr_time\n",
       "1 2013     1   1      517            515         2      830            819\n",
       "2 2013     1   1      533            529         4      850            830\n",
       "3 2013     1   1      542            540         2      923            850\n",
       "4 2013     1   1      544            545        -1     1004           1022\n",
       "5 2013     1   1      554            600        -6      812            837\n",
       "6 2013     1   1      554            558        -4      740            728\n",
       "  arr_delay carrier ... tailnum origin dest air_time distance hour minute\n",
       "1        11      UA ...  N14228    EWR  IAH      227     1400    5     15\n",
       "2        20      UA ...  N24211    LGA  IAH      227     1416    5     29\n",
       "3        33      AA ...  N619AA    JFK  MIA      160     1089    5     40\n",
       "4       -18      B6 ...  N804JB    JFK  BQN      183     1576    5     45\n",
       "5       -25      DL ...  N668DN    LGA  ATL      116      762    6      0\n",
       "6        12      UA ...  N39463    EWR  ORD      150      719    5     58\n",
       "            time_hour gain    speed\n",
       "1 2013-01-01 05:00:00    9 370.0441\n",
       "2 2013-01-01 05:00:00   16 374.2731\n",
       "3 2013-01-01 05:00:00   31 408.3750\n",
       "4 2013-01-01 05:00:00  -17 516.7213\n",
       "5 2013-01-01 06:00:00  -19 394.1379\n",
       "6 2013-01-01 05:00:00   16 287.6000"
      ]
     },
     "metadata": {},
     "output_type": "display_data"
    }
   ],
   "source": [
    "head(mutate(flights, gain = arr_delay - dep_delay, speed = distance / air_time * 60))"
   ]
  },
  {
   "cell_type": "markdown",
   "metadata": {},
   "source": [
    "dplyr::mutate() works the same way as plyr::mutate() and similarly to base::transform(). The key difference between mutate() and transform() is that mutate allows you to refer to columns that you’ve just created:"
   ]
  },
  {
   "cell_type": "code",
   "execution_count": 101,
   "metadata": {
    "collapsed": false
   },
   "outputs": [
    {
     "ename": "ERROR",
     "evalue": "Error in eval(expr, envir, enclos): object 'gain' not found\n",
     "output_type": "error",
     "traceback": [
      "Error in eval(expr, envir, enclos): object 'gain' not found\nTraceback:\n",
      "1. transform(flights, gain = arr_delay - dep_delay, gain_per_hour = gain/(air_time/60))",
      "2. transform.data.frame(flights, gain = arr_delay - dep_delay, gain_per_hour = gain/(air_time/60))",
      "3. eval(substitute(list(...)), `_data`, parent.frame())",
      "4. eval(expr, envir, enclos)"
     ]
    }
   ],
   "source": [
    "# gain will not be found\n",
    "transform(flights,\n",
    "  gain = arr_delay - dep_delay,\n",
    "  gain_per_hour = gain / (air_time / 60)\n",
    ")"
   ]
  },
  {
   "cell_type": "markdown",
   "metadata": {},
   "source": [
    "If you only want to keep the new variables, use transmute():"
   ]
  },
  {
   "cell_type": "code",
   "execution_count": 98,
   "metadata": {
    "collapsed": false
   },
   "outputs": [
    {
     "data": {
      "text/html": [
       "<table>\n",
       "<thead><tr><th></th><th scope=col>gain</th><th scope=col>gain_per_hour</th></tr></thead>\n",
       "<tbody>\n",
       "\t<tr><th scope=row>1</th><td>9.000000</td><td>2.378855</td></tr>\n",
       "\t<tr><th scope=row>2</th><td>16.000000</td><td> 4.229075</td></tr>\n",
       "\t<tr><th scope=row>3</th><td>31.000</td><td>11.625</td></tr>\n",
       "\t<tr><th scope=row>4</th><td>-17.00000</td><td> -5.57377</td></tr>\n",
       "\t<tr><th scope=row>5</th><td>-19.000000</td><td> -9.827586</td></tr>\n",
       "\t<tr><th scope=row>6</th><td>16.0</td><td> 6.4</td></tr>\n",
       "</tbody>\n",
       "</table>\n"
      ],
      "text/latex": [
       "\\begin{tabular}{r|ll}\n",
       "  & gain & gain\\_per\\_hour\\\\\n",
       "\\hline\n",
       "\t1 & 9.000000 & 2.378855\\\\\n",
       "\t2 & 16.000000 &  4.229075\\\\\n",
       "\t3 & 31.000 & 11.625\\\\\n",
       "\t4 & -17.00000 &  -5.57377\\\\\n",
       "\t5 & -19.000000 &  -9.827586\\\\\n",
       "\t6 & 16.0 &  6.4\\\\\n",
       "\\end{tabular}\n"
      ],
      "text/plain": [
       "Source: local data frame [6 x 2]\n",
       "\n",
       "   gain gain_per_hour\n",
       "  (dbl)         (dbl)\n",
       "1     9      2.378855\n",
       "2    16      4.229075\n",
       "3    31     11.625000\n",
       "4   -17     -5.573770\n",
       "5   -19     -9.827586\n",
       "6    16      6.400000"
      ]
     },
     "metadata": {},
     "output_type": "display_data"
    }
   ],
   "source": [
    "head(transmute(flights, gain = arr_delay - dep_delay,  gain_per_hour = gain / (air_time / 60)))"
   ]
  },
  {
   "cell_type": "markdown",
   "metadata": {},
   "source": [
    "### Summarise values with summarise()\n",
    "\n",
    "The last verb is summarise(). It collapses a data frame to a single row (this is exactly equivalent to plyr::summarise()):"
   ]
  },
  {
   "cell_type": "code",
   "execution_count": 102,
   "metadata": {
    "collapsed": false
   },
   "outputs": [
    {
     "data": {
      "text/html": [
       "<table>\n",
       "<thead><tr><th></th><th scope=col>delay</th></tr></thead>\n",
       "<tbody>\n",
       "\t<tr><th scope=row>1</th><td>12.63907</td></tr>\n",
       "</tbody>\n",
       "</table>\n"
      ],
      "text/latex": [
       "\\begin{tabular}{r|l}\n",
       "  & delay\\\\\n",
       "\\hline\n",
       "\t1 & 12.63907\\\\\n",
       "\\end{tabular}\n"
      ],
      "text/plain": [
       "     delay\n",
       "1 12.63907"
      ]
     },
     "metadata": {},
     "output_type": "display_data"
    }
   ],
   "source": [
    "summarise(flights, delay=mean(dep_delay, na.rm=TRUE))"
   ]
  },
  {
   "cell_type": "markdown",
   "metadata": {},
   "source": [
    "### Grouped operations"
   ]
  },
  {
   "cell_type": "code",
   "execution_count": 107,
   "metadata": {
    "collapsed": false
   },
   "outputs": [
    {
     "data": {
      "text/html": [
       "<table>\n",
       "<thead><tr><th></th><th scope=col>tailnum</th><th scope=col>count</th><th scope=col>dist</th><th scope=col>delay</th></tr></thead>\n",
       "<tbody>\n",
       "\t<tr><th scope=row>1</th><td>D942DN</td><td>4     </td><td>854.5 </td><td>31.5  </td></tr>\n",
       "\t<tr><th scope=row>2</th><td>N0EGMQ          </td><td>371             </td><td>676.188679245283</td><td>9.98295454545454</td></tr>\n",
       "\t<tr><th scope=row>3</th><td>N10156          </td><td>153             </td><td>757.947712418301</td><td>12.7172413793103</td></tr>\n",
       "\t<tr><th scope=row>4</th><td>N102UW </td><td>48     </td><td>535.875</td><td>2.9375 </td></tr>\n",
       "\t<tr><th scope=row>5</th><td>N103US           </td><td>46               </td><td>535.195652173913 </td><td>-6.93478260869565</td></tr>\n",
       "\t<tr><th scope=row>6</th><td>N104UW          </td><td>47              </td><td>535.255319148936</td><td>1.80434782608696</td></tr>\n",
       "</tbody>\n",
       "</table>\n"
      ],
      "text/latex": [
       "\\begin{tabular}{r|llll}\n",
       "  & tailnum & count & dist & delay\\\\\n",
       "\\hline\n",
       "\t1 & D942DN & 4      & 854.5  & 31.5  \\\\\n",
       "\t2 & N0EGMQ           & 371              & 676.188679245283 & 9.98295454545454\\\\\n",
       "\t3 & N10156           & 153              & 757.947712418301 & 12.7172413793103\\\\\n",
       "\t4 & N102UW  & 48      & 535.875 & 2.9375 \\\\\n",
       "\t5 & N103US            & 46                & 535.195652173913  & -6.93478260869565\\\\\n",
       "\t6 & N104UW           & 47               & 535.255319148936 & 1.80434782608696\\\\\n",
       "\\end{tabular}\n"
      ],
      "text/plain": [
       "Source: local data frame [6 x 4]\n",
       "\n",
       "  tailnum count     dist     delay\n",
       "    (chr) (int)    (dbl)     (dbl)\n",
       "1  D942DN     4 854.5000 31.500000\n",
       "2  N0EGMQ   371 676.1887  9.982955\n",
       "3  N10156   153 757.9477 12.717241\n",
       "4  N102UW    48 535.8750  2.937500\n",
       "5  N103US    46 535.1957 -6.934783\n",
       "6  N104UW    47 535.2553  1.804348"
      ]
     },
     "metadata": {},
     "output_type": "display_data"
    }
   ],
   "source": [
    "by_tailnum <- group_by(flights, tailnum)\n",
    "\n",
    "delay <- summarise(by_tailnum,\n",
    "                   count = n(),\n",
    "                   dist = mean(distance, na.rm=TRUE),\n",
    "                   delay = mean(arr_delay, na.rm=TRUE))\n",
    "head(delay)"
   ]
  },
  {
   "cell_type": "code",
   "execution_count": 112,
   "metadata": {
    "collapsed": false
   },
   "outputs": [],
   "source": [
    "library(ggplot2)\n",
    "\n"
   ]
  },
  {
   "cell_type": "code",
   "execution_count": 120,
   "metadata": {
    "collapsed": false
   },
   "outputs": [
    {
     "name": "stderr",
     "output_type": "stream",
     "text": [
      "Warning message:\n",
      ": Removed 7 rows containing non-finite values (stat_smooth).Warning message:\n",
      ": Removed 7 rows containing missing values (geom_point)."
     ]
    },
    {
     "data": {
      "image/png": "[encoded data removed]",
      "text/plain": [
       "plot without title"
      ]
     },
     "metadata": {
      "image/svg+xml": {
       "isolated": true
      }
     },
     "output_type": "display_data"
    }
   ],
   "source": [
    "ggplot(delay, aes(dist, delay)) +\n",
    "  geom_point(aes(size = count), alpha = 1/3) +\n",
    "  geom_smooth() #+\n",
    "  #scale_size_area()"
   ]
  },
  {
   "cell_type": "markdown",
   "metadata": {},
   "source": [
    "# Merging data\n",
    "\n",
    "## Peer review data"
   ]
  },
  {
   "cell_type": "code",
   "execution_count": 123,
   "metadata": {
    "collapsed": false
   },
   "outputs": [
    {
     "name": "stdout",
     "output_type": "stream",
     "text": [
      "[1] \"./data exists\"\n"
     ]
    }
   ],
   "source": [
    "if(!dir.exists(\"./data\")) {\n",
    "    dir.create(\"./data\")\n",
    "} else print(\"./data exists\")"
   ]
  },
  {
   "cell_type": "code",
   "execution_count": 125,
   "metadata": {
    "collapsed": true
   },
   "outputs": [],
   "source": [
    "fileUrl1 <- \"https://dl.dropboxusercontent.com/u/7710864/data/reviews-apr29.csv\"\n",
    "fileUrl2 <- \"https://dl.dropboxusercontent.com/u/7710864/data/solutions-apr29.csv\"\n",
    "\n",
    "# Download files\n",
    "download.file(fileUrl1, destfile=\"./data/reviews.csv\")\n",
    "download.file(fileUrl2, destfile=\"./data/solutions.csv\")"
   ]
  },
  {
   "cell_type": "code",
   "execution_count": 126,
   "metadata": {
    "collapsed": true
   },
   "outputs": [],
   "source": [
    "reviews <- read.csv(\"./data/reviews.csv\")\n",
    "solutions <- read.csv(\"./data/solutions.csv\")"
   ]
  },
  {
   "cell_type": "code",
   "execution_count": 128,
   "metadata": {
    "collapsed": false
   },
   "outputs": [
    {
     "data": {
      "text/html": [
       "<table>\n",
       "<thead><tr><th></th><th scope=col>id</th><th scope=col>solution_id</th><th scope=col>reviewer_id</th><th scope=col>start</th><th scope=col>stop</th><th scope=col>time_left</th><th scope=col>accept</th></tr></thead>\n",
       "<tbody>\n",
       "\t<tr><th scope=row>1</th><td>         1</td><td>         3</td><td>        27</td><td>1304095698</td><td>1304095758</td><td>      1754</td><td>         1</td></tr>\n",
       "\t<tr><th scope=row>2</th><td>         2</td><td>         4</td><td>        22</td><td>1304095188</td><td>1304095206</td><td>      2306</td><td>         1</td></tr>\n",
       "</tbody>\n",
       "</table>\n"
      ],
      "text/latex": [
       "\\begin{tabular}{r|lllllll}\n",
       "  & id & solution\\_id & reviewer\\_id & start & stop & time\\_left & accept\\\\\n",
       "\\hline\n",
       "\t1 &          1 &          3 &         27 & 1304095698 & 1304095758 &       1754 &          1\\\\\n",
       "\t2 &          2 &          4 &         22 & 1304095188 & 1304095206 &       2306 &          1\\\\\n",
       "\\end{tabular}\n"
      ],
      "text/plain": [
       "  id solution_id reviewer_id      start       stop time_left accept\n",
       "1  1           3          27 1304095698 1304095758      1754      1\n",
       "2  2           4          22 1304095188 1304095206      2306      1"
      ]
     },
     "metadata": {},
     "output_type": "display_data"
    }
   ],
   "source": [
    "head(reviews, 2)"
   ]
  },
  {
   "cell_type": "code",
   "execution_count": 133,
   "metadata": {
    "collapsed": false
   },
   "outputs": [
    {
     "data": {
      "text/html": [
       "<table>\n",
       "<thead><tr><th></th><th scope=col>id</th><th scope=col>problem_id</th><th scope=col>subject_id</th><th scope=col>start</th><th scope=col>stop</th><th scope=col>time_left</th><th scope=col>answer</th></tr></thead>\n",
       "<tbody>\n",
       "\t<tr><th scope=row>1</th><td>1         </td><td>156       </td><td>29        </td><td>1304095119</td><td>1304095169</td><td>2343      </td><td>B         </td></tr>\n",
       "\t<tr><th scope=row>2</th><td>2         </td><td>269       </td><td>25        </td><td>1304095119</td><td>1304095183</td><td>2329      </td><td>C         </td></tr>\n",
       "\t<tr><th scope=row>3</th><td>3         </td><td>34        </td><td>22        </td><td>1304095127</td><td>1304095146</td><td>2366      </td><td>C         </td></tr>\n",
       "\t<tr><th scope=row>4</th><td>4         </td><td>19        </td><td>23        </td><td>1304095127</td><td>1304095150</td><td>2362      </td><td>D         </td></tr>\n",
       "</tbody>\n",
       "</table>\n"
      ],
      "text/latex": [
       "\\begin{tabular}{r|lllllll}\n",
       "  & id & problem\\_id & subject\\_id & start & stop & time\\_left & answer\\\\\n",
       "\\hline\n",
       "\t1 & 1          & 156        & 29         & 1304095119 & 1304095169 & 2343       & B         \\\\\n",
       "\t2 & 2          & 269        & 25         & 1304095119 & 1304095183 & 2329       & C         \\\\\n",
       "\t3 & 3          & 34         & 22         & 1304095127 & 1304095146 & 2366       & C         \\\\\n",
       "\t4 & 4          & 19         & 23         & 1304095127 & 1304095150 & 2362       & D         \\\\\n",
       "\\end{tabular}\n"
      ],
      "text/plain": [
       "  id problem_id subject_id      start       stop time_left answer\n",
       "1  1        156         29 1304095119 1304095169      2343      B\n",
       "2  2        269         25 1304095119 1304095183      2329      C\n",
       "3  3         34         22 1304095127 1304095146      2366      C\n",
       "4  4         19         23 1304095127 1304095150      2362      D"
      ]
     },
     "metadata": {},
     "output_type": "display_data"
    }
   ],
   "source": [
    "head(solutions, 4)"
   ]
  },
  {
   "cell_type": "code",
   "execution_count": 130,
   "metadata": {
    "collapsed": false
   },
   "outputs": [
    {
     "data": {
      "text/html": [
       "<ol class=list-inline>\n",
       "\t<li>\"id\"</li>\n",
       "\t<li>\"solution_id\"</li>\n",
       "\t<li>\"reviewer_id\"</li>\n",
       "\t<li>\"start\"</li>\n",
       "\t<li>\"stop\"</li>\n",
       "\t<li>\"time_left\"</li>\n",
       "\t<li>\"accept\"</li>\n",
       "</ol>\n"
      ],
      "text/latex": [
       "\\begin{enumerate*}\n",
       "\\item \"id\"\n",
       "\\item \"solution\\_id\"\n",
       "\\item \"reviewer\\_id\"\n",
       "\\item \"start\"\n",
       "\\item \"stop\"\n",
       "\\item \"time\\_left\"\n",
       "\\item \"accept\"\n",
       "\\end{enumerate*}\n"
      ],
      "text/markdown": [
       "1. \"id\"\n",
       "2. \"solution_id\"\n",
       "3. \"reviewer_id\"\n",
       "4. \"start\"\n",
       "5. \"stop\"\n",
       "6. \"time_left\"\n",
       "7. \"accept\"\n",
       "\n",
       "\n"
      ],
      "text/plain": [
       "[1] \"id\"          \"solution_id\" \"reviewer_id\" \"start\"       \"stop\"       \n",
       "[6] \"time_left\"   \"accept\"     "
      ]
     },
     "metadata": {},
     "output_type": "display_data"
    }
   ],
   "source": [
    "names(reviews)"
   ]
  },
  {
   "cell_type": "code",
   "execution_count": 131,
   "metadata": {
    "collapsed": false
   },
   "outputs": [
    {
     "data": {
      "text/html": [
       "<ol class=list-inline>\n",
       "\t<li>\"id\"</li>\n",
       "\t<li>\"problem_id\"</li>\n",
       "\t<li>\"subject_id\"</li>\n",
       "\t<li>\"start\"</li>\n",
       "\t<li>\"stop\"</li>\n",
       "\t<li>\"time_left\"</li>\n",
       "\t<li>\"answer\"</li>\n",
       "</ol>\n"
      ],
      "text/latex": [
       "\\begin{enumerate*}\n",
       "\\item \"id\"\n",
       "\\item \"problem\\_id\"\n",
       "\\item \"subject\\_id\"\n",
       "\\item \"start\"\n",
       "\\item \"stop\"\n",
       "\\item \"time\\_left\"\n",
       "\\item \"answer\"\n",
       "\\end{enumerate*}\n"
      ],
      "text/markdown": [
       "1. \"id\"\n",
       "2. \"problem_id\"\n",
       "3. \"subject_id\"\n",
       "4. \"start\"\n",
       "5. \"stop\"\n",
       "6. \"time_left\"\n",
       "7. \"answer\"\n",
       "\n",
       "\n"
      ],
      "text/plain": [
       "[1] \"id\"         \"problem_id\" \"subject_id\" \"start\"      \"stop\"      \n",
       "[6] \"time_left\"  \"answer\"    "
      ]
     },
     "metadata": {},
     "output_type": "display_data"
    }
   ],
   "source": [
    "names(solutions)"
   ]
  },
  {
   "cell_type": "markdown",
   "metadata": {},
   "source": [
    "We can use the solution_id and id in solutions df to merge."
   ]
  },
  {
   "cell_type": "code",
   "execution_count": 132,
   "metadata": {
    "collapsed": false
   },
   "outputs": [
    {
     "data": {
      "text/html": [
       "<table>\n",
       "<thead><tr><th></th><th scope=col>solution_id</th><th scope=col>id</th><th scope=col>reviewer_id</th><th scope=col>start.x</th><th scope=col>stop.x</th><th scope=col>time_left.x</th><th scope=col>accept</th><th scope=col>problem_id</th><th scope=col>subject_id</th><th scope=col>start.y</th><th scope=col>stop.y</th><th scope=col>time_left.y</th><th scope=col>answer</th></tr></thead>\n",
       "<tbody>\n",
       "\t<tr><th scope=row>1</th><td>1         </td><td>4         </td><td>26        </td><td>1304095267</td><td>1304095423</td><td>2089      </td><td>1         </td><td>156       </td><td>29        </td><td>1304095119</td><td>1304095169</td><td>2343      </td><td>B         </td></tr>\n",
       "\t<tr><th scope=row>2</th><td>2         </td><td>6         </td><td>29        </td><td>1304095471</td><td>1304095513</td><td>1999      </td><td>1         </td><td>269       </td><td>25        </td><td>1304095119</td><td>1304095183</td><td>2329      </td><td>C         </td></tr>\n",
       "\t<tr><th scope=row>3</th><td>3         </td><td>1         </td><td>27        </td><td>1304095698</td><td>1304095758</td><td>1754      </td><td>1         </td><td>34        </td><td>22        </td><td>1304095127</td><td>1304095146</td><td>2366      </td><td>C         </td></tr>\n",
       "\t<tr><th scope=row>4</th><td>4         </td><td>2         </td><td>22        </td><td>1304095188</td><td>1304095206</td><td>2306      </td><td>1         </td><td>19        </td><td>23        </td><td>1304095127</td><td>1304095150</td><td>2362      </td><td>D         </td></tr>\n",
       "\t<tr><th scope=row>5</th><td>5         </td><td>3         </td><td>28        </td><td>1304095276</td><td>1304095320</td><td>2192      </td><td>1         </td><td>605       </td><td>26        </td><td>1304095127</td><td>1304095167</td><td>2345      </td><td>A         </td></tr>\n",
       "\t<tr><th scope=row>6</th><td>6         </td><td>16        </td><td>22        </td><td>1304095303</td><td>1304095471</td><td>2041      </td><td>1         </td><td>384       </td><td>27        </td><td>1304095131</td><td>1304095270</td><td>2242      </td><td>C         </td></tr>\n",
       "</tbody>\n",
       "</table>\n"
      ],
      "text/latex": [
       "\\begin{tabular}{r|lllllllllllll}\n",
       "  & solution\\_id & id & reviewer\\_id & start.x & stop.x & time\\_left.x & accept & problem\\_id & subject\\_id & start.y & stop.y & time\\_left.y & answer\\\\\n",
       "\\hline\n",
       "\t1 & 1          & 4          & 26         & 1304095267 & 1304095423 & 2089       & 1          & 156        & 29         & 1304095119 & 1304095169 & 2343       & B         \\\\\n",
       "\t2 & 2          & 6          & 29         & 1304095471 & 1304095513 & 1999       & 1          & 269        & 25         & 1304095119 & 1304095183 & 2329       & C         \\\\\n",
       "\t3 & 3          & 1          & 27         & 1304095698 & 1304095758 & 1754       & 1          & 34         & 22         & 1304095127 & 1304095146 & 2366       & C         \\\\\n",
       "\t4 & 4          & 2          & 22         & 1304095188 & 1304095206 & 2306       & 1          & 19         & 23         & 1304095127 & 1304095150 & 2362       & D         \\\\\n",
       "\t5 & 5          & 3          & 28         & 1304095276 & 1304095320 & 2192       & 1          & 605        & 26         & 1304095127 & 1304095167 & 2345       & A         \\\\\n",
       "\t6 & 6          & 16         & 22         & 1304095303 & 1304095471 & 2041       & 1          & 384        & 27         & 1304095131 & 1304095270 & 2242       & C         \\\\\n",
       "\\end{tabular}\n"
      ],
      "text/plain": [
       "  solution_id id reviewer_id    start.x     stop.x time_left.x accept\n",
       "1           1  4          26 1304095267 1304095423        2089      1\n",
       "2           2  6          29 1304095471 1304095513        1999      1\n",
       "3           3  1          27 1304095698 1304095758        1754      1\n",
       "4           4  2          22 1304095188 1304095206        2306      1\n",
       "5           5  3          28 1304095276 1304095320        2192      1\n",
       "6           6 16          22 1304095303 1304095471        2041      1\n",
       "  problem_id subject_id    start.y     stop.y time_left.y answer\n",
       "1        156         29 1304095119 1304095169        2343      B\n",
       "2        269         25 1304095119 1304095183        2329      C\n",
       "3         34         22 1304095127 1304095146        2366      C\n",
       "4         19         23 1304095127 1304095150        2362      D\n",
       "5        605         26 1304095127 1304095167        2345      A\n",
       "6        384         27 1304095131 1304095270        2242      C"
      ]
     },
     "metadata": {},
     "output_type": "display_data"
    }
   ],
   "source": [
    "mergedData <- merge(reviews, solutions, by.x=\"solution_id\", by.y=\"id\", all=TRUE)\n",
    "head(mergedData)"
   ]
  },
  {
   "cell_type": "markdown",
   "metadata": {},
   "source": [
    "### Default merging\n",
    "By default, a merge will be performed on the common names(df)"
   ]
  },
  {
   "cell_type": "code",
   "execution_count": 134,
   "metadata": {
    "collapsed": false
   },
   "outputs": [
    {
     "data": {
      "text/html": [
       "<ol class=list-inline>\n",
       "\t<li>\"id\"</li>\n",
       "\t<li>\"start\"</li>\n",
       "\t<li>\"stop\"</li>\n",
       "\t<li>\"time_left\"</li>\n",
       "</ol>\n"
      ],
      "text/latex": [
       "\\begin{enumerate*}\n",
       "\\item \"id\"\n",
       "\\item \"start\"\n",
       "\\item \"stop\"\n",
       "\\item \"time\\_left\"\n",
       "\\end{enumerate*}\n"
      ],
      "text/markdown": [
       "1. \"id\"\n",
       "2. \"start\"\n",
       "3. \"stop\"\n",
       "4. \"time_left\"\n",
       "\n",
       "\n"
      ],
      "text/plain": [
       "[1] \"id\"        \"start\"     \"stop\"      \"time_left\""
      ]
     },
     "metadata": {},
     "output_type": "display_data"
    }
   ],
   "source": [
    "intersect(names(solutions), names(reviews))"
   ]
  },
  {
   "cell_type": "code",
   "execution_count": 135,
   "metadata": {
    "collapsed": false
   },
   "outputs": [
    {
     "data": {
      "text/html": [
       "<table>\n",
       "<thead><tr><th></th><th scope=col>id</th><th scope=col>start</th><th scope=col>stop</th><th scope=col>time_left</th><th scope=col>solution_id</th><th scope=col>reviewer_id</th><th scope=col>accept</th><th scope=col>problem_id</th><th scope=col>subject_id</th><th scope=col>answer</th></tr></thead>\n",
       "<tbody>\n",
       "\t<tr><th scope=row>1</th><td>1         </td><td>1304095119</td><td>1304095169</td><td>2343      </td><td>NA        </td><td>NA        </td><td>NA        </td><td>156       </td><td>29        </td><td>B         </td></tr>\n",
       "\t<tr><th scope=row>2</th><td>1         </td><td>1304095698</td><td>1304095758</td><td>1754      </td><td>3         </td><td>27        </td><td>1         </td><td>NA        </td><td>NA        </td><td>NA        </td></tr>\n",
       "\t<tr><th scope=row>3</th><td>2         </td><td>1304095119</td><td>1304095183</td><td>2329      </td><td>NA        </td><td>NA        </td><td>NA        </td><td>269       </td><td>25        </td><td>C         </td></tr>\n",
       "\t<tr><th scope=row>4</th><td>2         </td><td>1304095188</td><td>1304095206</td><td>2306      </td><td>4         </td><td>22        </td><td>1         </td><td>NA        </td><td>NA        </td><td>NA        </td></tr>\n",
       "\t<tr><th scope=row>5</th><td>3         </td><td>1304095127</td><td>1304095146</td><td>2366      </td><td>NA        </td><td>NA        </td><td>NA        </td><td>34        </td><td>22        </td><td>C         </td></tr>\n",
       "\t<tr><th scope=row>6</th><td>3         </td><td>1304095276</td><td>1304095320</td><td>2192      </td><td>5         </td><td>28        </td><td>1         </td><td>NA        </td><td>NA        </td><td>NA        </td></tr>\n",
       "</tbody>\n",
       "</table>\n"
      ],
      "text/latex": [
       "\\begin{tabular}{r|llllllllll}\n",
       "  & id & start & stop & time\\_left & solution\\_id & reviewer\\_id & accept & problem\\_id & subject\\_id & answer\\\\\n",
       "\\hline\n",
       "\t1 & 1          & 1304095119 & 1304095169 & 2343       & NA         & NA         & NA         & 156        & 29         & B         \\\\\n",
       "\t2 & 1          & 1304095698 & 1304095758 & 1754       & 3          & 27         & 1          & NA         & NA         & NA        \\\\\n",
       "\t3 & 2          & 1304095119 & 1304095183 & 2329       & NA         & NA         & NA         & 269        & 25         & C         \\\\\n",
       "\t4 & 2          & 1304095188 & 1304095206 & 2306       & 4          & 22         & 1          & NA         & NA         & NA        \\\\\n",
       "\t5 & 3          & 1304095127 & 1304095146 & 2366       & NA         & NA         & NA         & 34         & 22         & C         \\\\\n",
       "\t6 & 3          & 1304095276 & 1304095320 & 2192       & 5          & 28         & 1          & NA         & NA         & NA        \\\\\n",
       "\\end{tabular}\n"
      ],
      "text/plain": [
       "  id      start       stop time_left solution_id reviewer_id accept problem_id\n",
       "1  1 1304095119 1304095169      2343          NA          NA     NA        156\n",
       "2  1 1304095698 1304095758      1754           3          27      1         NA\n",
       "3  2 1304095119 1304095183      2329          NA          NA     NA        269\n",
       "4  2 1304095188 1304095206      2306           4          22      1         NA\n",
       "5  3 1304095127 1304095146      2366          NA          NA     NA         34\n",
       "6  3 1304095276 1304095320      2192           5          28      1         NA\n",
       "  subject_id answer\n",
       "1         29      B\n",
       "2         NA   <NA>\n",
       "3         25      C\n",
       "4         NA   <NA>\n",
       "5         22      C\n",
       "6         NA   <NA>"
      ]
     },
     "metadata": {},
     "output_type": "display_data"
    }
   ],
   "source": [
    "mergedData2 <- merge(reviews, solutions, all=TRUE)\n",
    "head(mergedData2)"
   ]
  },
  {
   "cell_type": "markdown",
   "metadata": {},
   "source": [
    "**N.B. Above, you see that we now have multiple id's, since start and stop are found in both dataframes.**"
   ]
  },
  {
   "cell_type": "code",
   "execution_count": 136,
   "metadata": {
    "collapsed": true
   },
   "outputs": [],
   "source": [
    "library(plyr)"
   ]
  },
  {
   "cell_type": "code",
   "execution_count": 141,
   "metadata": {
    "collapsed": false
   },
   "outputs": [
    {
     "data": {
      "text/html": [
       "<table>\n",
       "<thead><tr><th></th><th scope=col>id</th><th scope=col>x</th><th scope=col>y</th></tr></thead>\n",
       "<tbody>\n",
       "\t<tr><th scope=row>1</th><td> 1.0000000</td><td> 0.1602012</td><td>-0.1083874</td></tr>\n",
       "\t<tr><th scope=row>2</th><td> 2.0000000</td><td> 0.4150685</td><td>-2.5875878</td></tr>\n",
       "\t<tr><th scope=row>3</th><td> 3.00000000</td><td>-0.02958937</td><td> 0.15644494</td></tr>\n",
       "\t<tr><th scope=row>4</th><td>4.0000000</td><td>0.6595704</td><td>2.4215446</td></tr>\n",
       "\t<tr><th scope=row>5</th><td> 5.0000000</td><td>-2.2754201</td><td>-0.4293151</td></tr>\n",
       "\t<tr><th scope=row>6</th><td>6.00000000</td><td>0.49452959</td><td>0.09585401</td></tr>\n",
       "\t<tr><th scope=row>7</th><td>7.000000</td><td>1.829597</td><td>0.177363</td></tr>\n",
       "\t<tr><th scope=row>8</th><td> 8.000000</td><td>-1.696295</td><td> 1.281355</td></tr>\n",
       "\t<tr><th scope=row>9</th><td>9.000000</td><td>1.267996</td><td>0.338813</td></tr>\n",
       "\t<tr><th scope=row>10</th><td>10.00000000</td><td> 1.41925087</td><td>-0.05117725</td></tr>\n",
       "</tbody>\n",
       "</table>\n"
      ],
      "text/latex": [
       "\\begin{tabular}{r|lll}\n",
       "  & id & x & y\\\\\n",
       "\\hline\n",
       "\t1 &  1.0000000 &  0.1602012 & -0.1083874\\\\\n",
       "\t2 &  2.0000000 &  0.4150685 & -2.5875878\\\\\n",
       "\t3 &  3.00000000 & -0.02958937 &  0.15644494\\\\\n",
       "\t4 & 4.0000000 & 0.6595704 & 2.4215446\\\\\n",
       "\t5 &  5.0000000 & -2.2754201 & -0.4293151\\\\\n",
       "\t6 & 6.00000000 & 0.49452959 & 0.09585401\\\\\n",
       "\t7 & 7.000000 & 1.829597 & 0.177363\\\\\n",
       "\t8 &  8.000000 & -1.696295 &  1.281355\\\\\n",
       "\t9 & 9.000000 & 1.267996 & 0.338813\\\\\n",
       "\t10 & 10.00000000 &  1.41925087 & -0.05117725\\\\\n",
       "\\end{tabular}\n"
      ],
      "text/plain": [
       "   id           x           y\n",
       "1   1  0.16020118 -0.10838737\n",
       "2   2  0.41506851 -2.58758779\n",
       "3   3 -0.02958937  0.15644494\n",
       "4   4  0.65957039  2.42154464\n",
       "5   5 -2.27542011 -0.42931507\n",
       "6   6  0.49452959  0.09585401\n",
       "7   7  1.82959734  0.17736304\n",
       "8   8 -1.69629507  1.28135468\n",
       "9   9  1.26799627  0.33881304\n",
       "10 10  1.41925087 -0.05117725"
      ]
     },
     "metadata": {},
     "output_type": "display_data"
    }
   ],
   "source": [
    "df1 <- data.frame(id=sample(1:10), x=rnorm(10))\n",
    "df2 <- data.frame(id=sample(1:10), y=rnorm(10))\n",
    "\n",
    "# Faster, but less featured. Defaults to left join - see help file for moere info.\n",
    "arrange(join(df1, df2, by = \"id\"), id)"
   ]
  },
  {
   "cell_type": "markdown",
   "metadata": {},
   "source": [
    "### Multiple dataframes"
   ]
  },
  {
   "cell_type": "code",
   "execution_count": 142,
   "metadata": {
    "collapsed": true
   },
   "outputs": [],
   "source": [
    "df1 <- data.frame(id=sample(1:10), x=rnorm(10))\n",
    "df2 <- data.frame(id=sample(1:10), y=rnorm(10))\n",
    "df3 <- data.frame(id=sample(1:10), z=rnorm(10))\n",
    "\n",
    "dfList <- list(df1, df2, df3)"
   ]
  },
  {
   "cell_type": "code",
   "execution_count": 144,
   "metadata": {
    "collapsed": false
   },
   "outputs": [
    {
     "name": "stderr",
     "output_type": "stream",
     "text": [
      "Joining by: id\n",
      "Joining by: id\n"
     ]
    },
    {
     "data": {
      "text/html": [
       "<table>\n",
       "<thead><tr><th></th><th scope=col>id</th><th scope=col>x</th><th scope=col>y</th><th scope=col>z</th></tr></thead>\n",
       "<tbody>\n",
       "\t<tr><th scope=row>1</th><td> 1.0000000</td><td>-0.1685321</td><td> 0.7341119</td><td>-0.1764298</td></tr>\n",
       "\t<tr><th scope=row>2</th><td> 2.00000000</td><td>-0.09192236</td><td> 1.65537028</td><td>-1.59520824</td></tr>\n",
       "\t<tr><th scope=row>3</th><td>3.0000000</td><td>0.4889865</td><td>0.1281006</td><td>1.3025704</td></tr>\n",
       "\t<tr><th scope=row>4</th><td> 4.0000000</td><td>-2.2055205</td><td> 0.6352126</td><td>-0.7359091</td></tr>\n",
       "\t<tr><th scope=row>5</th><td>5.0000000</td><td>1.8225312</td><td>0.7859937</td><td>1.2340232</td></tr>\n",
       "\t<tr><th scope=row>6</th><td> 6.00000000</td><td> 0.69905975</td><td>-0.48938471</td><td> 0.06826019</td></tr>\n",
       "\t<tr><th scope=row>7</th><td> 7.0000000</td><td> 0.7410859</td><td>-0.2072489</td><td>-0.2072523</td></tr>\n",
       "\t<tr><th scope=row>8</th><td> 8.0000000</td><td> 1.6385292</td><td>-0.5837619</td><td> 0.9793670</td></tr>\n",
       "\t<tr><th scope=row>9</th><td> 9.0000000</td><td> 1.0850059</td><td>-0.9649418</td><td>-1.4509225</td></tr>\n",
       "\t<tr><th scope=row>10</th><td>10.00000000</td><td> 1.47888701</td><td> 0.50329491</td><td>-0.01967481</td></tr>\n",
       "</tbody>\n",
       "</table>\n"
      ],
      "text/latex": [
       "\\begin{tabular}{r|llll}\n",
       "  & id & x & y & z\\\\\n",
       "\\hline\n",
       "\t1 &  1.0000000 & -0.1685321 &  0.7341119 & -0.1764298\\\\\n",
       "\t2 &  2.00000000 & -0.09192236 &  1.65537028 & -1.59520824\\\\\n",
       "\t3 & 3.0000000 & 0.4889865 & 0.1281006 & 1.3025704\\\\\n",
       "\t4 &  4.0000000 & -2.2055205 &  0.6352126 & -0.7359091\\\\\n",
       "\t5 & 5.0000000 & 1.8225312 & 0.7859937 & 1.2340232\\\\\n",
       "\t6 &  6.00000000 &  0.69905975 & -0.48938471 &  0.06826019\\\\\n",
       "\t7 &  7.0000000 &  0.7410859 & -0.2072489 & -0.2072523\\\\\n",
       "\t8 &  8.0000000 &  1.6385292 & -0.5837619 &  0.9793670\\\\\n",
       "\t9 &  9.0000000 &  1.0850059 & -0.9649418 & -1.4509225\\\\\n",
       "\t10 & 10.00000000 &  1.47888701 &  0.50329491 & -0.01967481\\\\\n",
       "\\end{tabular}\n"
      ],
      "text/plain": [
       "   id           x          y           z\n",
       "1   1 -0.16853210  0.7341119 -0.17642975\n",
       "2   2 -0.09192236  1.6553703 -1.59520824\n",
       "3   3  0.48898654  0.1281006  1.30257037\n",
       "4   4 -2.20552046  0.6352126 -0.73590909\n",
       "5   5  1.82253119  0.7859937  1.23402319\n",
       "6   6  0.69905975 -0.4893847  0.06826019\n",
       "7   7  0.74108587 -0.2072489 -0.20725228\n",
       "8   8  1.63852919 -0.5837619  0.97936699\n",
       "9   9  1.08500591 -0.9649418 -1.45092245\n",
       "10 10  1.47888701  0.5032949 -0.01967481"
      ]
     },
     "metadata": {},
     "output_type": "display_data"
    }
   ],
   "source": [
    "arrange(join_all(dfList), id)"
   ]
  },
  {
   "cell_type": "code",
   "execution_count": 163,
   "metadata": {
    "collapsed": false
   },
   "outputs": [
    {
     "data": {
      "text/html": [
       "<table>\n",
       "<thead><tr><th></th><th scope=col>id</th><th scope=col>solution_id</th><th scope=col>reviewer_id</th><th scope=col>start</th><th scope=col>stop</th><th scope=col>time_left</th><th scope=col>accept</th></tr></thead>\n",
       "<tbody>\n",
       "\t<tr><th scope=row>1</th><td>         1</td><td>         3</td><td>        27</td><td>1304095698</td><td>1304095758</td><td>      1754</td><td>         1</td></tr>\n",
       "\t<tr><th scope=row>2</th><td>         2</td><td>         4</td><td>        22</td><td>1304095188</td><td>1304095206</td><td>      2306</td><td>         1</td></tr>\n",
       "</tbody>\n",
       "</table>\n"
      ],
      "text/latex": [
       "\\begin{tabular}{r|lllllll}\n",
       "  & id & solution\\_id & reviewer\\_id & start & stop & time\\_left & accept\\\\\n",
       "\\hline\n",
       "\t1 &          1 &          3 &         27 & 1304095698 & 1304095758 &       1754 &          1\\\\\n",
       "\t2 &          2 &          4 &         22 & 1304095188 & 1304095206 &       2306 &          1\\\\\n",
       "\\end{tabular}\n"
      ],
      "text/plain": [
       "  id solution_id reviewer_id      start       stop time_left accept\n",
       "1  1           3          27 1304095698 1304095758      1754      1\n",
       "2  2           4          22 1304095188 1304095206      2306      1"
      ]
     },
     "metadata": {},
     "output_type": "display_data"
    }
   ],
   "source": []
  },
  {
   "cell_type": "code",
   "execution_count": 164,
   "metadata": {
    "collapsed": false
   },
   "outputs": [
    {
     "data": {
      "text/html": [
       "<ol class=list-inline>\n",
       "\t<li>\"id\"</li>\n",
       "\t<li>\"solution_id\"</li>\n",
       "\t<li>\"reviewer_id\"</li>\n",
       "\t<li>\"start\"</li>\n",
       "\t<li>\"stop\"</li>\n",
       "\t<li>\"time_left\"</li>\n",
       "\t<li>\"accept\"</li>\n",
       "</ol>\n"
      ],
      "text/latex": [
       "\\begin{enumerate*}\n",
       "\\item \"id\"\n",
       "\\item \"solution\\_id\"\n",
       "\\item \"reviewer\\_id\"\n",
       "\\item \"start\"\n",
       "\\item \"stop\"\n",
       "\\item \"time\\_left\"\n",
       "\\item \"accept\"\n",
       "\\end{enumerate*}\n"
      ],
      "text/markdown": [
       "1. \"id\"\n",
       "2. \"solution_id\"\n",
       "3. \"reviewer_id\"\n",
       "4. \"start\"\n",
       "5. \"stop\"\n",
       "6. \"time_left\"\n",
       "7. \"accept\"\n",
       "\n",
       "\n"
      ],
      "text/plain": [
       "[1] \"id\"          \"solution_id\" \"reviewer_id\" \"start\"       \"stop\"       \n",
       "[6] \"time_left\"   \"accept\"     "
      ]
     },
     "metadata": {},
     "output_type": "display_data"
    }
   ],
   "source": []
  },
  {
   "cell_type": "code",
   "execution_count": 168,
   "metadata": {
    "collapsed": false
   },
   "outputs": [
    {
     "data": {
      "text/html": [
       "<ol class=list-inline>\n",
       "\t<li>\"id\"</li>\n",
       "\t<li>\"solutionid\"</li>\n",
       "\t<li>\"reviewerid\"</li>\n",
       "\t<li>\"start\"</li>\n",
       "\t<li>\"stop\"</li>\n",
       "\t<li>\"timeleft\"</li>\n",
       "\t<li>\"accept\"</li>\n",
       "</ol>\n"
      ],
      "text/latex": [
       "\\begin{enumerate*}\n",
       "\\item \"id\"\n",
       "\\item \"solutionid\"\n",
       "\\item \"reviewerid\"\n",
       "\\item \"start\"\n",
       "\\item \"stop\"\n",
       "\\item \"timeleft\"\n",
       "\\item \"accept\"\n",
       "\\end{enumerate*}\n"
      ],
      "text/markdown": [
       "1. \"id\"\n",
       "2. \"solutionid\"\n",
       "3. \"reviewerid\"\n",
       "4. \"start\"\n",
       "5. \"stop\"\n",
       "6. \"timeleft\"\n",
       "7. \"accept\"\n",
       "\n",
       "\n"
      ],
      "text/plain": [
       "[1] \"id\"         \"solutionid\" \"reviewerid\" \"start\"      \"stop\"      \n",
       "[6] \"timeleft\"   \"accept\"    "
      ]
     },
     "metadata": {},
     "output_type": "display_data"
    }
   ],
   "source": []
  },
  {
   "cell_type": "code",
   "execution_count": 169,
   "metadata": {
    "collapsed": false
   },
   "outputs": [],
   "source": []
  },
  {
   "cell_type": "code",
   "execution_count": 170,
   "metadata": {
    "collapsed": false
   },
   "outputs": [
    {
     "data": {
      "text/html": [
       "\"thisis_a_test\""
      ],
      "text/latex": [
       "\"thisis\\_a\\_test\""
      ],
      "text/markdown": [
       "\"thisis_a_test\""
      ],
      "text/plain": [
       "[1] \"thisis_a_test\""
      ]
     },
     "metadata": {},
     "output_type": "display_data"
    }
   ],
   "source": []
  },
  {
   "cell_type": "code",
   "execution_count": 172,
   "metadata": {
    "collapsed": false
   },
   "outputs": [
    {
     "data": {
      "text/html": [
       "\"thisisatest\""
      ],
      "text/latex": [
       "\"thisisatest\""
      ],
      "text/markdown": [
       "\"thisisatest\""
      ],
      "text/plain": [
       "[1] \"thisisatest\""
      ]
     },
     "metadata": {},
     "output_type": "display_data"
    }
   ],
   "source": []
  },
  {
   "cell_type": "markdown",
   "metadata": {},
   "source": []
  },
  {
   "cell_type": "code",
   "execution_count": 174,
   "metadata": {
    "collapsed": false
   },
   "outputs": [
    {
     "data": {
      "text/html": [
       "<ol class=list-inline>\n",
       "\t<li>4</li>\n",
       "\t<li>5</li>\n",
       "\t<li>36</li>\n",
       "</ol>\n"
      ],
      "text/latex": [
       "\\begin{enumerate*}\n",
       "\\item 4\n",
       "\\item 5\n",
       "\\item 36\n",
       "\\end{enumerate*}\n"
      ],
      "text/markdown": [
       "1. 4\n",
       "2. 5\n",
       "3. 36\n",
       "\n",
       "\n"
      ],
      "text/plain": [
       "[1]  4  5 36"
      ]
     },
     "metadata": {},
     "output_type": "display_data"
    }
   ],
   "source": []
  },
  {
   "cell_type": "code",
   "execution_count": 176,
   "metadata": {
    "collapsed": false
   },
   "outputs": [
    {
     "data": {
      "text/html": [
       "<ol class=list-inline>\n",
       "\t<li>\"The Alameda  &amp; 33rd St\"</li>\n",
       "\t<li>\"E 33rd  &amp; The Alameda\"</li>\n",
       "\t<li>\"Harford \n",
       " &amp; The Alameda\"</li>\n",
       "</ol>\n"
      ],
      "text/latex": [
       "\\begin{enumerate*}\n",
       "\\item \"The Alameda  \\& 33rd St\"\n",
       "\\item \"E 33rd  \\& The Alameda\"\n",
       "\\item \"Harford \n",
       " \\& The Alameda\"\n",
       "\\end{enumerate*}\n"
      ],
      "text/markdown": [
       "1. \"The Alameda  &amp; 33rd St\"\n",
       "2. \"E 33rd  &amp; The Alameda\"\n",
       "3. \"Harford \n",
       " &amp; The Alameda\"\n",
       "\n",
       "\n"
      ],
      "text/plain": [
       "[1] \"The Alameda  & 33rd St\"   \"E 33rd  & The Alameda\"   \n",
       "[3] \"Harford \\n & The Alameda\""
      ]
     },
     "metadata": {},
     "output_type": "display_data"
    }
   ],
   "source": []
  },
  {
   "cell_type": "code",
   "execution_count": 175,
   "metadata": {
    "collapsed": false
   },
   "outputs": [
    {
     "data": {
      "text/plain": [
       "\n",
       "FALSE  TRUE \n",
       "   77     3 "
      ]
     },
     "metadata": {},
     "output_type": "display_data"
    }
   ],
   "source": []
  },
  {
   "cell_type": "markdown",
   "metadata": {},
   "source": []
  },
  {
   "cell_type": "code",
   "execution_count": 177,
   "metadata": {
    "collapsed": true
   },
   "outputs": [],
   "source": []
  },
  {
   "cell_type": "code",
   "execution_count": 178,
   "metadata": {
    "collapsed": false
   },
   "outputs": [
    {
     "data": {
      "text/html": [
       "11"
      ],
      "text/latex": [
       "11"
      ],
      "text/markdown": [
       "11"
      ],
      "text/plain": [
       "[1] 11"
      ]
     },
     "metadata": {},
     "output_type": "display_data"
    }
   ],
   "source": []
  },
  {
   "cell_type": "code",
   "execution_count": 179,
   "metadata": {
    "collapsed": false
   },
   "outputs": [
    {
     "data": {
      "text/html": [
       "\"Emir\""
      ],
      "text/latex": [
       "\"Emir\""
      ],
      "text/markdown": [
       "\"Emir\""
      ],
      "text/plain": [
       "[1] \"Emir\""
      ]
     },
     "metadata": {},
     "output_type": "display_data"
    }
   ],
   "source": []
  },
  {
   "cell_type": "code",
   "execution_count": 180,
   "metadata": {
    "collapsed": false
   },
   "outputs": [
    {
     "data": {
      "text/html": [
       "\"Emir Lejlic Hello\""
      ],
      "text/latex": [
       "\"Emir Lejlic Hello\""
      ],
      "text/markdown": [
       "\"Emir Lejlic Hello\""
      ],
      "text/plain": [
       "[1] \"Emir Lejlic Hello\""
      ]
     },
     "metadata": {},
     "output_type": "display_data"
    }
   ],
   "source": []
  },
  {
   "cell_type": "code",
   "execution_count": 181,
   "metadata": {
    "collapsed": false
   },
   "outputs": [
    {
     "data": {
      "text/html": [
       "\"EmirLejlicHello\""
      ],
      "text/latex": [
       "\"EmirLejlicHello\""
      ],
      "text/markdown": [
       "\"EmirLejlicHello\""
      ],
      "text/plain": [
       "[1] \"EmirLejlicHello\""
      ]
     },
     "metadata": {},
     "output_type": "display_data"
    }
   ],
   "source": []
  },
  {
   "cell_type": "code",
   "execution_count": 182,
   "metadata": {
    "collapsed": false
   },
   "outputs": [
    {
     "data": {
      "text/html": [
       "\"Emir     Lejlic\""
      ],
      "text/latex": [
       "\"Emir     Lejlic\""
      ],
      "text/markdown": [
       "\"Emir     Lejlic\""
      ],
      "text/plain": [
       "[1] \"Emir     Lejlic\""
      ]
     },
     "metadata": {},
     "output_type": "display_data"
    }
   ],
   "source": []
  },
  {
   "cell_type": "markdown",
   "metadata": {},
   "source": []
  },
  {
   "cell_type": "code",
   "execution_count": 183,
   "metadata": {
    "collapsed": false
   },
   "outputs": [
    {
     "data": {
      "text/html": [
       "\"Wed Oct 19 15:24:38 2016\""
      ],
      "text/latex": [
       "\"Wed Oct 19 15:24:38 2016\""
      ],
      "text/markdown": [
       "\"Wed Oct 19 15:24:38 2016\""
      ],
      "text/plain": [
       "[1] \"Wed Oct 19 15:24:38 2016\""
      ]
     },
     "metadata": {},
     "output_type": "display_data"
    }
   ],
   "source": []
  },
  {
   "cell_type": "code",
   "execution_count": 184,
   "metadata": {
    "collapsed": false
   },
   "outputs": [
    {
     "data": {
      "text/html": [
       "\"character\""
      ],
      "text/latex": [
       "\"character\""
      ],
      "text/markdown": [
       "\"character\""
      ],
      "text/plain": [
       "[1] \"character\""
      ]
     },
     "metadata": {},
     "output_type": "display_data"
    }
   ],
   "source": []
  },
  {
   "cell_type": "code",
   "execution_count": 185,
   "metadata": {
    "collapsed": false
   },
   "outputs": [
    {
     "data": {
      "text/plain": [
       "[1] \"2016-10-19\""
      ]
     },
     "metadata": {},
     "output_type": "display_data"
    }
   ],
   "source": []
  },
  {
   "cell_type": "code",
   "execution_count": 186,
   "metadata": {
    "collapsed": false
   },
   "outputs": [
    {
     "data": {
      "text/html": [
       "\"Date\""
      ],
      "text/latex": [
       "\"Date\""
      ],
      "text/markdown": [
       "\"Date\""
      ],
      "text/plain": [
       "[1] \"Date\""
      ]
     },
     "metadata": {},
     "output_type": "display_data"
    }
   ],
   "source": []
  },
  {
   "cell_type": "code",
   "execution_count": 188,
   "metadata": {
    "collapsed": false
   },
   "outputs": [
    {
     "data": {
      "text/html": [
       "\"19.10.2016\""
      ],
      "text/latex": [
       "\"19.10.2016\""
      ],
      "text/markdown": [
       "\"19.10.2016\""
      ],
      "text/plain": [
       "[1] \"19.10.2016\""
      ]
     },
     "metadata": {},
     "output_type": "display_data"
    }
   ],
   "source": []
  },
  {
   "cell_type": "code",
   "execution_count": null,
   "metadata": {
    "collapsed": true
   },
   "outputs": [],
   "source": []
  }
 ],
 "metadata": {
  "anaconda-cloud": {},
  "kernelspec": {
   "display_name": "R",
   "language": "R",
   "name": "ir"
  },
  "language_info": {
   "codemirror_mode": "r",
   "file_extension": ".r",
   "mimetype": "text/x-r-source",
   "name": "R",
   "pygments_lexer": "r",
   "version": "3.3.1"
  }
 },
 "nbformat": 4,
 "nbformat_minor": 0
}
